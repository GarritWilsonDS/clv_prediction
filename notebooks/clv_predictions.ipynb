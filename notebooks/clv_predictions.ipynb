{
 "cells": [
  {
   "cell_type": "markdown",
   "id": "86671933",
   "metadata": {},
   "source": [
    "# Customer Lifetime Value Predictions\n",
    "\n",
    "In this notebook a machine learning model will be built to predict Customer Lifetime Value (CLV) of an online retail store.\n",
    "\n",
    "Data can be found here:\n",
    "*https://www.kaggle.com/datasets/vijayuv/onlineretail*\n",
    "\n",
    "\n",
    "Step-by-step process:\n",
    "\n",
    "- Define an appropriate time frame for Customer Lifetime Value calculation\n",
    "- Identify the features we are going to use to predict future value and create them\n",
    "- Calculate lifetime value (LTV) for training the machine learning model\n",
    "- Build and run the machine learning model\n",
    "- Check if the model is useful"
   ]
  },
  {
   "cell_type": "code",
   "execution_count": 1,
   "id": "9f5ebc01",
   "metadata": {},
   "outputs": [],
   "source": [
    "import pandas as pd\n",
    "import numpy as np\n",
    "import seaborn as sns\n",
    "import matplotlib.pyplot as plt\n",
    "import math\n",
    "\n",
    "from datetime import datetime, timedelta, date"
   ]
  },
  {
   "cell_type": "markdown",
   "id": "9c5883c8",
   "metadata": {},
   "source": [
    "## Data Import"
   ]
  },
  {
   "cell_type": "code",
   "execution_count": 89,
   "id": "96511202",
   "metadata": {},
   "outputs": [],
   "source": [
    "data = pd.read_csv(\"../data/OnlineRetail.csv\",encoding= 'unicode_escape')"
   ]
  },
  {
   "cell_type": "code",
   "execution_count": 90,
   "id": "1a05a0df",
   "metadata": {},
   "outputs": [
    {
     "data": {
      "text/html": [
       "<div>\n",
       "<style scoped>\n",
       "    .dataframe tbody tr th:only-of-type {\n",
       "        vertical-align: middle;\n",
       "    }\n",
       "\n",
       "    .dataframe tbody tr th {\n",
       "        vertical-align: top;\n",
       "    }\n",
       "\n",
       "    .dataframe thead th {\n",
       "        text-align: right;\n",
       "    }\n",
       "</style>\n",
       "<table border=\"1\" class=\"dataframe\">\n",
       "  <thead>\n",
       "    <tr style=\"text-align: right;\">\n",
       "      <th></th>\n",
       "      <th>InvoiceNo</th>\n",
       "      <th>StockCode</th>\n",
       "      <th>Description</th>\n",
       "      <th>Quantity</th>\n",
       "      <th>InvoiceDate</th>\n",
       "      <th>UnitPrice</th>\n",
       "      <th>CustomerID</th>\n",
       "      <th>Country</th>\n",
       "    </tr>\n",
       "  </thead>\n",
       "  <tbody>\n",
       "    <tr>\n",
       "      <th>0</th>\n",
       "      <td>536365</td>\n",
       "      <td>85123A</td>\n",
       "      <td>WHITE HANGING HEART T-LIGHT HOLDER</td>\n",
       "      <td>6</td>\n",
       "      <td>12/1/2010 8:26</td>\n",
       "      <td>2.55</td>\n",
       "      <td>17850.0</td>\n",
       "      <td>United Kingdom</td>\n",
       "    </tr>\n",
       "    <tr>\n",
       "      <th>1</th>\n",
       "      <td>536365</td>\n",
       "      <td>71053</td>\n",
       "      <td>WHITE METAL LANTERN</td>\n",
       "      <td>6</td>\n",
       "      <td>12/1/2010 8:26</td>\n",
       "      <td>3.39</td>\n",
       "      <td>17850.0</td>\n",
       "      <td>United Kingdom</td>\n",
       "    </tr>\n",
       "    <tr>\n",
       "      <th>2</th>\n",
       "      <td>536365</td>\n",
       "      <td>84406B</td>\n",
       "      <td>CREAM CUPID HEARTS COAT HANGER</td>\n",
       "      <td>8</td>\n",
       "      <td>12/1/2010 8:26</td>\n",
       "      <td>2.75</td>\n",
       "      <td>17850.0</td>\n",
       "      <td>United Kingdom</td>\n",
       "    </tr>\n",
       "    <tr>\n",
       "      <th>3</th>\n",
       "      <td>536365</td>\n",
       "      <td>84029G</td>\n",
       "      <td>KNITTED UNION FLAG HOT WATER BOTTLE</td>\n",
       "      <td>6</td>\n",
       "      <td>12/1/2010 8:26</td>\n",
       "      <td>3.39</td>\n",
       "      <td>17850.0</td>\n",
       "      <td>United Kingdom</td>\n",
       "    </tr>\n",
       "    <tr>\n",
       "      <th>4</th>\n",
       "      <td>536365</td>\n",
       "      <td>84029E</td>\n",
       "      <td>RED WOOLLY HOTTIE WHITE HEART.</td>\n",
       "      <td>6</td>\n",
       "      <td>12/1/2010 8:26</td>\n",
       "      <td>3.39</td>\n",
       "      <td>17850.0</td>\n",
       "      <td>United Kingdom</td>\n",
       "    </tr>\n",
       "  </tbody>\n",
       "</table>\n",
       "</div>"
      ],
      "text/plain": [
       "  InvoiceNo StockCode                          Description  Quantity  \\\n",
       "0    536365    85123A   WHITE HANGING HEART T-LIGHT HOLDER         6   \n",
       "1    536365     71053                  WHITE METAL LANTERN         6   \n",
       "2    536365    84406B       CREAM CUPID HEARTS COAT HANGER         8   \n",
       "3    536365    84029G  KNITTED UNION FLAG HOT WATER BOTTLE         6   \n",
       "4    536365    84029E       RED WOOLLY HOTTIE WHITE HEART.         6   \n",
       "\n",
       "      InvoiceDate  UnitPrice  CustomerID         Country  \n",
       "0  12/1/2010 8:26       2.55     17850.0  United Kingdom  \n",
       "1  12/1/2010 8:26       3.39     17850.0  United Kingdom  \n",
       "2  12/1/2010 8:26       2.75     17850.0  United Kingdom  \n",
       "3  12/1/2010 8:26       3.39     17850.0  United Kingdom  \n",
       "4  12/1/2010 8:26       3.39     17850.0  United Kingdom  "
      ]
     },
     "execution_count": 90,
     "metadata": {},
     "output_type": "execute_result"
    }
   ],
   "source": [
    "data.head()"
   ]
  },
  {
   "cell_type": "code",
   "execution_count": 91,
   "id": "517b4f58",
   "metadata": {},
   "outputs": [
    {
     "data": {
      "text/plain": [
       "(541909, 8)"
      ]
     },
     "execution_count": 91,
     "metadata": {},
     "output_type": "execute_result"
    }
   ],
   "source": [
    "data.shape"
   ]
  },
  {
   "cell_type": "code",
   "execution_count": 92,
   "id": "539fa490",
   "metadata": {},
   "outputs": [
    {
     "data": {
      "text/plain": [
       "InvoiceNo       object\n",
       "StockCode       object\n",
       "Description     object\n",
       "Quantity         int64\n",
       "InvoiceDate     object\n",
       "UnitPrice      float64\n",
       "CustomerID     float64\n",
       "Country         object\n",
       "dtype: object"
      ]
     },
     "execution_count": 92,
     "metadata": {},
     "output_type": "execute_result"
    }
   ],
   "source": [
    "data.dtypes"
   ]
  },
  {
   "cell_type": "markdown",
   "id": "0502eb02",
   "metadata": {},
   "source": [
    "## Data Cleaning\n",
    "\n",
    "Cleaning data"
   ]
  },
  {
   "cell_type": "markdown",
   "id": "d3f3a550",
   "metadata": {},
   "source": [
    "### Missing Values"
   ]
  },
  {
   "cell_type": "code",
   "execution_count": 5,
   "id": "d226a448",
   "metadata": {},
   "outputs": [
    {
     "data": {
      "text/plain": [
       "InvoiceNo           0\n",
       "StockCode           0\n",
       "Description      1454\n",
       "Quantity            0\n",
       "InvoiceDate         0\n",
       "UnitPrice           0\n",
       "CustomerID     135080\n",
       "Country             0\n",
       "dtype: int64"
      ]
     },
     "execution_count": 5,
     "metadata": {},
     "output_type": "execute_result"
    }
   ],
   "source": [
    "data.isnull().sum()"
   ]
  },
  {
   "cell_type": "code",
   "execution_count": 6,
   "id": "c048007c",
   "metadata": {},
   "outputs": [
    {
     "data": {
      "text/html": [
       "<div>\n",
       "<style scoped>\n",
       "    .dataframe tbody tr th:only-of-type {\n",
       "        vertical-align: middle;\n",
       "    }\n",
       "\n",
       "    .dataframe tbody tr th {\n",
       "        vertical-align: top;\n",
       "    }\n",
       "\n",
       "    .dataframe thead th {\n",
       "        text-align: right;\n",
       "    }\n",
       "</style>\n",
       "<table border=\"1\" class=\"dataframe\">\n",
       "  <thead>\n",
       "    <tr style=\"text-align: right;\">\n",
       "      <th></th>\n",
       "      <th>InvoiceNo</th>\n",
       "      <th>StockCode</th>\n",
       "      <th>Description</th>\n",
       "      <th>Quantity</th>\n",
       "      <th>InvoiceDate</th>\n",
       "      <th>UnitPrice</th>\n",
       "      <th>CustomerID</th>\n",
       "      <th>Country</th>\n",
       "    </tr>\n",
       "  </thead>\n",
       "  <tbody>\n",
       "    <tr>\n",
       "      <th>541536</th>\n",
       "      <td>581498</td>\n",
       "      <td>85099B</td>\n",
       "      <td>JUMBO BAG RED RETROSPOT</td>\n",
       "      <td>5</td>\n",
       "      <td>12/9/2011 10:26</td>\n",
       "      <td>4.13</td>\n",
       "      <td>NaN</td>\n",
       "      <td>United Kingdom</td>\n",
       "    </tr>\n",
       "    <tr>\n",
       "      <th>541537</th>\n",
       "      <td>581498</td>\n",
       "      <td>85099C</td>\n",
       "      <td>JUMBO  BAG BAROQUE BLACK WHITE</td>\n",
       "      <td>4</td>\n",
       "      <td>12/9/2011 10:26</td>\n",
       "      <td>4.13</td>\n",
       "      <td>NaN</td>\n",
       "      <td>United Kingdom</td>\n",
       "    </tr>\n",
       "    <tr>\n",
       "      <th>541538</th>\n",
       "      <td>581498</td>\n",
       "      <td>85150</td>\n",
       "      <td>LADIES &amp; GENTLEMEN METAL SIGN</td>\n",
       "      <td>1</td>\n",
       "      <td>12/9/2011 10:26</td>\n",
       "      <td>4.96</td>\n",
       "      <td>NaN</td>\n",
       "      <td>United Kingdom</td>\n",
       "    </tr>\n",
       "    <tr>\n",
       "      <th>541539</th>\n",
       "      <td>581498</td>\n",
       "      <td>85174</td>\n",
       "      <td>S/4 CACTI CANDLES</td>\n",
       "      <td>1</td>\n",
       "      <td>12/9/2011 10:26</td>\n",
       "      <td>10.79</td>\n",
       "      <td>NaN</td>\n",
       "      <td>United Kingdom</td>\n",
       "    </tr>\n",
       "    <tr>\n",
       "      <th>541540</th>\n",
       "      <td>581498</td>\n",
       "      <td>DOT</td>\n",
       "      <td>DOTCOM POSTAGE</td>\n",
       "      <td>1</td>\n",
       "      <td>12/9/2011 10:26</td>\n",
       "      <td>1714.17</td>\n",
       "      <td>NaN</td>\n",
       "      <td>United Kingdom</td>\n",
       "    </tr>\n",
       "  </tbody>\n",
       "</table>\n",
       "</div>"
      ],
      "text/plain": [
       "       InvoiceNo StockCode                     Description  Quantity  \\\n",
       "541536    581498    85099B         JUMBO BAG RED RETROSPOT         5   \n",
       "541537    581498    85099C  JUMBO  BAG BAROQUE BLACK WHITE         4   \n",
       "541538    581498     85150   LADIES & GENTLEMEN METAL SIGN         1   \n",
       "541539    581498     85174               S/4 CACTI CANDLES         1   \n",
       "541540    581498       DOT                  DOTCOM POSTAGE         1   \n",
       "\n",
       "            InvoiceDate  UnitPrice  CustomerID         Country  \n",
       "541536  12/9/2011 10:26       4.13         NaN  United Kingdom  \n",
       "541537  12/9/2011 10:26       4.13         NaN  United Kingdom  \n",
       "541538  12/9/2011 10:26       4.96         NaN  United Kingdom  \n",
       "541539  12/9/2011 10:26      10.79         NaN  United Kingdom  \n",
       "541540  12/9/2011 10:26    1714.17         NaN  United Kingdom  "
      ]
     },
     "execution_count": 6,
     "metadata": {},
     "output_type": "execute_result"
    }
   ],
   "source": [
    "data.loc[data.CustomerID.isnull() == True].tail()"
   ]
  },
  {
   "cell_type": "code",
   "execution_count": 7,
   "id": "8dd0ac3a",
   "metadata": {},
   "outputs": [],
   "source": [
    "data.dropna(axis=0, inplace= True)"
   ]
  },
  {
   "cell_type": "code",
   "execution_count": 8,
   "id": "ff4c1353",
   "metadata": {},
   "outputs": [
    {
     "data": {
      "text/plain": [
       "(406829, 8)"
      ]
     },
     "execution_count": 8,
     "metadata": {},
     "output_type": "execute_result"
    }
   ],
   "source": [
    "data.shape"
   ]
  },
  {
   "cell_type": "markdown",
   "id": "3c2a52e5",
   "metadata": {},
   "source": [
    "### Duplicates"
   ]
  },
  {
   "cell_type": "code",
   "execution_count": 9,
   "id": "dc107b09",
   "metadata": {},
   "outputs": [
    {
     "data": {
      "text/plain": [
       "5225"
      ]
     },
     "execution_count": 9,
     "metadata": {},
     "output_type": "execute_result"
    }
   ],
   "source": [
    "## assessing the nr. of duplicates in the dataset\n",
    "data.duplicated().sum()"
   ]
  },
  {
   "cell_type": "code",
   "execution_count": 10,
   "id": "367063a3",
   "metadata": {},
   "outputs": [
    {
     "data": {
      "text/html": [
       "<div>\n",
       "<style scoped>\n",
       "    .dataframe tbody tr th:only-of-type {\n",
       "        vertical-align: middle;\n",
       "    }\n",
       "\n",
       "    .dataframe tbody tr th {\n",
       "        vertical-align: top;\n",
       "    }\n",
       "\n",
       "    .dataframe thead th {\n",
       "        text-align: right;\n",
       "    }\n",
       "</style>\n",
       "<table border=\"1\" class=\"dataframe\">\n",
       "  <thead>\n",
       "    <tr style=\"text-align: right;\">\n",
       "      <th></th>\n",
       "      <th>InvoiceNo</th>\n",
       "      <th>StockCode</th>\n",
       "      <th>Description</th>\n",
       "      <th>Quantity</th>\n",
       "      <th>InvoiceDate</th>\n",
       "      <th>UnitPrice</th>\n",
       "      <th>CustomerID</th>\n",
       "      <th>Country</th>\n",
       "    </tr>\n",
       "  </thead>\n",
       "  <tbody>\n",
       "    <tr>\n",
       "      <th>541675</th>\n",
       "      <td>581538</td>\n",
       "      <td>22068</td>\n",
       "      <td>BLACK PIRATE TREASURE CHEST</td>\n",
       "      <td>1</td>\n",
       "      <td>12/9/2011 11:34</td>\n",
       "      <td>0.39</td>\n",
       "      <td>14446.0</td>\n",
       "      <td>United Kingdom</td>\n",
       "    </tr>\n",
       "    <tr>\n",
       "      <th>541689</th>\n",
       "      <td>581538</td>\n",
       "      <td>23318</td>\n",
       "      <td>BOX OF 6 MINI VINTAGE CRACKERS</td>\n",
       "      <td>1</td>\n",
       "      <td>12/9/2011 11:34</td>\n",
       "      <td>2.49</td>\n",
       "      <td>14446.0</td>\n",
       "      <td>United Kingdom</td>\n",
       "    </tr>\n",
       "    <tr>\n",
       "      <th>541692</th>\n",
       "      <td>581538</td>\n",
       "      <td>22992</td>\n",
       "      <td>REVOLVER WOODEN RULER</td>\n",
       "      <td>1</td>\n",
       "      <td>12/9/2011 11:34</td>\n",
       "      <td>1.95</td>\n",
       "      <td>14446.0</td>\n",
       "      <td>United Kingdom</td>\n",
       "    </tr>\n",
       "    <tr>\n",
       "      <th>541699</th>\n",
       "      <td>581538</td>\n",
       "      <td>22694</td>\n",
       "      <td>WICKER STAR</td>\n",
       "      <td>1</td>\n",
       "      <td>12/9/2011 11:34</td>\n",
       "      <td>2.10</td>\n",
       "      <td>14446.0</td>\n",
       "      <td>United Kingdom</td>\n",
       "    </tr>\n",
       "    <tr>\n",
       "      <th>541701</th>\n",
       "      <td>581538</td>\n",
       "      <td>23343</td>\n",
       "      <td>JUMBO BAG VINTAGE CHRISTMAS</td>\n",
       "      <td>1</td>\n",
       "      <td>12/9/2011 11:34</td>\n",
       "      <td>2.08</td>\n",
       "      <td>14446.0</td>\n",
       "      <td>United Kingdom</td>\n",
       "    </tr>\n",
       "  </tbody>\n",
       "</table>\n",
       "</div>"
      ],
      "text/plain": [
       "       InvoiceNo StockCode                     Description  Quantity  \\\n",
       "541675    581538     22068     BLACK PIRATE TREASURE CHEST         1   \n",
       "541689    581538     23318  BOX OF 6 MINI VINTAGE CRACKERS         1   \n",
       "541692    581538     22992          REVOLVER WOODEN RULER          1   \n",
       "541699    581538     22694                    WICKER STAR          1   \n",
       "541701    581538     23343    JUMBO BAG VINTAGE CHRISTMAS          1   \n",
       "\n",
       "            InvoiceDate  UnitPrice  CustomerID         Country  \n",
       "541675  12/9/2011 11:34       0.39     14446.0  United Kingdom  \n",
       "541689  12/9/2011 11:34       2.49     14446.0  United Kingdom  \n",
       "541692  12/9/2011 11:34       1.95     14446.0  United Kingdom  \n",
       "541699  12/9/2011 11:34       2.10     14446.0  United Kingdom  \n",
       "541701  12/9/2011 11:34       2.08     14446.0  United Kingdom  "
      ]
     },
     "execution_count": 10,
     "metadata": {},
     "output_type": "execute_result"
    }
   ],
   "source": [
    "data.loc[data.duplicated() == True].tail()"
   ]
  },
  {
   "cell_type": "markdown",
   "id": "665cf765",
   "metadata": {},
   "source": [
    "The rows which are denoted as duplicates are sufficiently dissimilar to be valid data entries, and are therefore kept in the data."
   ]
  },
  {
   "cell_type": "markdown",
   "id": "3459544c",
   "metadata": {},
   "source": [
    "### Outliers"
   ]
  },
  {
   "cell_type": "code",
   "execution_count": 11,
   "id": "7d25a2e1",
   "metadata": {},
   "outputs": [
    {
     "data": {
      "image/png": "[encoded data removed]",
      "text/plain": [
       "<Figure size 720x360 with 1 Axes>"
      ]
     },
     "metadata": {
      "needs_background": "light"
     },
     "output_type": "display_data"
    }
   ],
   "source": [
    "## Inspecting Outliers in Quantity\n",
    "plt.figure(figsize= (10,5))\n",
    "plt.boxplot(data.Quantity, vert= False);"
   ]
  },
  {
   "cell_type": "code",
   "execution_count": 12,
   "id": "8ce4cd93",
   "metadata": {},
   "outputs": [
    {
     "data": {
      "text/html": [
       "<div>\n",
       "<style scoped>\n",
       "    .dataframe tbody tr th:only-of-type {\n",
       "        vertical-align: middle;\n",
       "    }\n",
       "\n",
       "    .dataframe tbody tr th {\n",
       "        vertical-align: top;\n",
       "    }\n",
       "\n",
       "    .dataframe thead th {\n",
       "        text-align: right;\n",
       "    }\n",
       "</style>\n",
       "<table border=\"1\" class=\"dataframe\">\n",
       "  <thead>\n",
       "    <tr style=\"text-align: right;\">\n",
       "      <th></th>\n",
       "      <th>InvoiceNo</th>\n",
       "      <th>StockCode</th>\n",
       "      <th>Description</th>\n",
       "      <th>Quantity</th>\n",
       "      <th>InvoiceDate</th>\n",
       "      <th>UnitPrice</th>\n",
       "      <th>CustomerID</th>\n",
       "      <th>Country</th>\n",
       "    </tr>\n",
       "  </thead>\n",
       "  <tbody>\n",
       "    <tr>\n",
       "      <th>540421</th>\n",
       "      <td>581483</td>\n",
       "      <td>23843</td>\n",
       "      <td>PAPER CRAFT , LITTLE BIRDIE</td>\n",
       "      <td>80995</td>\n",
       "      <td>12/9/2011 9:15</td>\n",
       "      <td>2.08</td>\n",
       "      <td>16446.0</td>\n",
       "      <td>United Kingdom</td>\n",
       "    </tr>\n",
       "    <tr>\n",
       "      <th>61619</th>\n",
       "      <td>541431</td>\n",
       "      <td>23166</td>\n",
       "      <td>MEDIUM CERAMIC TOP STORAGE JAR</td>\n",
       "      <td>74215</td>\n",
       "      <td>1/18/2011 10:01</td>\n",
       "      <td>1.04</td>\n",
       "      <td>12346.0</td>\n",
       "      <td>United Kingdom</td>\n",
       "    </tr>\n",
       "  </tbody>\n",
       "</table>\n",
       "</div>"
      ],
      "text/plain": [
       "       InvoiceNo StockCode                     Description  Quantity  \\\n",
       "540421    581483     23843     PAPER CRAFT , LITTLE BIRDIE     80995   \n",
       "61619     541431     23166  MEDIUM CERAMIC TOP STORAGE JAR     74215   \n",
       "\n",
       "            InvoiceDate  UnitPrice  CustomerID         Country  \n",
       "540421   12/9/2011 9:15       2.08     16446.0  United Kingdom  \n",
       "61619   1/18/2011 10:01       1.04     12346.0  United Kingdom  "
      ]
     },
     "execution_count": 12,
     "metadata": {},
     "output_type": "execute_result"
    }
   ],
   "source": [
    "## inspecting the orders with the highest quantity\n",
    "data.sort_values(by=\"Quantity\", ascending=False).head(2)"
   ]
  },
  {
   "cell_type": "markdown",
   "id": "f245cefa",
   "metadata": {},
   "source": [
    "As there is no Information regarding whether the orders are valid or not, they will be dropped, in order not to skew the rest of the data."
   ]
  },
  {
   "cell_type": "code",
   "execution_count": 13,
   "id": "7d76d8ef",
   "metadata": {},
   "outputs": [],
   "source": [
    "## dropping rows where Quantity is negative, as well as outliers in quantity\n",
    "idx = data.loc[data.Quantity < 0].index\n",
    "\n",
    "data.drop(idx, inplace= True)\n",
    "\n",
    "idx = data.sort_values(by=\"Quantity\", ascending=False).head(2).index\n",
    "\n",
    "data.drop(idx, inplace= True)"
   ]
  },
  {
   "cell_type": "code",
   "execution_count": 14,
   "id": "ae5543d4",
   "metadata": {},
   "outputs": [
    {
     "data": {
      "image/png": "[encoded data removed]",
      "text/plain": [
       "<Figure size 720x360 with 1 Axes>"
      ]
     },
     "metadata": {
      "needs_background": "light"
     },
     "output_type": "display_data"
    }
   ],
   "source": [
    "## Inspecting outliers in UnitPrice\n",
    "plt.figure(figsize= (10,5))\n",
    "plt.boxplot(data.UnitPrice, vert= False);"
   ]
  },
  {
   "cell_type": "code",
   "execution_count": 15,
   "id": "952d200f",
   "metadata": {},
   "outputs": [
    {
     "data": {
      "text/html": [
       "<div>\n",
       "<style scoped>\n",
       "    .dataframe tbody tr th:only-of-type {\n",
       "        vertical-align: middle;\n",
       "    }\n",
       "\n",
       "    .dataframe tbody tr th {\n",
       "        vertical-align: top;\n",
       "    }\n",
       "\n",
       "    .dataframe thead th {\n",
       "        text-align: right;\n",
       "    }\n",
       "</style>\n",
       "<table border=\"1\" class=\"dataframe\">\n",
       "  <thead>\n",
       "    <tr style=\"text-align: right;\">\n",
       "      <th></th>\n",
       "      <th>InvoiceNo</th>\n",
       "      <th>StockCode</th>\n",
       "      <th>Description</th>\n",
       "      <th>Quantity</th>\n",
       "      <th>InvoiceDate</th>\n",
       "      <th>UnitPrice</th>\n",
       "      <th>CustomerID</th>\n",
       "      <th>Country</th>\n",
       "    </tr>\n",
       "  </thead>\n",
       "  <tbody>\n",
       "    <tr>\n",
       "      <th>173382</th>\n",
       "      <td>551697</td>\n",
       "      <td>POST</td>\n",
       "      <td>POSTAGE</td>\n",
       "      <td>1</td>\n",
       "      <td>5/3/2011 13:46</td>\n",
       "      <td>8142.75</td>\n",
       "      <td>16029.0</td>\n",
       "      <td>United Kingdom</td>\n",
       "    </tr>\n",
       "  </tbody>\n",
       "</table>\n",
       "</div>"
      ],
      "text/plain": [
       "       InvoiceNo StockCode Description  Quantity     InvoiceDate  UnitPrice  \\\n",
       "173382    551697      POST     POSTAGE         1  5/3/2011 13:46    8142.75   \n",
       "\n",
       "        CustomerID         Country  \n",
       "173382     16029.0  United Kingdom  "
      ]
     },
     "execution_count": 15,
     "metadata": {},
     "output_type": "execute_result"
    }
   ],
   "source": [
    "data.loc[data.UnitPrice == data.UnitPrice.max()]"
   ]
  },
  {
   "cell_type": "markdown",
   "id": "14a6e921",
   "metadata": {},
   "source": [
    "As there is no information regarding validity of the unit prices, and they appear reasonable, they will be left in the data."
   ]
  },
  {
   "cell_type": "code",
   "execution_count": 16,
   "id": "aefad7a3",
   "metadata": {},
   "outputs": [],
   "source": [
    "## changing InvoiceDate data type to datetime\n",
    "data[\"InvoiceDate\"] = pd.to_datetime(data.InvoiceDate)"
   ]
  },
  {
   "cell_type": "code",
   "execution_count": 17,
   "id": "1099f52b",
   "metadata": {},
   "outputs": [
    {
     "data": {
      "text/plain": [
       "InvoiceNo              object\n",
       "StockCode              object\n",
       "Description            object\n",
       "Quantity                int64\n",
       "InvoiceDate    datetime64[ns]\n",
       "UnitPrice             float64\n",
       "CustomerID            float64\n",
       "Country                object\n",
       "dtype: object"
      ]
     },
     "execution_count": 17,
     "metadata": {},
     "output_type": "execute_result"
    }
   ],
   "source": [
    "data.dtypes"
   ]
  },
  {
   "cell_type": "markdown",
   "id": "6e4b6b6d",
   "metadata": {},
   "source": [
    "## Data Exploration\n",
    "\n",
    "Exploring statistical trends and distributions"
   ]
  },
  {
   "cell_type": "code",
   "execution_count": 18,
   "id": "a6fedb07",
   "metadata": {},
   "outputs": [
    {
     "data": {
      "text/html": [
       "<div>\n",
       "<style scoped>\n",
       "    .dataframe tbody tr th:only-of-type {\n",
       "        vertical-align: middle;\n",
       "    }\n",
       "\n",
       "    .dataframe tbody tr th {\n",
       "        vertical-align: top;\n",
       "    }\n",
       "\n",
       "    .dataframe thead th {\n",
       "        text-align: right;\n",
       "    }\n",
       "</style>\n",
       "<table border=\"1\" class=\"dataframe\">\n",
       "  <thead>\n",
       "    <tr style=\"text-align: right;\">\n",
       "      <th></th>\n",
       "      <th>InvoiceNo</th>\n",
       "      <th>StockCode</th>\n",
       "      <th>Description</th>\n",
       "      <th>Quantity</th>\n",
       "      <th>InvoiceDate</th>\n",
       "      <th>UnitPrice</th>\n",
       "      <th>CustomerID</th>\n",
       "      <th>Country</th>\n",
       "    </tr>\n",
       "  </thead>\n",
       "  <tbody>\n",
       "    <tr>\n",
       "      <th>0</th>\n",
       "      <td>536365</td>\n",
       "      <td>85123A</td>\n",
       "      <td>WHITE HANGING HEART T-LIGHT HOLDER</td>\n",
       "      <td>6</td>\n",
       "      <td>2010-12-01 08:26:00</td>\n",
       "      <td>2.55</td>\n",
       "      <td>17850.0</td>\n",
       "      <td>United Kingdom</td>\n",
       "    </tr>\n",
       "    <tr>\n",
       "      <th>1</th>\n",
       "      <td>536365</td>\n",
       "      <td>71053</td>\n",
       "      <td>WHITE METAL LANTERN</td>\n",
       "      <td>6</td>\n",
       "      <td>2010-12-01 08:26:00</td>\n",
       "      <td>3.39</td>\n",
       "      <td>17850.0</td>\n",
       "      <td>United Kingdom</td>\n",
       "    </tr>\n",
       "    <tr>\n",
       "      <th>2</th>\n",
       "      <td>536365</td>\n",
       "      <td>84406B</td>\n",
       "      <td>CREAM CUPID HEARTS COAT HANGER</td>\n",
       "      <td>8</td>\n",
       "      <td>2010-12-01 08:26:00</td>\n",
       "      <td>2.75</td>\n",
       "      <td>17850.0</td>\n",
       "      <td>United Kingdom</td>\n",
       "    </tr>\n",
       "  </tbody>\n",
       "</table>\n",
       "</div>"
      ],
      "text/plain": [
       "  InvoiceNo StockCode                         Description  Quantity  \\\n",
       "0    536365    85123A  WHITE HANGING HEART T-LIGHT HOLDER         6   \n",
       "1    536365     71053                 WHITE METAL LANTERN         6   \n",
       "2    536365    84406B      CREAM CUPID HEARTS COAT HANGER         8   \n",
       "\n",
       "          InvoiceDate  UnitPrice  CustomerID         Country  \n",
       "0 2010-12-01 08:26:00       2.55     17850.0  United Kingdom  \n",
       "1 2010-12-01 08:26:00       3.39     17850.0  United Kingdom  \n",
       "2 2010-12-01 08:26:00       2.75     17850.0  United Kingdom  "
      ]
     },
     "execution_count": 18,
     "metadata": {},
     "output_type": "execute_result"
    }
   ],
   "source": [
    "data.head(3)"
   ]
  },
  {
   "cell_type": "code",
   "execution_count": 19,
   "id": "757a7931",
   "metadata": {},
   "outputs": [
    {
     "data": {
      "text/plain": [
       "count    397922.000000\n",
       "mean         12.631837\n",
       "std          47.263643\n",
       "min           1.000000\n",
       "25%           2.000000\n",
       "50%           6.000000\n",
       "75%          12.000000\n",
       "max       12540.000000\n",
       "Name: Quantity, dtype: float64"
      ]
     },
     "execution_count": 19,
     "metadata": {},
     "output_type": "execute_result"
    }
   ],
   "source": [
    "## showing a statistical summary of the distribution of Quantity\n",
    "data.Quantity.describe()"
   ]
  },
  {
   "cell_type": "code",
   "execution_count": 20,
   "id": "97cfb4d7",
   "metadata": {},
   "outputs": [
    {
     "name": "stdout",
     "output_type": "stream",
     "text": [
      "\n",
      "There are, in total, 4338 customers.\n",
      "\n"
     ]
    }
   ],
   "source": [
    "## inspecting the amount of individual customers\n",
    "print(f\"\\nThere are, in total, {len(data.CustomerID.unique())} customers.\\n\")"
   ]
  },
  {
   "cell_type": "code",
   "execution_count": 21,
   "id": "287443ba",
   "metadata": {},
   "outputs": [
    {
     "data": {
      "image/png": "[encoded data removed]",
      "text/plain": [
       "<Figure size 1080x504 with 1 Axes>"
      ]
     },
     "metadata": {
      "needs_background": "light"
     },
     "output_type": "display_data"
    }
   ],
   "source": [
    "## inspecting country of origin of the customers\n",
    "plt.figure(figsize=(15,7))\n",
    "data.Country.value_counts().plot(kind=\"bar\")\n",
    "plt.title(\"Country of origin of customers\", size=20)\n",
    "plt.xticks(rotation=80);"
   ]
  },
  {
   "cell_type": "code",
   "execution_count": 22,
   "id": "9ff57b12",
   "metadata": {},
   "outputs": [
    {
     "name": "stdout",
     "output_type": "stream",
     "text": [
      "\n",
      "Orders in the dataset range from 2010-12-01 to 2011-12-09\n",
      "\n"
     ]
    }
   ],
   "source": [
    "## inspecting the timeframe of the dataset\n",
    "\n",
    "earliest_date = data.InvoiceDate.min().date()\n",
    "latest_date = data.InvoiceDate.max().date()\n",
    "\n",
    "print(f\"\\nOrders in the dataset range from {earliest_date} to {latest_date}\\n\")"
   ]
  },
  {
   "cell_type": "code",
   "execution_count": 23,
   "id": "2654b097",
   "metadata": {},
   "outputs": [
    {
     "data": {
      "image/png": "[encoded data removed]",
      "text/plain": [
       "<Figure size 1440x720 with 1 Axes>"
      ]
     },
     "metadata": {
      "needs_background": "light"
     },
     "output_type": "display_data"
    }
   ],
   "source": [
    "## inspecting amount of orders per day\n",
    "date_df = data.copy()\n",
    "\n",
    "date_df[\"date\"] = date_df[\"InvoiceDate\"].apply(lambda x: x.date())\n",
    "\n",
    "date_df = pd.DataFrame(date_df.groupby(\"date\")[\"Quantity\"].sum()).reset_index().sort_values(by=\"date\")\n",
    "\n",
    "## plotting the distribution\n",
    "plt.figure(figsize=(20,10))\n",
    "plt.plot(date_df.date, date_df.Quantity, c= \"forestgreen\")\n",
    "plt.title(\"Amount of orders per day\", size=20)\n",
    "plt.xticks(size=15)\n",
    "plt.ylabel(\"Amount of orders\", size=13);"
   ]
  },
  {
   "cell_type": "markdown",
   "id": "4495236d",
   "metadata": {},
   "source": [
    "### Calculating Revenue"
   ]
  },
  {
   "cell_type": "code",
   "execution_count": 24,
   "id": "7bf98c8d",
   "metadata": {},
   "outputs": [],
   "source": [
    "## calculating revenue as sum of quantity and unit price per order\n",
    "data[\"Revenue\"] = data[\"Quantity\"] * data[\"UnitPrice\"]"
   ]
  },
  {
   "cell_type": "markdown",
   "id": "03e6a18b",
   "metadata": {},
   "source": [
    "## Customer Segmentation\n",
    "\n",
    "This section segments customers into clusters based on Recency, Frequency and Monetary Value.\n",
    "\n",
    "These features will then be used to forecast CLV.\n",
    "\n",
    "In the first step, only the 3 months of data will be analysed and processed, which will then be used to predict the next 6 months."
   ]
  },
  {
   "cell_type": "code",
   "execution_count": 25,
   "id": "7910c6a3",
   "metadata": {},
   "outputs": [
    {
     "name": "stderr",
     "output_type": "stream",
     "text": [
      "/var/folders/2s/hl8h12kx35b4f1bh9818nxj00000gn/T/ipykernel_6767/1618497306.py:1: FutureWarning: Treating datetime data as categorical rather than numeric in `.describe` is deprecated and will be removed in a future version of pandas. Specify `datetime_is_numeric=True` to silence this warning and adopt the future behavior now.\n",
      "  data.InvoiceDate.describe()\n"
     ]
    },
    {
     "data": {
      "text/plain": [
       "count                  397922\n",
       "unique                  17284\n",
       "top       2011-11-14 15:27:00\n",
       "freq                      542\n",
       "first     2010-12-01 08:26:00\n",
       "last      2011-12-09 12:50:00\n",
       "Name: InvoiceDate, dtype: object"
      ]
     },
     "execution_count": 25,
     "metadata": {},
     "output_type": "execute_result"
    }
   ],
   "source": [
    "data.InvoiceDate.describe()"
   ]
  },
  {
   "cell_type": "code",
   "execution_count": 26,
   "id": "507c4357",
   "metadata": {},
   "outputs": [],
   "source": [
    "## making 3 - months and 6 - months dataframes\n",
    "data_3m = data[(data.InvoiceDate.dt.date < date(2011,6,1)) & (data.InvoiceDate.dt.date >= date(2011,3,1))].reset_index()\n",
    "data_6m = data[(data.InvoiceDate.dt.date >= date(2011,6,1)) & (data.InvoiceDate.dt.date < date(2011,12,1))].reset_index()"
   ]
  },
  {
   "cell_type": "markdown",
   "id": "2f7ace58",
   "metadata": {},
   "source": [
    "### Calculating *Recency*\n",
    "\n",
    "Finding out most recent purchase date for each customer, and see how many days they have been inactive for.\n",
    "\n",
    "Afterwards, k-Means clustering will be applied to assign a *recency score*."
   ]
  },
  {
   "cell_type": "code",
   "execution_count": 27,
   "id": "68793fd3",
   "metadata": {},
   "outputs": [],
   "source": [
    "## creating a new dataframe using customer ID\n",
    "user_df = pd.DataFrame(data_3m.CustomerID.unique(), columns= [\"CustomerID\"])"
   ]
  },
  {
   "cell_type": "code",
   "execution_count": 28,
   "id": "fa17c65f",
   "metadata": {},
   "outputs": [],
   "source": [
    "## get the latest purchase date for each customer and assign it to a new column\n",
    "latest_purchase_df = pd.DataFrame(data_3m.groupby(\"CustomerID\").InvoiceDate.max().reset_index())\n",
    "latest_purchase_df.columns = [\"CustomerID\", \"LatestPurchaseDate\"]"
   ]
  },
  {
   "cell_type": "code",
   "execution_count": 29,
   "id": "0927ce1e",
   "metadata": {},
   "outputs": [],
   "source": [
    "## calculate difference between observation date (overall latest invoice date) \n",
    "## and latest invoice date per customer\n",
    "latest_purchase_df[\"Recency\"] = (data_3m.InvoiceDate.max() - latest_purchase_df[\"LatestPurchaseDate\"]).dt.days"
   ]
  },
  {
   "cell_type": "code",
   "execution_count": 30,
   "id": "543999ee",
   "metadata": {},
   "outputs": [],
   "source": [
    "## merge the dataframe\n",
    "recency_df = pd.merge(user_df, latest_purchase_df[[\"CustomerID\", \"Recency\"]], on=\"CustomerID\")"
   ]
  },
  {
   "cell_type": "code",
   "execution_count": 31,
   "id": "925382a9",
   "metadata": {},
   "outputs": [
    {
     "data": {
      "image/png": "[encoded data removed]",
      "text/plain": [
       "<Figure size 1080x504 with 1 Axes>"
      ]
     },
     "metadata": {
      "needs_background": "light"
     },
     "output_type": "display_data"
    }
   ],
   "source": [
    "## plotting recency\n",
    "plt.figure(figsize=(15,7))\n",
    "sns.histplot(data=recency_df.Recency, bins=50)\n",
    "plt.title(\"Distribution of Recency Data\", size=15);"
   ]
  },
  {
   "cell_type": "code",
   "execution_count": 32,
   "id": "09a92196",
   "metadata": {},
   "outputs": [
    {
     "data": {
      "text/plain": [
       "count    1993.000000\n",
       "mean       35.801305\n",
       "std        26.042012\n",
       "min         0.000000\n",
       "25%        13.000000\n",
       "50%        27.000000\n",
       "75%        56.000000\n",
       "max        91.000000\n",
       "Name: Recency, dtype: float64"
      ]
     },
     "execution_count": 32,
     "metadata": {},
     "output_type": "execute_result"
    }
   ],
   "source": [
    "## statistical summary of recency data\n",
    "recency_df.Recency.describe()"
   ]
  },
  {
   "cell_type": "code",
   "execution_count": 33,
   "id": "0e99c635",
   "metadata": {},
   "outputs": [],
   "source": [
    "## applying K-Means Clustering\n",
    "from sklearn.cluster import KMeans\n",
    "\n",
    "sse= {}\n",
    "recency = recency_df[[\"Recency\"]]\n",
    "for k in range(1,10):\n",
    "    kmeans = KMeans(n_clusters=k, max_iter=1000).fit(recency)\n",
    "    recency[\"clusters\"] = kmeans.labels_\n",
    "    sse[k] = kmeans.inertia_"
   ]
  },
  {
   "cell_type": "code",
   "execution_count": 34,
   "id": "b066c6b4",
   "metadata": {},
   "outputs": [
    {
     "data": {
      "image/png": "[encoded data removed]",
      "text/plain": [
       "<Figure size 720x432 with 1 Axes>"
      ]
     },
     "metadata": {
      "needs_background": "light"
     },
     "output_type": "display_data"
    }
   ],
   "source": [
    "## plotting inertia to determine optimal nr. of clusters\n",
    "plt.figure(figsize=(10,6))\n",
    "plt.plot(list(sse.keys()), list(sse.values()))\n",
    "plt.xlabel(\"Number of clusters\")\n",
    "plt.title(\"Inertia of KMeans Clustering for Recency\", size=15);"
   ]
  },
  {
   "cell_type": "markdown",
   "id": "642f7f79",
   "metadata": {},
   "source": [
    "According to the inertia graph, 3 appears to be the optimal number of clusters."
   ]
  },
  {
   "cell_type": "code",
   "execution_count": 35,
   "id": "e74fc282",
   "metadata": {},
   "outputs": [],
   "source": [
    "## assigning clusters to all customers in the dataset\n",
    "kmeans = KMeans(n_clusters= 3)\n",
    "kmeans.fit(recency_df[[\"Recency\"]])\n",
    "recency_df[\"RecencyCluster\"] = kmeans.predict(recency_df[[\"Recency\"]])"
   ]
  },
  {
   "cell_type": "code",
   "execution_count": 36,
   "id": "144d256e",
   "metadata": {},
   "outputs": [],
   "source": [
    "## function for ordering cluster numbers, to have an order based on \"value\"\n",
    "def order_cluster(cluster_field_name, target_field_name,df,ascending):\n",
    "    \n",
    "    new_cluster_field_name = 'new_' + cluster_field_name\n",
    "    \n",
    "    df_new = df.groupby(cluster_field_name)[target_field_name].mean().reset_index()\n",
    "    \n",
    "    df_new = df_new.sort_values(by=target_field_name,ascending=ascending).reset_index(drop=True)\n",
    "    \n",
    "    df_new['index'] = df_new.index\n",
    "    \n",
    "    df_final = pd.merge(df,df_new[[cluster_field_name,'index']], on=cluster_field_name)\n",
    "    \n",
    "    df_final = df_final.drop([cluster_field_name],axis=1)\n",
    "    \n",
    "    df_final = df_final.rename(columns={\"index\":cluster_field_name})\n",
    "    \n",
    "    return df_final"
   ]
  },
  {
   "cell_type": "code",
   "execution_count": 37,
   "id": "cabc43a0",
   "metadata": {},
   "outputs": [],
   "source": [
    "## applying order_cluster() to recency_df\n",
    "recency_df = order_cluster('RecencyCluster', 'Recency',recency_df,False)"
   ]
  },
  {
   "cell_type": "code",
   "execution_count": 38,
   "id": "88f84d2c",
   "metadata": {},
   "outputs": [
    {
     "data": {
      "text/html": [
       "<div>\n",
       "<style scoped>\n",
       "    .dataframe tbody tr th:only-of-type {\n",
       "        vertical-align: middle;\n",
       "    }\n",
       "\n",
       "    .dataframe tbody tr th {\n",
       "        vertical-align: top;\n",
       "    }\n",
       "\n",
       "    .dataframe thead th {\n",
       "        text-align: right;\n",
       "    }\n",
       "</style>\n",
       "<table border=\"1\" class=\"dataframe\">\n",
       "  <thead>\n",
       "    <tr style=\"text-align: right;\">\n",
       "      <th></th>\n",
       "      <th>count</th>\n",
       "      <th>mean</th>\n",
       "      <th>std</th>\n",
       "      <th>min</th>\n",
       "      <th>25%</th>\n",
       "      <th>50%</th>\n",
       "      <th>75%</th>\n",
       "      <th>max</th>\n",
       "    </tr>\n",
       "    <tr>\n",
       "      <th>RecencyCluster</th>\n",
       "      <th></th>\n",
       "      <th></th>\n",
       "      <th></th>\n",
       "      <th></th>\n",
       "      <th></th>\n",
       "      <th></th>\n",
       "      <th></th>\n",
       "      <th></th>\n",
       "    </tr>\n",
       "  </thead>\n",
       "  <tbody>\n",
       "    <tr>\n",
       "      <th>0</th>\n",
       "      <td>426.0</td>\n",
       "      <td>75.415493</td>\n",
       "      <td>9.001628</td>\n",
       "      <td>62.0</td>\n",
       "      <td>68.0</td>\n",
       "      <td>74.0</td>\n",
       "      <td>83.0</td>\n",
       "      <td>91.0</td>\n",
       "    </tr>\n",
       "    <tr>\n",
       "      <th>1</th>\n",
       "      <td>511.0</td>\n",
       "      <td>46.956947</td>\n",
       "      <td>8.103625</td>\n",
       "      <td>32.0</td>\n",
       "      <td>41.0</td>\n",
       "      <td>47.0</td>\n",
       "      <td>54.0</td>\n",
       "      <td>61.0</td>\n",
       "    </tr>\n",
       "    <tr>\n",
       "      <th>2</th>\n",
       "      <td>1056.0</td>\n",
       "      <td>14.422348</td>\n",
       "      <td>8.043462</td>\n",
       "      <td>0.0</td>\n",
       "      <td>8.0</td>\n",
       "      <td>14.0</td>\n",
       "      <td>21.0</td>\n",
       "      <td>30.0</td>\n",
       "    </tr>\n",
       "  </tbody>\n",
       "</table>\n",
       "</div>"
      ],
      "text/plain": [
       "                 count       mean       std   min   25%   50%   75%   max\n",
       "RecencyCluster                                                           \n",
       "0                426.0  75.415493  9.001628  62.0  68.0  74.0  83.0  91.0\n",
       "1                511.0  46.956947  8.103625  32.0  41.0  47.0  54.0  61.0\n",
       "2               1056.0  14.422348  8.043462   0.0   8.0  14.0  21.0  30.0"
      ]
     },
     "execution_count": 38,
     "metadata": {},
     "output_type": "execute_result"
    }
   ],
   "source": [
    "## inspecting statistics for all clusters\n",
    "recency_df.groupby(\"RecencyCluster\")[\"Recency\"].describe()"
   ]
  },
  {
   "cell_type": "code",
   "execution_count": 39,
   "id": "d56c7786",
   "metadata": {},
   "outputs": [
    {
     "data": {
      "text/html": [
       "<div>\n",
       "<style scoped>\n",
       "    .dataframe tbody tr th:only-of-type {\n",
       "        vertical-align: middle;\n",
       "    }\n",
       "\n",
       "    .dataframe tbody tr th {\n",
       "        vertical-align: top;\n",
       "    }\n",
       "\n",
       "    .dataframe thead th {\n",
       "        text-align: right;\n",
       "    }\n",
       "</style>\n",
       "<table border=\"1\" class=\"dataframe\">\n",
       "  <thead>\n",
       "    <tr style=\"text-align: right;\">\n",
       "      <th></th>\n",
       "      <th>CustomerID</th>\n",
       "      <th>Recency</th>\n",
       "      <th>RecencyCluster</th>\n",
       "    </tr>\n",
       "  </thead>\n",
       "  <tbody>\n",
       "    <tr>\n",
       "      <th>0</th>\n",
       "      <td>14620.0</td>\n",
       "      <td>13</td>\n",
       "      <td>2</td>\n",
       "    </tr>\n",
       "    <tr>\n",
       "      <th>1</th>\n",
       "      <td>14740.0</td>\n",
       "      <td>4</td>\n",
       "      <td>2</td>\n",
       "    </tr>\n",
       "    <tr>\n",
       "      <th>2</th>\n",
       "      <td>13880.0</td>\n",
       "      <td>25</td>\n",
       "      <td>2</td>\n",
       "    </tr>\n",
       "    <tr>\n",
       "      <th>3</th>\n",
       "      <td>17068.0</td>\n",
       "      <td>11</td>\n",
       "      <td>2</td>\n",
       "    </tr>\n",
       "    <tr>\n",
       "      <th>4</th>\n",
       "      <td>12971.0</td>\n",
       "      <td>4</td>\n",
       "      <td>2</td>\n",
       "    </tr>\n",
       "  </tbody>\n",
       "</table>\n",
       "</div>"
      ],
      "text/plain": [
       "   CustomerID  Recency  RecencyCluster\n",
       "0     14620.0       13               2\n",
       "1     14740.0        4               2\n",
       "2     13880.0       25               2\n",
       "3     17068.0       11               2\n",
       "4     12971.0        4               2"
      ]
     },
     "execution_count": 39,
     "metadata": {},
     "output_type": "execute_result"
    }
   ],
   "source": [
    "recency_df.head()"
   ]
  },
  {
   "cell_type": "code",
   "execution_count": 40,
   "id": "4fc58b3c",
   "metadata": {},
   "outputs": [],
   "source": [
    "## including recency data in user_df\n",
    "user_df= pd.merge(user_df, recency_df, on= \"CustomerID\")"
   ]
  },
  {
   "cell_type": "markdown",
   "id": "bd876efa",
   "metadata": {},
   "source": [
    "### Calculating Frequency\n",
    "\n",
    "Find the total number of orders for each customer"
   ]
  },
  {
   "cell_type": "code",
   "execution_count": 41,
   "id": "b4e36a0e",
   "metadata": {},
   "outputs": [
    {
     "data": {
      "text/html": [
       "<div>\n",
       "<style scoped>\n",
       "    .dataframe tbody tr th:only-of-type {\n",
       "        vertical-align: middle;\n",
       "    }\n",
       "\n",
       "    .dataframe tbody tr th {\n",
       "        vertical-align: top;\n",
       "    }\n",
       "\n",
       "    .dataframe thead th {\n",
       "        text-align: right;\n",
       "    }\n",
       "</style>\n",
       "<table border=\"1\" class=\"dataframe\">\n",
       "  <thead>\n",
       "    <tr style=\"text-align: right;\">\n",
       "      <th></th>\n",
       "      <th>CustomerID</th>\n",
       "      <th>Frequency</th>\n",
       "    </tr>\n",
       "  </thead>\n",
       "  <tbody>\n",
       "    <tr>\n",
       "      <th>0</th>\n",
       "      <td>12347.0</td>\n",
       "      <td>24</td>\n",
       "    </tr>\n",
       "    <tr>\n",
       "      <th>1</th>\n",
       "      <td>12348.0</td>\n",
       "      <td>5</td>\n",
       "    </tr>\n",
       "    <tr>\n",
       "      <th>2</th>\n",
       "      <td>12352.0</td>\n",
       "      <td>23</td>\n",
       "    </tr>\n",
       "    <tr>\n",
       "      <th>3</th>\n",
       "      <td>12353.0</td>\n",
       "      <td>4</td>\n",
       "    </tr>\n",
       "    <tr>\n",
       "      <th>4</th>\n",
       "      <td>12354.0</td>\n",
       "      <td>58</td>\n",
       "    </tr>\n",
       "  </tbody>\n",
       "</table>\n",
       "</div>"
      ],
      "text/plain": [
       "   CustomerID  Frequency\n",
       "0     12347.0         24\n",
       "1     12348.0          5\n",
       "2     12352.0         23\n",
       "3     12353.0          4\n",
       "4     12354.0         58"
      ]
     },
     "execution_count": 41,
     "metadata": {},
     "output_type": "execute_result"
    }
   ],
   "source": [
    "## making dataframe with total number of orders per customer\n",
    "frequency_df = data_3m.groupby(\"CustomerID\").InvoiceDate.count().reset_index()\n",
    "frequency_df.columns = [\"CustomerID\", \"Frequency\"]\n",
    "\n",
    "frequency_df.head()"
   ]
  },
  {
   "cell_type": "code",
   "execution_count": 42,
   "id": "a5713139",
   "metadata": {},
   "outputs": [
    {
     "data": {
      "image/png": "[encoded data removed]",
      "text/plain": [
       "<Figure size 1080x504 with 1 Axes>"
      ]
     },
     "metadata": {
      "needs_background": "light"
     },
     "output_type": "display_data"
    }
   ],
   "source": [
    "## plotting the distribution\n",
    "plt.figure(figsize=(15,7))\n",
    "sns.histplot(frequency_df[\"Frequency\"], bins=100)\n",
    "plt.title(\"Distribution of buying frequency per customer\", size=15);"
   ]
  },
  {
   "cell_type": "code",
   "execution_count": 43,
   "id": "2a0e7f3c",
   "metadata": {},
   "outputs": [],
   "source": [
    "## applying frequency clusters\n",
    "\n",
    "sse= {}\n",
    "frequency = frequency_df[[\"Frequency\"]]\n",
    "for k in range(1,10):\n",
    "    kmeans= KMeans(n_clusters= k, max_iter=1000).fit(frequency)\n",
    "    frequency[\"clusters\"] = kmeans.labels_\n",
    "    sse[k] = kmeans.inertia_"
   ]
  },
  {
   "cell_type": "code",
   "execution_count": 44,
   "id": "2929ab01",
   "metadata": {},
   "outputs": [
    {
     "data": {
      "image/png": "[encoded data removed]",
      "text/plain": [
       "<Figure size 720x432 with 1 Axes>"
      ]
     },
     "metadata": {
      "needs_background": "light"
     },
     "output_type": "display_data"
    }
   ],
   "source": [
    "## plotting inertia\n",
    "plt.figure(figsize=(10,6))\n",
    "plt.plot(list(sse.keys()), list(sse.values()))\n",
    "plt.xlabel(\"Number of clusters\")\n",
    "plt.title(\"Inertia of KMeans Clustering for Frequency\", size=15);"
   ]
  },
  {
   "cell_type": "markdown",
   "id": "bd561113",
   "metadata": {},
   "source": [
    "It appears that the best number of clusters is 5."
   ]
  },
  {
   "cell_type": "code",
   "execution_count": 45,
   "id": "bb652f34",
   "metadata": {},
   "outputs": [],
   "source": [
    "## fitting the clusters to the customers\n",
    "kmeans = KMeans(n_clusters= 5, max_iter=1000).fit(frequency_df[[\"Frequency\"]])\n",
    "frequency_df[\"FrequencyCluster\"] = kmeans.predict(frequency_df[[\"Frequency\"]])"
   ]
  },
  {
   "cell_type": "code",
   "execution_count": 46,
   "id": "91ed78f2",
   "metadata": {},
   "outputs": [],
   "source": [
    "frequency_df = order_cluster(\"FrequencyCluster\", \"Frequency\", frequency_df, True)"
   ]
  },
  {
   "cell_type": "code",
   "execution_count": 47,
   "id": "e1afb0ec",
   "metadata": {},
   "outputs": [
    {
     "data": {
      "text/html": [
       "<div>\n",
       "<style scoped>\n",
       "    .dataframe tbody tr th:only-of-type {\n",
       "        vertical-align: middle;\n",
       "    }\n",
       "\n",
       "    .dataframe tbody tr th {\n",
       "        vertical-align: top;\n",
       "    }\n",
       "\n",
       "    .dataframe thead th {\n",
       "        text-align: right;\n",
       "    }\n",
       "</style>\n",
       "<table border=\"1\" class=\"dataframe\">\n",
       "  <thead>\n",
       "    <tr style=\"text-align: right;\">\n",
       "      <th></th>\n",
       "      <th>count</th>\n",
       "      <th>mean</th>\n",
       "      <th>std</th>\n",
       "      <th>min</th>\n",
       "      <th>25%</th>\n",
       "      <th>50%</th>\n",
       "      <th>75%</th>\n",
       "      <th>max</th>\n",
       "    </tr>\n",
       "    <tr>\n",
       "      <th>FrequencyCluster</th>\n",
       "      <th></th>\n",
       "      <th></th>\n",
       "      <th></th>\n",
       "      <th></th>\n",
       "      <th></th>\n",
       "      <th></th>\n",
       "      <th></th>\n",
       "      <th></th>\n",
       "    </tr>\n",
       "  </thead>\n",
       "  <tbody>\n",
       "    <tr>\n",
       "      <th>0</th>\n",
       "      <td>1364.0</td>\n",
       "      <td>16.908358</td>\n",
       "      <td>10.101668</td>\n",
       "      <td>1.0</td>\n",
       "      <td>8.75</td>\n",
       "      <td>16.0</td>\n",
       "      <td>24.00</td>\n",
       "      <td>38.0</td>\n",
       "    </tr>\n",
       "    <tr>\n",
       "      <th>1</th>\n",
       "      <td>505.0</td>\n",
       "      <td>60.378218</td>\n",
       "      <td>17.200542</td>\n",
       "      <td>39.0</td>\n",
       "      <td>46.00</td>\n",
       "      <td>57.0</td>\n",
       "      <td>71.00</td>\n",
       "      <td>105.0</td>\n",
       "    </tr>\n",
       "    <tr>\n",
       "      <th>2</th>\n",
       "      <td>110.0</td>\n",
       "      <td>149.863636</td>\n",
       "      <td>41.401032</td>\n",
       "      <td>106.0</td>\n",
       "      <td>118.50</td>\n",
       "      <td>135.0</td>\n",
       "      <td>168.25</td>\n",
       "      <td>282.0</td>\n",
       "    </tr>\n",
       "    <tr>\n",
       "      <th>3</th>\n",
       "      <td>12.0</td>\n",
       "      <td>474.666667</td>\n",
       "      <td>127.679523</td>\n",
       "      <td>328.0</td>\n",
       "      <td>391.00</td>\n",
       "      <td>436.0</td>\n",
       "      <td>558.25</td>\n",
       "      <td>730.0</td>\n",
       "    </tr>\n",
       "    <tr>\n",
       "      <th>4</th>\n",
       "      <td>2.0</td>\n",
       "      <td>1204.000000</td>\n",
       "      <td>179.605122</td>\n",
       "      <td>1077.0</td>\n",
       "      <td>1140.50</td>\n",
       "      <td>1204.0</td>\n",
       "      <td>1267.50</td>\n",
       "      <td>1331.0</td>\n",
       "    </tr>\n",
       "  </tbody>\n",
       "</table>\n",
       "</div>"
      ],
      "text/plain": [
       "                   count         mean         std     min      25%     50%  \\\n",
       "FrequencyCluster                                                             \n",
       "0                 1364.0    16.908358   10.101668     1.0     8.75    16.0   \n",
       "1                  505.0    60.378218   17.200542    39.0    46.00    57.0   \n",
       "2                  110.0   149.863636   41.401032   106.0   118.50   135.0   \n",
       "3                   12.0   474.666667  127.679523   328.0   391.00   436.0   \n",
       "4                    2.0  1204.000000  179.605122  1077.0  1140.50  1204.0   \n",
       "\n",
       "                      75%     max  \n",
       "FrequencyCluster                   \n",
       "0                   24.00    38.0  \n",
       "1                   71.00   105.0  \n",
       "2                  168.25   282.0  \n",
       "3                  558.25   730.0  \n",
       "4                 1267.50  1331.0  "
      ]
     },
     "execution_count": 47,
     "metadata": {},
     "output_type": "execute_result"
    }
   ],
   "source": [
    "## inspecting statistics for all clusters\n",
    "frequency_df.groupby(\"FrequencyCluster\")[\"Frequency\"].describe()"
   ]
  },
  {
   "cell_type": "code",
   "execution_count": 48,
   "id": "734b6d63",
   "metadata": {},
   "outputs": [],
   "source": [
    "## including frequency data in user_df\n",
    "user_df= pd.merge(user_df, frequency_df, on= \"CustomerID\")"
   ]
  },
  {
   "cell_type": "markdown",
   "id": "8923e3b0",
   "metadata": {},
   "source": [
    "### Calculating Monetary Value\n",
    "\n",
    "Clustering Customers based on Revenue."
   ]
  },
  {
   "cell_type": "code",
   "execution_count": 49,
   "id": "fc0dd265",
   "metadata": {},
   "outputs": [],
   "source": [
    "## assessing total revenue per customer\n",
    "revenue_df = data_3m.groupby(\"CustomerID\")[\"Revenue\"].sum().reset_index()"
   ]
  },
  {
   "cell_type": "code",
   "execution_count": 50,
   "id": "e55ce7c4",
   "metadata": {},
   "outputs": [
    {
     "data": {
      "image/png": "[encoded data removed]",
      "text/plain": [
       "<Figure size 1080x504 with 1 Axes>"
      ]
     },
     "metadata": {
      "needs_background": "light"
     },
     "output_type": "display_data"
    }
   ],
   "source": [
    "## plotting the revenue distribution\n",
    "plt.figure(figsize=(15,7))\n",
    "sns.histplot(revenue_df[\"Revenue\"], bins=100)\n",
    "plt.title(\"Distribution of buying frequency per customer\", size=15);"
   ]
  },
  {
   "cell_type": "code",
   "execution_count": 51,
   "id": "02e7a3ff",
   "metadata": {},
   "outputs": [],
   "source": [
    "## clustering based on revenue\n",
    "sse = {}\n",
    "revenue = revenue_df[[\"Revenue\"]]\n",
    "for k in range(1,10):\n",
    "    kmeans= KMeans(n_clusters= k, max_iter= 1000).fit(revenue)\n",
    "    revenue[\"clusters\"] = kmeans.labels_\n",
    "    sse[k] = kmeans.inertia_"
   ]
  },
  {
   "cell_type": "code",
   "execution_count": 52,
   "id": "1951df6b",
   "metadata": {},
   "outputs": [
    {
     "data": {
      "image/png": "[encoded data removed]",
      "text/plain": [
       "<Figure size 720x432 with 1 Axes>"
      ]
     },
     "metadata": {
      "needs_background": "light"
     },
     "output_type": "display_data"
    }
   ],
   "source": [
    "## plotting inertia\n",
    "plt.figure(figsize=(10,6))\n",
    "plt.plot(list(sse.keys()), list(sse.values()))\n",
    "plt.xlabel(\"Number of clusters\")\n",
    "plt.title(\"Inertia of KMeans Clustering for Revenue\", size=15);"
   ]
  },
  {
   "cell_type": "markdown",
   "id": "cd58d37e",
   "metadata": {},
   "source": [
    "Based on the inertia plot, the optimal number of clusters is 5."
   ]
  },
  {
   "cell_type": "code",
   "execution_count": 53,
   "id": "e399f7ff",
   "metadata": {},
   "outputs": [],
   "source": [
    "## clustering customers based on revenue\n",
    "kmeans = KMeans(n_clusters= 5, max_iter= 1000)\n",
    "kmeans.fit(revenue_df[[\"Revenue\"]])\n",
    "\n",
    "revenue_df[\"RevenueCluster\"] = kmeans.predict(revenue_df[[\"Revenue\"]])\n",
    "\n",
    "revenue_df = order_cluster(\"RevenueCluster\", \"Revenue\", revenue_df, True)"
   ]
  },
  {
   "cell_type": "code",
   "execution_count": 54,
   "id": "26c3f568",
   "metadata": {},
   "outputs": [
    {
     "data": {
      "text/html": [
       "<div>\n",
       "<style scoped>\n",
       "    .dataframe tbody tr th:only-of-type {\n",
       "        vertical-align: middle;\n",
       "    }\n",
       "\n",
       "    .dataframe tbody tr th {\n",
       "        vertical-align: top;\n",
       "    }\n",
       "\n",
       "    .dataframe thead th {\n",
       "        text-align: right;\n",
       "    }\n",
       "</style>\n",
       "<table border=\"1\" class=\"dataframe\">\n",
       "  <thead>\n",
       "    <tr style=\"text-align: right;\">\n",
       "      <th></th>\n",
       "      <th>count</th>\n",
       "      <th>mean</th>\n",
       "      <th>std</th>\n",
       "      <th>min</th>\n",
       "      <th>25%</th>\n",
       "      <th>50%</th>\n",
       "      <th>75%</th>\n",
       "      <th>max</th>\n",
       "    </tr>\n",
       "    <tr>\n",
       "      <th>RevenueCluster</th>\n",
       "      <th></th>\n",
       "      <th></th>\n",
       "      <th></th>\n",
       "      <th></th>\n",
       "      <th></th>\n",
       "      <th></th>\n",
       "      <th></th>\n",
       "      <th></th>\n",
       "    </tr>\n",
       "  </thead>\n",
       "  <tbody>\n",
       "    <tr>\n",
       "      <th>0</th>\n",
       "      <td>1683.0</td>\n",
       "      <td>414.979750</td>\n",
       "      <td>275.229988</td>\n",
       "      <td>2.90</td>\n",
       "      <td>203.9100</td>\n",
       "      <td>336.130</td>\n",
       "      <td>571.530</td>\n",
       "      <td>1191.33</td>\n",
       "    </tr>\n",
       "    <tr>\n",
       "      <th>1</th>\n",
       "      <td>271.0</td>\n",
       "      <td>1978.481738</td>\n",
       "      <td>775.871214</td>\n",
       "      <td>1193.88</td>\n",
       "      <td>1434.8100</td>\n",
       "      <td>1701.520</td>\n",
       "      <td>2273.515</td>\n",
       "      <td>4514.24</td>\n",
       "    </tr>\n",
       "    <tr>\n",
       "      <th>2</th>\n",
       "      <td>25.0</td>\n",
       "      <td>7387.236800</td>\n",
       "      <td>2060.013397</td>\n",
       "      <td>4867.90</td>\n",
       "      <td>6249.7600</td>\n",
       "      <td>6764.490</td>\n",
       "      <td>8051.590</td>\n",
       "      <td>12382.32</td>\n",
       "    </tr>\n",
       "    <tr>\n",
       "      <th>3</th>\n",
       "      <td>12.0</td>\n",
       "      <td>19673.080833</td>\n",
       "      <td>4759.985868</td>\n",
       "      <td>14984.73</td>\n",
       "      <td>16672.6275</td>\n",
       "      <td>17564.915</td>\n",
       "      <td>22267.220</td>\n",
       "      <td>29768.00</td>\n",
       "    </tr>\n",
       "    <tr>\n",
       "      <th>4</th>\n",
       "      <td>2.0</td>\n",
       "      <td>43979.160000</td>\n",
       "      <td>12541.161018</td>\n",
       "      <td>35111.22</td>\n",
       "      <td>39545.1900</td>\n",
       "      <td>43979.160</td>\n",
       "      <td>48413.130</td>\n",
       "      <td>52847.10</td>\n",
       "    </tr>\n",
       "  </tbody>\n",
       "</table>\n",
       "</div>"
      ],
      "text/plain": [
       "                 count          mean           std       min         25%  \\\n",
       "RevenueCluster                                                             \n",
       "0               1683.0    414.979750    275.229988      2.90    203.9100   \n",
       "1                271.0   1978.481738    775.871214   1193.88   1434.8100   \n",
       "2                 25.0   7387.236800   2060.013397   4867.90   6249.7600   \n",
       "3                 12.0  19673.080833   4759.985868  14984.73  16672.6275   \n",
       "4                  2.0  43979.160000  12541.161018  35111.22  39545.1900   \n",
       "\n",
       "                      50%        75%       max  \n",
       "RevenueCluster                                  \n",
       "0                 336.130    571.530   1191.33  \n",
       "1                1701.520   2273.515   4514.24  \n",
       "2                6764.490   8051.590  12382.32  \n",
       "3               17564.915  22267.220  29768.00  \n",
       "4               43979.160  48413.130  52847.10  "
      ]
     },
     "execution_count": 54,
     "metadata": {},
     "output_type": "execute_result"
    }
   ],
   "source": [
    "## inspecting descriptive statistics for all revenue clusters\n",
    "revenue_df.groupby(\"RevenueCluster\")[\"Revenue\"].describe()"
   ]
  },
  {
   "cell_type": "code",
   "execution_count": 55,
   "id": "5127876c",
   "metadata": {},
   "outputs": [],
   "source": [
    "## including revenue data in user_df\n",
    "user_df= pd.merge(user_df, revenue_df, on= \"CustomerID\")"
   ]
  },
  {
   "cell_type": "markdown",
   "id": "89df7604",
   "metadata": {},
   "source": [
    "### Making final dataframe"
   ]
  },
  {
   "cell_type": "code",
   "execution_count": 56,
   "id": "0e107c74",
   "metadata": {},
   "outputs": [
    {
     "data": {
      "text/html": [
       "<div>\n",
       "<style scoped>\n",
       "    .dataframe tbody tr th:only-of-type {\n",
       "        vertical-align: middle;\n",
       "    }\n",
       "\n",
       "    .dataframe tbody tr th {\n",
       "        vertical-align: top;\n",
       "    }\n",
       "\n",
       "    .dataframe thead th {\n",
       "        text-align: right;\n",
       "    }\n",
       "</style>\n",
       "<table border=\"1\" class=\"dataframe\">\n",
       "  <thead>\n",
       "    <tr style=\"text-align: right;\">\n",
       "      <th></th>\n",
       "      <th>CustomerID</th>\n",
       "      <th>Recency</th>\n",
       "      <th>RecencyCluster</th>\n",
       "      <th>Frequency</th>\n",
       "      <th>FrequencyCluster</th>\n",
       "      <th>Revenue</th>\n",
       "      <th>RevenueCluster</th>\n",
       "    </tr>\n",
       "  </thead>\n",
       "  <tbody>\n",
       "    <tr>\n",
       "      <th>0</th>\n",
       "      <td>14620.0</td>\n",
       "      <td>13</td>\n",
       "      <td>2</td>\n",
       "      <td>26</td>\n",
       "      <td>0</td>\n",
       "      <td>412.78</td>\n",
       "      <td>0</td>\n",
       "    </tr>\n",
       "    <tr>\n",
       "      <th>1</th>\n",
       "      <td>14740.0</td>\n",
       "      <td>4</td>\n",
       "      <td>2</td>\n",
       "      <td>89</td>\n",
       "      <td>1</td>\n",
       "      <td>1448.21</td>\n",
       "      <td>1</td>\n",
       "    </tr>\n",
       "    <tr>\n",
       "      <th>2</th>\n",
       "      <td>13880.0</td>\n",
       "      <td>25</td>\n",
       "      <td>2</td>\n",
       "      <td>38</td>\n",
       "      <td>0</td>\n",
       "      <td>718.63</td>\n",
       "      <td>0</td>\n",
       "    </tr>\n",
       "    <tr>\n",
       "      <th>3</th>\n",
       "      <td>16462.0</td>\n",
       "      <td>91</td>\n",
       "      <td>0</td>\n",
       "      <td>1</td>\n",
       "      <td>0</td>\n",
       "      <td>34.00</td>\n",
       "      <td>0</td>\n",
       "    </tr>\n",
       "    <tr>\n",
       "      <th>4</th>\n",
       "      <td>17068.0</td>\n",
       "      <td>11</td>\n",
       "      <td>2</td>\n",
       "      <td>76</td>\n",
       "      <td>1</td>\n",
       "      <td>1480.95</td>\n",
       "      <td>1</td>\n",
       "    </tr>\n",
       "  </tbody>\n",
       "</table>\n",
       "</div>"
      ],
      "text/plain": [
       "   CustomerID  Recency  RecencyCluster  Frequency  FrequencyCluster  Revenue  \\\n",
       "0     14620.0       13               2         26                 0   412.78   \n",
       "1     14740.0        4               2         89                 1  1448.21   \n",
       "2     13880.0       25               2         38                 0   718.63   \n",
       "3     16462.0       91               0          1                 0    34.00   \n",
       "4     17068.0       11               2         76                 1  1480.95   \n",
       "\n",
       "   RevenueCluster  \n",
       "0               0  \n",
       "1               1  \n",
       "2               0  \n",
       "3               0  \n",
       "4               1  "
      ]
     },
     "execution_count": 56,
     "metadata": {},
     "output_type": "execute_result"
    }
   ],
   "source": [
    "user_df.head()"
   ]
  },
  {
   "cell_type": "code",
   "execution_count": 57,
   "id": "e2b60978",
   "metadata": {},
   "outputs": [],
   "source": [
    "## applying over all scoring by adding cluster numbers\n",
    "user_df[\"OverallScore\"] = user_df[\"RecencyCluster\"] + user_df[\"FrequencyCluster\"] + user_df[\"RevenueCluster\"]"
   ]
  },
  {
   "cell_type": "code",
   "execution_count": 58,
   "id": "681b2496",
   "metadata": {},
   "outputs": [
    {
     "name": "stderr",
     "output_type": "stream",
     "text": [
      "/var/folders/2s/hl8h12kx35b4f1bh9818nxj00000gn/T/ipykernel_6767/3038707750.py:2: FutureWarning: Indexing with multiple keys (implicitly converted to a tuple of keys) will be deprecated, use a list instead.\n",
      "  user_df.groupby(\"OverallScore\")[\"Recency\", \"Frequency\", \"Revenue\"].mean()\n"
     ]
    },
    {
     "data": {
      "text/html": [
       "<div>\n",
       "<style scoped>\n",
       "    .dataframe tbody tr th:only-of-type {\n",
       "        vertical-align: middle;\n",
       "    }\n",
       "\n",
       "    .dataframe tbody tr th {\n",
       "        vertical-align: top;\n",
       "    }\n",
       "\n",
       "    .dataframe thead th {\n",
       "        text-align: right;\n",
       "    }\n",
       "</style>\n",
       "<table border=\"1\" class=\"dataframe\">\n",
       "  <thead>\n",
       "    <tr style=\"text-align: right;\">\n",
       "      <th></th>\n",
       "      <th>Recency</th>\n",
       "      <th>Frequency</th>\n",
       "      <th>Revenue</th>\n",
       "    </tr>\n",
       "    <tr>\n",
       "      <th>OverallScore</th>\n",
       "      <th></th>\n",
       "      <th></th>\n",
       "      <th></th>\n",
       "    </tr>\n",
       "  </thead>\n",
       "  <tbody>\n",
       "    <tr>\n",
       "      <th>0</th>\n",
       "      <td>75.870968</td>\n",
       "      <td>14.434018</td>\n",
       "      <td>286.439589</td>\n",
       "    </tr>\n",
       "    <tr>\n",
       "      <th>1</th>\n",
       "      <td>51.033186</td>\n",
       "      <td>21.752212</td>\n",
       "      <td>374.104801</td>\n",
       "    </tr>\n",
       "    <tr>\n",
       "      <th>2</th>\n",
       "      <td>21.386530</td>\n",
       "      <td>24.711567</td>\n",
       "      <td>465.333572</td>\n",
       "    </tr>\n",
       "    <tr>\n",
       "      <th>3</th>\n",
       "      <td>17.605948</td>\n",
       "      <td>53.762082</td>\n",
       "      <td>931.831859</td>\n",
       "    </tr>\n",
       "    <tr>\n",
       "      <th>4</th>\n",
       "      <td>13.398693</td>\n",
       "      <td>83.941176</td>\n",
       "      <td>2093.991111</td>\n",
       "    </tr>\n",
       "    <tr>\n",
       "      <th>5</th>\n",
       "      <td>11.600000</td>\n",
       "      <td>138.000000</td>\n",
       "      <td>3306.266300</td>\n",
       "    </tr>\n",
       "    <tr>\n",
       "      <th>6</th>\n",
       "      <td>8.750000</td>\n",
       "      <td>308.500000</td>\n",
       "      <td>8256.879167</td>\n",
       "    </tr>\n",
       "    <tr>\n",
       "      <th>7</th>\n",
       "      <td>7.750000</td>\n",
       "      <td>271.750000</td>\n",
       "      <td>17746.262500</td>\n",
       "    </tr>\n",
       "    <tr>\n",
       "      <th>8</th>\n",
       "      <td>10.333333</td>\n",
       "      <td>754.333333</td>\n",
       "      <td>12619.533333</td>\n",
       "    </tr>\n",
       "    <tr>\n",
       "      <th>9</th>\n",
       "      <td>5.000000</td>\n",
       "      <td>703.500000</td>\n",
       "      <td>38654.140000</td>\n",
       "    </tr>\n",
       "  </tbody>\n",
       "</table>\n",
       "</div>"
      ],
      "text/plain": [
       "                Recency   Frequency       Revenue\n",
       "OverallScore                                     \n",
       "0             75.870968   14.434018    286.439589\n",
       "1             51.033186   21.752212    374.104801\n",
       "2             21.386530   24.711567    465.333572\n",
       "3             17.605948   53.762082    931.831859\n",
       "4             13.398693   83.941176   2093.991111\n",
       "5             11.600000  138.000000   3306.266300\n",
       "6              8.750000  308.500000   8256.879167\n",
       "7              7.750000  271.750000  17746.262500\n",
       "8             10.333333  754.333333  12619.533333\n",
       "9              5.000000  703.500000  38654.140000"
      ]
     },
     "execution_count": 58,
     "metadata": {},
     "output_type": "execute_result"
    }
   ],
   "source": [
    "## creating the final dataframe\n",
    "user_df.groupby(\"OverallScore\")[\"Recency\", \"Frequency\", \"Revenue\"].mean()"
   ]
  },
  {
   "cell_type": "code",
   "execution_count": 59,
   "id": "8590c566",
   "metadata": {},
   "outputs": [
    {
     "name": "stderr",
     "output_type": "stream",
     "text": [
      "/Users/garritwilson/.pyenv/versions/3.8.12/envs/li-monitoring/lib/python3.8/site-packages/pandas/core/indexing.py:1732: SettingWithCopyWarning: \n",
      "A value is trying to be set on a copy of a slice from a DataFrame\n",
      "\n",
      "See the caveats in the documentation: https://pandas.pydata.org/pandas-docs/stable/user_guide/indexing.html#returning-a-view-versus-a-copy\n",
      "  self._setitem_single_block(indexer, value, name)\n"
     ]
    }
   ],
   "source": [
    "## binning the clusters into classes\n",
    "user_df[\"Segment\"] = 'Low-Value'\n",
    "user_df[\"Segment\"].loc[user_df.OverallScore>3] = \"Mid-Value\"\n",
    "user_df[\"Segment\"].loc[user_df.OverallScore>6] = \"High-Value\""
   ]
  },
  {
   "cell_type": "code",
   "execution_count": 60,
   "id": "ed123815",
   "metadata": {},
   "outputs": [
    {
     "data": {
      "text/html": [
       "<div>\n",
       "<style scoped>\n",
       "    .dataframe tbody tr th:only-of-type {\n",
       "        vertical-align: middle;\n",
       "    }\n",
       "\n",
       "    .dataframe tbody tr th {\n",
       "        vertical-align: top;\n",
       "    }\n",
       "\n",
       "    .dataframe thead th {\n",
       "        text-align: right;\n",
       "    }\n",
       "</style>\n",
       "<table border=\"1\" class=\"dataframe\">\n",
       "  <thead>\n",
       "    <tr style=\"text-align: right;\">\n",
       "      <th></th>\n",
       "      <th>CustomerID</th>\n",
       "      <th>Recency</th>\n",
       "      <th>RecencyCluster</th>\n",
       "      <th>Frequency</th>\n",
       "      <th>FrequencyCluster</th>\n",
       "      <th>Revenue</th>\n",
       "      <th>RevenueCluster</th>\n",
       "      <th>OverallScore</th>\n",
       "      <th>Segment</th>\n",
       "    </tr>\n",
       "  </thead>\n",
       "  <tbody>\n",
       "    <tr>\n",
       "      <th>0</th>\n",
       "      <td>14620.0</td>\n",
       "      <td>13</td>\n",
       "      <td>2</td>\n",
       "      <td>26</td>\n",
       "      <td>0</td>\n",
       "      <td>412.78</td>\n",
       "      <td>0</td>\n",
       "      <td>2</td>\n",
       "      <td>Low-Value</td>\n",
       "    </tr>\n",
       "    <tr>\n",
       "      <th>1</th>\n",
       "      <td>14740.0</td>\n",
       "      <td>4</td>\n",
       "      <td>2</td>\n",
       "      <td>89</td>\n",
       "      <td>1</td>\n",
       "      <td>1448.21</td>\n",
       "      <td>1</td>\n",
       "      <td>4</td>\n",
       "      <td>Mid-Value</td>\n",
       "    </tr>\n",
       "    <tr>\n",
       "      <th>2</th>\n",
       "      <td>13880.0</td>\n",
       "      <td>25</td>\n",
       "      <td>2</td>\n",
       "      <td>38</td>\n",
       "      <td>0</td>\n",
       "      <td>718.63</td>\n",
       "      <td>0</td>\n",
       "      <td>2</td>\n",
       "      <td>Low-Value</td>\n",
       "    </tr>\n",
       "    <tr>\n",
       "      <th>3</th>\n",
       "      <td>16462.0</td>\n",
       "      <td>91</td>\n",
       "      <td>0</td>\n",
       "      <td>1</td>\n",
       "      <td>0</td>\n",
       "      <td>34.00</td>\n",
       "      <td>0</td>\n",
       "      <td>0</td>\n",
       "      <td>Low-Value</td>\n",
       "    </tr>\n",
       "    <tr>\n",
       "      <th>4</th>\n",
       "      <td>17068.0</td>\n",
       "      <td>11</td>\n",
       "      <td>2</td>\n",
       "      <td>76</td>\n",
       "      <td>1</td>\n",
       "      <td>1480.95</td>\n",
       "      <td>1</td>\n",
       "      <td>4</td>\n",
       "      <td>Mid-Value</td>\n",
       "    </tr>\n",
       "  </tbody>\n",
       "</table>\n",
       "</div>"
      ],
      "text/plain": [
       "   CustomerID  Recency  RecencyCluster  Frequency  FrequencyCluster  Revenue  \\\n",
       "0     14620.0       13               2         26                 0   412.78   \n",
       "1     14740.0        4               2         89                 1  1448.21   \n",
       "2     13880.0       25               2         38                 0   718.63   \n",
       "3     16462.0       91               0          1                 0    34.00   \n",
       "4     17068.0       11               2         76                 1  1480.95   \n",
       "\n",
       "   RevenueCluster  OverallScore    Segment  \n",
       "0               0             2  Low-Value  \n",
       "1               1             4  Mid-Value  \n",
       "2               0             2  Low-Value  \n",
       "3               0             0  Low-Value  \n",
       "4               1             4  Mid-Value  "
      ]
     },
     "execution_count": 60,
     "metadata": {},
     "output_type": "execute_result"
    }
   ],
   "source": [
    "## inspecting the final dataframe\n",
    "user_df.head()"
   ]
  },
  {
   "cell_type": "markdown",
   "id": "4f8307f1",
   "metadata": {},
   "source": [
    "### Calculating 6-months lifetime value (LTV)\n",
    "\n",
    "The 6-months LTV is going to be used for training the machine learning algorithm.\n",
    "\n",
    "As this is going to be a supervised learning task, the RFM features that have just been created will be used to predict the 6-months LTV, which will be calculated next."
   ]
  },
  {
   "cell_type": "code",
   "execution_count": 61,
   "id": "7d7f237d",
   "metadata": {},
   "outputs": [],
   "source": [
    "## making the 6m user dataframe with the sum of revenue generated per customer\n",
    "user_df_6m = data_6m.groupby(\"CustomerID\")[\"Revenue\"].sum().reset_index()\n",
    "user_df_6m.columns = [\"CustomerID\", \"6m_Revenue\"]"
   ]
  },
  {
   "cell_type": "code",
   "execution_count": 62,
   "id": "b5293b7f",
   "metadata": {},
   "outputs": [
    {
     "data": {
      "text/plain": [
       "<AxesSubplot:xlabel='6m_Revenue', ylabel='Count'>"
      ]
     },
     "execution_count": 62,
     "metadata": {},
     "output_type": "execute_result"
    },
    {
     "data": {
      "image/png": "[encoded data removed]",
      "text/plain": [
       "<Figure size 1080x504 with 1 Axes>"
      ]
     },
     "metadata": {
      "needs_background": "light"
     },
     "output_type": "display_data"
    }
   ],
   "source": [
    "## visualizing the distribution of revenue per customer\n",
    "plt.figure(figsize=(15,7))\n",
    "sns.histplot(user_df_6m[\"6m_Revenue\"], bins= 50)"
   ]
  },
  {
   "cell_type": "code",
   "execution_count": 63,
   "id": "67f80365",
   "metadata": {},
   "outputs": [
    {
     "data": {
      "text/plain": [
       "(1993, 10)"
      ]
     },
     "execution_count": 63,
     "metadata": {},
     "output_type": "execute_result"
    }
   ],
   "source": [
    "## merging 6-months and 3-months dataframes\n",
    "df_merged = pd.merge(user_df, user_df_6m, on=\"CustomerID\", how='left')\n",
    "df_merged.shape"
   ]
  },
  {
   "cell_type": "code",
   "execution_count": 64,
   "id": "acddee5e",
   "metadata": {},
   "outputs": [
    {
     "data": {
      "text/plain": [
       "(1501, 10)"
      ]
     },
     "execution_count": 64,
     "metadata": {},
     "output_type": "execute_result"
    }
   ],
   "source": [
    "## as there are nan-values in the dataset, they will be dropped\n",
    "df_merged.dropna(inplace=True)\n",
    "df_merged.shape"
   ]
  },
  {
   "cell_type": "code",
   "execution_count": 65,
   "id": "b6831c9d",
   "metadata": {},
   "outputs": [],
   "source": [
    "## removing outliers from df_merged\n",
    "df_merged = df_merged[df_merged['6m_Revenue'] < df_merged[\"6m_Revenue\"].quantile(0.99)]"
   ]
  },
  {
   "cell_type": "code",
   "execution_count": 66,
   "id": "cdc50486",
   "metadata": {},
   "outputs": [
    {
     "data": {
      "text/plain": [
       "count     1485.000000\n",
       "mean      1647.756634\n",
       "std       2466.763108\n",
       "min          7.500000\n",
       "25%        405.650000\n",
       "50%        928.790000\n",
       "75%       1880.310000\n",
       "max      24959.000000\n",
       "Name: 6m_Revenue, dtype: float64"
      ]
     },
     "execution_count": 66,
     "metadata": {},
     "output_type": "execute_result"
    }
   ],
   "source": [
    "df_merged[\"6m_Revenue\"].describe()"
   ]
  },
  {
   "cell_type": "code",
   "execution_count": 67,
   "id": "c752d152",
   "metadata": {},
   "outputs": [
    {
     "data": {
      "image/png": "[encoded data removed]",
      "text/plain": [
       "<Figure size 1440x720 with 1 Axes>"
      ]
     },
     "metadata": {
      "needs_background": "light"
     },
     "output_type": "display_data"
    }
   ],
   "source": [
    "## plotting 6 months LTV distribution per RFM cluster\n",
    "df_graph = df_merged.loc[df_merged[\"6m_Revenue\"] < 30000]\n",
    "\n",
    "plt.figure(figsize=(20,10))\n",
    "sns.stripplot(data= df_graph,\n",
    "                 x= df_graph[\"OverallScore\"],\n",
    "                 y= df_graph[\"6m_Revenue\"],\n",
    "                 size=10,\n",
    "                 alpha= 0.7)\n",
    "\n",
    "plt.title(\"6 Months Revenue per RFM - Customer Segment\", size= 20)\n",
    "plt.ylabel(\"6 Months LTV\", size= 15)\n",
    "plt.xlabel(\"RFM - Customer Segment\", size= 15);"
   ]
  },
  {
   "cell_type": "markdown",
   "id": "56f6f8e0",
   "metadata": {},
   "source": [
    "From the above graph it is visible that there seems to be a positive correlation between RFM scores and 6 months LTV."
   ]
  },
  {
   "cell_type": "markdown",
   "id": "5f58567b",
   "metadata": {},
   "source": [
    "### Clustering LTV\n",
    "\n",
    "The business problem here is to predict which customers will have a high LTV, so that the business can act on that insight (e.g. with targeted marketing and retention campaigns).\n",
    "\n",
    "Therefore, the target variable will be LTV - segments, which classify customers as having either high, medium, or low 6-months LTV."
   ]
  },
  {
   "cell_type": "code",
   "execution_count": 68,
   "id": "a202cf86",
   "metadata": {},
   "outputs": [],
   "source": [
    "## clustering 6 months LTV\n",
    "kmeans = KMeans(n_clusters= 3, max_iter= 1000)\n",
    "kmeans.fit(df_merged[[\"6m_Revenue\"]])\n",
    "\n",
    "df_merged[\"LTVCluster\"]= kmeans.predict(df_merged[[\"6m_Revenue\"]])\n",
    "\n",
    "df_merged = order_cluster(\"LTVCluster\", \"6m_Revenue\", df_merged, True)"
   ]
  },
  {
   "cell_type": "code",
   "execution_count": 69,
   "id": "d69d7d8f",
   "metadata": {},
   "outputs": [
    {
     "data": {
      "text/html": [
       "<div>\n",
       "<style scoped>\n",
       "    .dataframe tbody tr th:only-of-type {\n",
       "        vertical-align: middle;\n",
       "    }\n",
       "\n",
       "    .dataframe tbody tr th {\n",
       "        vertical-align: top;\n",
       "    }\n",
       "\n",
       "    .dataframe thead th {\n",
       "        text-align: right;\n",
       "    }\n",
       "</style>\n",
       "<table border=\"1\" class=\"dataframe\">\n",
       "  <thead>\n",
       "    <tr style=\"text-align: right;\">\n",
       "      <th></th>\n",
       "      <th>count</th>\n",
       "      <th>mean</th>\n",
       "      <th>std</th>\n",
       "      <th>min</th>\n",
       "      <th>25%</th>\n",
       "      <th>50%</th>\n",
       "      <th>75%</th>\n",
       "      <th>max</th>\n",
       "    </tr>\n",
       "    <tr>\n",
       "      <th>LTVCluster</th>\n",
       "      <th></th>\n",
       "      <th></th>\n",
       "      <th></th>\n",
       "      <th></th>\n",
       "      <th></th>\n",
       "      <th></th>\n",
       "      <th></th>\n",
       "      <th></th>\n",
       "    </tr>\n",
       "  </thead>\n",
       "  <tbody>\n",
       "    <tr>\n",
       "      <th>0</th>\n",
       "      <td>1259.0</td>\n",
       "      <td>905.472678</td>\n",
       "      <td>668.298332</td>\n",
       "      <td>7.50</td>\n",
       "      <td>355.755</td>\n",
       "      <td>726.580</td>\n",
       "      <td>1341.8300</td>\n",
       "      <td>2712.88</td>\n",
       "    </tr>\n",
       "    <tr>\n",
       "      <th>1</th>\n",
       "      <td>202.0</td>\n",
       "      <td>4560.905990</td>\n",
       "      <td>1746.464434</td>\n",
       "      <td>2761.21</td>\n",
       "      <td>3218.095</td>\n",
       "      <td>3857.960</td>\n",
       "      <td>5547.5850</td>\n",
       "      <td>10109.28</td>\n",
       "    </tr>\n",
       "    <tr>\n",
       "      <th>2</th>\n",
       "      <td>24.0</td>\n",
       "      <td>16067.728750</td>\n",
       "      <td>4456.001569</td>\n",
       "      <td>10665.82</td>\n",
       "      <td>12763.805</td>\n",
       "      <td>14667.915</td>\n",
       "      <td>19463.6425</td>\n",
       "      <td>24959.00</td>\n",
       "    </tr>\n",
       "  </tbody>\n",
       "</table>\n",
       "</div>"
      ],
      "text/plain": [
       "             count          mean          std       min        25%        50%  \\\n",
       "LTVCluster                                                                      \n",
       "0           1259.0    905.472678   668.298332      7.50    355.755    726.580   \n",
       "1            202.0   4560.905990  1746.464434   2761.21   3218.095   3857.960   \n",
       "2             24.0  16067.728750  4456.001569  10665.82  12763.805  14667.915   \n",
       "\n",
       "                   75%       max  \n",
       "LTVCluster                        \n",
       "0            1341.8300   2712.88  \n",
       "1            5547.5850  10109.28  \n",
       "2           19463.6425  24959.00  "
      ]
     },
     "execution_count": 69,
     "metadata": {},
     "output_type": "execute_result"
    }
   ],
   "source": [
    "df_merged.groupby(\"LTVCluster\")[\"6m_Revenue\"].describe()"
   ]
  },
  {
   "cell_type": "markdown",
   "id": "5ebcb614",
   "metadata": {},
   "source": [
    "## Feature Engineering"
   ]
  },
  {
   "cell_type": "code",
   "execution_count": 70,
   "id": "838cf324",
   "metadata": {},
   "outputs": [],
   "source": [
    "from sklearn.preprocessing import OneHotEncoder, RobustScaler"
   ]
  },
  {
   "cell_type": "code",
   "execution_count": 71,
   "id": "45f014f6",
   "metadata": {},
   "outputs": [
    {
     "data": {
      "text/html": [
       "<div>\n",
       "<style scoped>\n",
       "    .dataframe tbody tr th:only-of-type {\n",
       "        vertical-align: middle;\n",
       "    }\n",
       "\n",
       "    .dataframe tbody tr th {\n",
       "        vertical-align: top;\n",
       "    }\n",
       "\n",
       "    .dataframe thead th {\n",
       "        text-align: right;\n",
       "    }\n",
       "</style>\n",
       "<table border=\"1\" class=\"dataframe\">\n",
       "  <thead>\n",
       "    <tr style=\"text-align: right;\">\n",
       "      <th></th>\n",
       "      <th>CustomerID</th>\n",
       "      <th>Recency</th>\n",
       "      <th>RecencyCluster</th>\n",
       "      <th>Frequency</th>\n",
       "      <th>FrequencyCluster</th>\n",
       "      <th>Revenue</th>\n",
       "      <th>RevenueCluster</th>\n",
       "      <th>OverallScore</th>\n",
       "      <th>Segment</th>\n",
       "      <th>6m_Revenue</th>\n",
       "      <th>LTVCluster</th>\n",
       "    </tr>\n",
       "  </thead>\n",
       "  <tbody>\n",
       "    <tr>\n",
       "      <th>0</th>\n",
       "      <td>13880.0</td>\n",
       "      <td>25</td>\n",
       "      <td>2</td>\n",
       "      <td>38</td>\n",
       "      <td>0</td>\n",
       "      <td>718.63</td>\n",
       "      <td>0</td>\n",
       "      <td>2</td>\n",
       "      <td>Low-Value</td>\n",
       "      <td>2193.14</td>\n",
       "      <td>0</td>\n",
       "    </tr>\n",
       "    <tr>\n",
       "      <th>1</th>\n",
       "      <td>16462.0</td>\n",
       "      <td>91</td>\n",
       "      <td>0</td>\n",
       "      <td>1</td>\n",
       "      <td>0</td>\n",
       "      <td>34.00</td>\n",
       "      <td>0</td>\n",
       "      <td>0</td>\n",
       "      <td>Low-Value</td>\n",
       "      <td>102.00</td>\n",
       "      <td>0</td>\n",
       "    </tr>\n",
       "    <tr>\n",
       "      <th>2</th>\n",
       "      <td>17068.0</td>\n",
       "      <td>11</td>\n",
       "      <td>2</td>\n",
       "      <td>76</td>\n",
       "      <td>1</td>\n",
       "      <td>1480.95</td>\n",
       "      <td>1</td>\n",
       "      <td>4</td>\n",
       "      <td>Mid-Value</td>\n",
       "      <td>2216.04</td>\n",
       "      <td>0</td>\n",
       "    </tr>\n",
       "  </tbody>\n",
       "</table>\n",
       "</div>"
      ],
      "text/plain": [
       "   CustomerID  Recency  RecencyCluster  Frequency  FrequencyCluster  Revenue  \\\n",
       "0     13880.0       25               2         38                 0   718.63   \n",
       "1     16462.0       91               0          1                 0    34.00   \n",
       "2     17068.0       11               2         76                 1  1480.95   \n",
       "\n",
       "   RevenueCluster  OverallScore    Segment  6m_Revenue  LTVCluster  \n",
       "0               0             2  Low-Value     2193.14           0  \n",
       "1               0             0  Low-Value      102.00           0  \n",
       "2               1             4  Mid-Value     2216.04           0  "
      ]
     },
     "execution_count": 71,
     "metadata": {},
     "output_type": "execute_result"
    }
   ],
   "source": [
    "df_merged.head(3)"
   ]
  },
  {
   "cell_type": "code",
   "execution_count": 72,
   "id": "0e186c43",
   "metadata": {},
   "outputs": [
    {
     "data": {
      "text/html": [
       "<div>\n",
       "<style scoped>\n",
       "    .dataframe tbody tr th:only-of-type {\n",
       "        vertical-align: middle;\n",
       "    }\n",
       "\n",
       "    .dataframe tbody tr th {\n",
       "        vertical-align: top;\n",
       "    }\n",
       "\n",
       "    .dataframe thead th {\n",
       "        text-align: right;\n",
       "    }\n",
       "</style>\n",
       "<table border=\"1\" class=\"dataframe\">\n",
       "  <thead>\n",
       "    <tr style=\"text-align: right;\">\n",
       "      <th></th>\n",
       "      <th>CustomerID</th>\n",
       "      <th>Recency</th>\n",
       "      <th>RecencyCluster</th>\n",
       "      <th>Frequency</th>\n",
       "      <th>FrequencyCluster</th>\n",
       "      <th>Revenue</th>\n",
       "      <th>RevenueCluster</th>\n",
       "      <th>OverallScore</th>\n",
       "      <th>6m_Revenue</th>\n",
       "      <th>LTVCluster</th>\n",
       "      <th>Segment_High-Value</th>\n",
       "      <th>Segment_Low-Value</th>\n",
       "      <th>Segment_Mid-Value</th>\n",
       "    </tr>\n",
       "  </thead>\n",
       "  <tbody>\n",
       "    <tr>\n",
       "      <th>0</th>\n",
       "      <td>13880.0</td>\n",
       "      <td>25</td>\n",
       "      <td>2</td>\n",
       "      <td>38</td>\n",
       "      <td>0</td>\n",
       "      <td>718.63</td>\n",
       "      <td>0</td>\n",
       "      <td>2</td>\n",
       "      <td>2193.14</td>\n",
       "      <td>0</td>\n",
       "      <td>0</td>\n",
       "      <td>1</td>\n",
       "      <td>0</td>\n",
       "    </tr>\n",
       "    <tr>\n",
       "      <th>1</th>\n",
       "      <td>16462.0</td>\n",
       "      <td>91</td>\n",
       "      <td>0</td>\n",
       "      <td>1</td>\n",
       "      <td>0</td>\n",
       "      <td>34.00</td>\n",
       "      <td>0</td>\n",
       "      <td>0</td>\n",
       "      <td>102.00</td>\n",
       "      <td>0</td>\n",
       "      <td>0</td>\n",
       "      <td>1</td>\n",
       "      <td>0</td>\n",
       "    </tr>\n",
       "    <tr>\n",
       "      <th>2</th>\n",
       "      <td>17068.0</td>\n",
       "      <td>11</td>\n",
       "      <td>2</td>\n",
       "      <td>76</td>\n",
       "      <td>1</td>\n",
       "      <td>1480.95</td>\n",
       "      <td>1</td>\n",
       "      <td>4</td>\n",
       "      <td>2216.04</td>\n",
       "      <td>0</td>\n",
       "      <td>0</td>\n",
       "      <td>0</td>\n",
       "      <td>1</td>\n",
       "    </tr>\n",
       "    <tr>\n",
       "      <th>3</th>\n",
       "      <td>12428.0</td>\n",
       "      <td>50</td>\n",
       "      <td>1</td>\n",
       "      <td>235</td>\n",
       "      <td>2</td>\n",
       "      <td>6310.54</td>\n",
       "      <td>2</td>\n",
       "      <td>5</td>\n",
       "      <td>1645.92</td>\n",
       "      <td>0</td>\n",
       "      <td>0</td>\n",
       "      <td>0</td>\n",
       "      <td>1</td>\n",
       "    </tr>\n",
       "    <tr>\n",
       "      <th>4</th>\n",
       "      <td>16915.0</td>\n",
       "      <td>56</td>\n",
       "      <td>1</td>\n",
       "      <td>26</td>\n",
       "      <td>0</td>\n",
       "      <td>166.79</td>\n",
       "      <td>0</td>\n",
       "      <td>1</td>\n",
       "      <td>454.89</td>\n",
       "      <td>0</td>\n",
       "      <td>0</td>\n",
       "      <td>1</td>\n",
       "      <td>0</td>\n",
       "    </tr>\n",
       "  </tbody>\n",
       "</table>\n",
       "</div>"
      ],
      "text/plain": [
       "   CustomerID  Recency  RecencyCluster  Frequency  FrequencyCluster  Revenue  \\\n",
       "0     13880.0       25               2         38                 0   718.63   \n",
       "1     16462.0       91               0          1                 0    34.00   \n",
       "2     17068.0       11               2         76                 1  1480.95   \n",
       "3     12428.0       50               1        235                 2  6310.54   \n",
       "4     16915.0       56               1         26                 0   166.79   \n",
       "\n",
       "   RevenueCluster  OverallScore  6m_Revenue  LTVCluster  Segment_High-Value  \\\n",
       "0               0             2     2193.14           0                   0   \n",
       "1               0             0      102.00           0                   0   \n",
       "2               1             4     2216.04           0                   0   \n",
       "3               2             5     1645.92           0                   0   \n",
       "4               0             1      454.89           0                   0   \n",
       "\n",
       "   Segment_Low-Value  Segment_Mid-Value  \n",
       "0                  1                  0  \n",
       "1                  1                  0  \n",
       "2                  0                  1  \n",
       "3                  0                  1  \n",
       "4                  1                  0  "
      ]
     },
     "execution_count": 72,
     "metadata": {},
     "output_type": "execute_result"
    }
   ],
   "source": [
    "## encoding the 'segment' column\n",
    "final_df = pd.get_dummies(df_merged)\n",
    "final_df.head()"
   ]
  },
  {
   "cell_type": "code",
   "execution_count": 73,
   "id": "ef751e3c",
   "metadata": {},
   "outputs": [],
   "source": [
    "## scaling numerical features\n",
    "\n",
    "for col in [\"Recency\", \"Frequency\", \"Revenue\"]:\n",
    "    \n",
    "    scaler = RobustScaler()\n",
    "    \n",
    "    scaler.fit(final_df[[col]])\n",
    "    \n",
    "    final_df[col] = scaler.transform(final_df[[col]])"
   ]
  },
  {
   "cell_type": "code",
   "execution_count": 74,
   "id": "dcd79b60",
   "metadata": {},
   "outputs": [],
   "source": [
    "## dropping 6 months revenue column (cannot be used for prediction due to data leakage)\n",
    "#final_df.drop(\"6m_Revenue\", axis= 1, inplace= True)"
   ]
  },
  {
   "cell_type": "code",
   "execution_count": 75,
   "id": "aa1921ed",
   "metadata": {},
   "outputs": [
    {
     "data": {
      "text/html": [
       "<div>\n",
       "<style scoped>\n",
       "    .dataframe tbody tr th:only-of-type {\n",
       "        vertical-align: middle;\n",
       "    }\n",
       "\n",
       "    .dataframe tbody tr th {\n",
       "        vertical-align: top;\n",
       "    }\n",
       "\n",
       "    .dataframe thead th {\n",
       "        text-align: right;\n",
       "    }\n",
       "</style>\n",
       "<table border=\"1\" class=\"dataframe\">\n",
       "  <thead>\n",
       "    <tr style=\"text-align: right;\">\n",
       "      <th></th>\n",
       "      <th>CustomerID</th>\n",
       "      <th>Recency</th>\n",
       "      <th>RecencyCluster</th>\n",
       "      <th>Frequency</th>\n",
       "      <th>FrequencyCluster</th>\n",
       "      <th>Revenue</th>\n",
       "      <th>RevenueCluster</th>\n",
       "      <th>OverallScore</th>\n",
       "      <th>6m_Revenue</th>\n",
       "      <th>LTVCluster</th>\n",
       "      <th>Segment_High-Value</th>\n",
       "      <th>Segment_Low-Value</th>\n",
       "      <th>Segment_Mid-Value</th>\n",
       "    </tr>\n",
       "  </thead>\n",
       "  <tbody>\n",
       "    <tr>\n",
       "      <th>0</th>\n",
       "      <td>13880.0</td>\n",
       "      <td>0.000</td>\n",
       "      <td>2</td>\n",
       "      <td>0.230769</td>\n",
       "      <td>0</td>\n",
       "      <td>0.366798</td>\n",
       "      <td>0</td>\n",
       "      <td>2</td>\n",
       "      <td>2193.14</td>\n",
       "      <td>0</td>\n",
       "      <td>0</td>\n",
       "      <td>1</td>\n",
       "      <td>0</td>\n",
       "    </tr>\n",
       "    <tr>\n",
       "      <th>1</th>\n",
       "      <td>16462.0</td>\n",
       "      <td>1.650</td>\n",
       "      <td>0</td>\n",
       "      <td>-0.717949</td>\n",
       "      <td>0</td>\n",
       "      <td>-0.664753</td>\n",
       "      <td>0</td>\n",
       "      <td>0</td>\n",
       "      <td>102.00</td>\n",
       "      <td>0</td>\n",
       "      <td>0</td>\n",
       "      <td>1</td>\n",
       "      <td>0</td>\n",
       "    </tr>\n",
       "    <tr>\n",
       "      <th>2</th>\n",
       "      <td>17068.0</td>\n",
       "      <td>-0.350</td>\n",
       "      <td>2</td>\n",
       "      <td>1.205128</td>\n",
       "      <td>1</td>\n",
       "      <td>1.515406</td>\n",
       "      <td>1</td>\n",
       "      <td>4</td>\n",
       "      <td>2216.04</td>\n",
       "      <td>0</td>\n",
       "      <td>0</td>\n",
       "      <td>0</td>\n",
       "      <td>1</td>\n",
       "    </tr>\n",
       "    <tr>\n",
       "      <th>3</th>\n",
       "      <td>12428.0</td>\n",
       "      <td>0.625</td>\n",
       "      <td>1</td>\n",
       "      <td>5.282051</td>\n",
       "      <td>2</td>\n",
       "      <td>8.792283</td>\n",
       "      <td>2</td>\n",
       "      <td>5</td>\n",
       "      <td>1645.92</td>\n",
       "      <td>0</td>\n",
       "      <td>0</td>\n",
       "      <td>0</td>\n",
       "      <td>1</td>\n",
       "    </tr>\n",
       "    <tr>\n",
       "      <th>4</th>\n",
       "      <td>16915.0</td>\n",
       "      <td>0.775</td>\n",
       "      <td>1</td>\n",
       "      <td>-0.076923</td>\n",
       "      <td>0</td>\n",
       "      <td>-0.464675</td>\n",
       "      <td>0</td>\n",
       "      <td>1</td>\n",
       "      <td>454.89</td>\n",
       "      <td>0</td>\n",
       "      <td>0</td>\n",
       "      <td>1</td>\n",
       "      <td>0</td>\n",
       "    </tr>\n",
       "  </tbody>\n",
       "</table>\n",
       "</div>"
      ],
      "text/plain": [
       "   CustomerID  Recency  RecencyCluster  Frequency  FrequencyCluster   Revenue  \\\n",
       "0     13880.0    0.000               2   0.230769                 0  0.366798   \n",
       "1     16462.0    1.650               0  -0.717949                 0 -0.664753   \n",
       "2     17068.0   -0.350               2   1.205128                 1  1.515406   \n",
       "3     12428.0    0.625               1   5.282051                 2  8.792283   \n",
       "4     16915.0    0.775               1  -0.076923                 0 -0.464675   \n",
       "\n",
       "   RevenueCluster  OverallScore  6m_Revenue  LTVCluster  Segment_High-Value  \\\n",
       "0               0             2     2193.14           0                   0   \n",
       "1               0             0      102.00           0                   0   \n",
       "2               1             4     2216.04           0                   0   \n",
       "3               2             5     1645.92           0                   0   \n",
       "4               0             1      454.89           0                   0   \n",
       "\n",
       "   Segment_Low-Value  Segment_Mid-Value  \n",
       "0                  1                  0  \n",
       "1                  1                  0  \n",
       "2                  0                  1  \n",
       "3                  0                  1  \n",
       "4                  1                  0  "
      ]
     },
     "execution_count": 75,
     "metadata": {},
     "output_type": "execute_result"
    }
   ],
   "source": [
    "final_df.head()"
   ]
  },
  {
   "cell_type": "code",
   "execution_count": 76,
   "id": "0a5d7bef",
   "metadata": {},
   "outputs": [
    {
     "data": {
      "text/plain": [
       "<AxesSubplot:>"
      ]
     },
     "execution_count": 76,
     "metadata": {},
     "output_type": "execute_result"
    },
    {
     "data": {
      "image/png": "[encoded data removed]",
      "text/plain": [
       "<Figure size 1080x720 with 2 Axes>"
      ]
     },
     "metadata": {
      "needs_background": "light"
     },
     "output_type": "display_data"
    }
   ],
   "source": [
    "## inspecting correlations within the data to assess which features might be useful\n",
    "\n",
    "plt.figure(figsize=(15,10))\n",
    "sns.heatmap(final_df.drop(\"CustomerID\", axis=1).corr(), annot=True)"
   ]
  },
  {
   "cell_type": "markdown",
   "id": "78a2d5b5",
   "metadata": {},
   "source": [
    "**Note: maybe use feature permutation later**"
   ]
  },
  {
   "cell_type": "markdown",
   "id": "dd3ddfb7",
   "metadata": {},
   "source": [
    "## Modeling\n",
    "\n",
    "Training the XGBoost algorithm to predict CLV."
   ]
  },
  {
   "cell_type": "markdown",
   "id": "eef4d7ac",
   "metadata": {},
   "source": [
    "### Classification"
   ]
  },
  {
   "cell_type": "code",
   "execution_count": 77,
   "id": "97c6cad2",
   "metadata": {},
   "outputs": [],
   "source": [
    "import xgboost as xgb\n",
    "\n",
    "from sklearn.model_selection import train_test_split\n",
    "from sklearn.metrics import classification_report, mean_squared_error, mean_absolute_error\n",
    "from sklearn.dummy import DummyClassifier, DummyRegressor"
   ]
  },
  {
   "cell_type": "code",
   "execution_count": 78,
   "id": "8cf6e283",
   "metadata": {},
   "outputs": [
    {
     "data": {
      "text/html": [
       "<div>\n",
       "<style scoped>\n",
       "    .dataframe tbody tr th:only-of-type {\n",
       "        vertical-align: middle;\n",
       "    }\n",
       "\n",
       "    .dataframe tbody tr th {\n",
       "        vertical-align: top;\n",
       "    }\n",
       "\n",
       "    .dataframe thead th {\n",
       "        text-align: right;\n",
       "    }\n",
       "</style>\n",
       "<table border=\"1\" class=\"dataframe\">\n",
       "  <thead>\n",
       "    <tr style=\"text-align: right;\">\n",
       "      <th></th>\n",
       "      <th>CustomerID</th>\n",
       "      <th>Recency</th>\n",
       "      <th>RecencyCluster</th>\n",
       "      <th>Frequency</th>\n",
       "      <th>FrequencyCluster</th>\n",
       "      <th>Revenue</th>\n",
       "      <th>RevenueCluster</th>\n",
       "      <th>OverallScore</th>\n",
       "      <th>6m_Revenue</th>\n",
       "      <th>LTVCluster</th>\n",
       "      <th>Segment_High-Value</th>\n",
       "      <th>Segment_Low-Value</th>\n",
       "      <th>Segment_Mid-Value</th>\n",
       "    </tr>\n",
       "  </thead>\n",
       "  <tbody>\n",
       "    <tr>\n",
       "      <th>0</th>\n",
       "      <td>13880.0</td>\n",
       "      <td>0.00</td>\n",
       "      <td>2</td>\n",
       "      <td>0.230769</td>\n",
       "      <td>0</td>\n",
       "      <td>0.366798</td>\n",
       "      <td>0</td>\n",
       "      <td>2</td>\n",
       "      <td>2193.14</td>\n",
       "      <td>0</td>\n",
       "      <td>0</td>\n",
       "      <td>1</td>\n",
       "      <td>0</td>\n",
       "    </tr>\n",
       "    <tr>\n",
       "      <th>1</th>\n",
       "      <td>16462.0</td>\n",
       "      <td>1.65</td>\n",
       "      <td>0</td>\n",
       "      <td>-0.717949</td>\n",
       "      <td>0</td>\n",
       "      <td>-0.664753</td>\n",
       "      <td>0</td>\n",
       "      <td>0</td>\n",
       "      <td>102.00</td>\n",
       "      <td>0</td>\n",
       "      <td>0</td>\n",
       "      <td>1</td>\n",
       "      <td>0</td>\n",
       "    </tr>\n",
       "    <tr>\n",
       "      <th>2</th>\n",
       "      <td>17068.0</td>\n",
       "      <td>-0.35</td>\n",
       "      <td>2</td>\n",
       "      <td>1.205128</td>\n",
       "      <td>1</td>\n",
       "      <td>1.515406</td>\n",
       "      <td>1</td>\n",
       "      <td>4</td>\n",
       "      <td>2216.04</td>\n",
       "      <td>0</td>\n",
       "      <td>0</td>\n",
       "      <td>0</td>\n",
       "      <td>1</td>\n",
       "    </tr>\n",
       "  </tbody>\n",
       "</table>\n",
       "</div>"
      ],
      "text/plain": [
       "   CustomerID  Recency  RecencyCluster  Frequency  FrequencyCluster   Revenue  \\\n",
       "0     13880.0     0.00               2   0.230769                 0  0.366798   \n",
       "1     16462.0     1.65               0  -0.717949                 0 -0.664753   \n",
       "2     17068.0    -0.35               2   1.205128                 1  1.515406   \n",
       "\n",
       "   RevenueCluster  OverallScore  6m_Revenue  LTVCluster  Segment_High-Value  \\\n",
       "0               0             2     2193.14           0                   0   \n",
       "1               0             0      102.00           0                   0   \n",
       "2               1             4     2216.04           0                   0   \n",
       "\n",
       "   Segment_Low-Value  Segment_Mid-Value  \n",
       "0                  1                  0  \n",
       "1                  1                  0  \n",
       "2                  0                  1  "
      ]
     },
     "execution_count": 78,
     "metadata": {},
     "output_type": "execute_result"
    }
   ],
   "source": [
    "final_df.head(3)"
   ]
  },
  {
   "cell_type": "code",
   "execution_count": 79,
   "id": "20bc90e0",
   "metadata": {},
   "outputs": [],
   "source": [
    "X = final_df.drop([\"CustomerID\", \"LTVCluster\", \"6m_Revenue\"], axis=1)\n",
    "y = final_df[[\"LTVCluster\"]]\n",
    "\n",
    "X_train, X_test, y_train, y_test = train_test_split(X, y, test_size= 0.25)"
   ]
  },
  {
   "cell_type": "markdown",
   "id": "e0ade1b4",
   "metadata": {},
   "source": [
    "using all features for now, then testing with feature importace"
   ]
  },
  {
   "cell_type": "code",
   "execution_count": 80,
   "id": "a694257a",
   "metadata": {},
   "outputs": [
    {
     "name": "stdout",
     "output_type": "stream",
     "text": [
      "The prediction accuracy baseline is 0.85\n"
     ]
    }
   ],
   "source": [
    "## establishing prediction baseline\n",
    "dummy = DummyClassifier()\n",
    "\n",
    "dummy.fit(X_train, y_train)\n",
    "\n",
    "acc = dummy.score(X_test, y_test)\n",
    "\n",
    "print(f\"The prediction accuracy baseline is {round(acc, 2)}\")"
   ]
  },
  {
   "cell_type": "code",
   "execution_count": 81,
   "id": "4839fe1b",
   "metadata": {},
   "outputs": [
    {
     "name": "stdout",
     "output_type": "stream",
     "text": [
      "[17:25:00] WARNING: /Users/runner/work/xgboost/xgboost/src/learner.cc:1115: Starting in XGBoost 1.3.0, the default evaluation metric used with the objective 'multi:softprob' was changed from 'merror' to 'mlogloss'. Explicitly set eval_metric if you'd like to restore the old behavior.\n"
     ]
    },
    {
     "name": "stderr",
     "output_type": "stream",
     "text": [
      "/Users/garritwilson/.pyenv/versions/3.8.12/envs/li-monitoring/lib/python3.8/site-packages/xgboost/sklearn.py:1224: UserWarning: The use of label encoder in XGBClassifier is deprecated and will be removed in a future release. To remove this warning, do the following: 1) Pass option use_label_encoder=False when constructing XGBClassifier object; and 2) Encode your labels (y) as integers starting with 0, i.e. 0, 1, 2, ..., [num_class - 1].\n",
      "  warnings.warn(label_encoder_deprecation_msg, UserWarning)\n",
      "/Users/garritwilson/.pyenv/versions/3.8.12/envs/li-monitoring/lib/python3.8/site-packages/sklearn/preprocessing/_label.py:98: DataConversionWarning: A column-vector y was passed when a 1d array was expected. Please change the shape of y to (n_samples, ), for example using ravel().\n",
      "  y = column_or_1d(y, warn=True)\n",
      "/Users/garritwilson/.pyenv/versions/3.8.12/envs/li-monitoring/lib/python3.8/site-packages/sklearn/preprocessing/_label.py:133: DataConversionWarning: A column-vector y was passed when a 1d array was expected. Please change the shape of y to (n_samples, ), for example using ravel().\n",
      "  y = column_or_1d(y, warn=True)\n"
     ]
    },
    {
     "data": {
      "text/html": [
       "<style>#sk-container-id-1 {color: black;background-color: white;}#sk-container-id-1 pre{padding: 0;}#sk-container-id-1 div.sk-toggleable {background-color: white;}#sk-container-id-1 label.sk-toggleable__label {cursor: pointer;display: block;width: 100%;margin-bottom: 0;padding: 0.3em;box-sizing: border-box;text-align: center;}#sk-container-id-1 label.sk-toggleable__label-arrow:before {content: \"▸\";float: left;margin-right: 0.25em;color: #696969;}#sk-container-id-1 label.sk-toggleable__label-arrow:hover:before {color: black;}#sk-container-id-1 div.sk-estimator:hover label.sk-toggleable__label-arrow:before {color: black;}#sk-container-id-1 div.sk-toggleable__content {max-height: 0;max-width: 0;overflow: hidden;text-align: left;background-color: #f0f8ff;}#sk-container-id-1 div.sk-toggleable__content pre {margin: 0.2em;color: black;border-radius: 0.25em;background-color: #f0f8ff;}#sk-container-id-1 input.sk-toggleable__control:checked~div.sk-toggleable__content {max-height: 200px;max-width: 100%;overflow: auto;}#sk-container-id-1 input.sk-toggleable__control:checked~label.sk-toggleable__label-arrow:before {content: \"▾\";}#sk-container-id-1 div.sk-estimator input.sk-toggleable__control:checked~label.sk-toggleable__label {background-color: #d4ebff;}#sk-container-id-1 div.sk-label input.sk-toggleable__control:checked~label.sk-toggleable__label {background-color: #d4ebff;}#sk-container-id-1 input.sk-hidden--visually {border: 0;clip: rect(1px 1px 1px 1px);clip: rect(1px, 1px, 1px, 1px);height: 1px;margin: -1px;overflow: hidden;padding: 0;position: absolute;width: 1px;}#sk-container-id-1 div.sk-estimator {font-family: monospace;background-color: #f0f8ff;border: 1px dotted black;border-radius: 0.25em;box-sizing: border-box;margin-bottom: 0.5em;}#sk-container-id-1 div.sk-estimator:hover {background-color: #d4ebff;}#sk-container-id-1 div.sk-parallel-item::after {content: \"\";width: 100%;border-bottom: 1px solid gray;flex-grow: 1;}#sk-container-id-1 div.sk-label:hover label.sk-toggleable__label {background-color: #d4ebff;}#sk-container-id-1 div.sk-serial::before {content: \"\";position: absolute;border-left: 1px solid gray;box-sizing: border-box;top: 0;bottom: 0;left: 50%;z-index: 0;}#sk-container-id-1 div.sk-serial {display: flex;flex-direction: column;align-items: center;background-color: white;padding-right: 0.2em;padding-left: 0.2em;position: relative;}#sk-container-id-1 div.sk-item {position: relative;z-index: 1;}#sk-container-id-1 div.sk-parallel {display: flex;align-items: stretch;justify-content: center;background-color: white;position: relative;}#sk-container-id-1 div.sk-item::before, #sk-container-id-1 div.sk-parallel-item::before {content: \"\";position: absolute;border-left: 1px solid gray;box-sizing: border-box;top: 0;bottom: 0;left: 50%;z-index: -1;}#sk-container-id-1 div.sk-parallel-item {display: flex;flex-direction: column;z-index: 1;position: relative;background-color: white;}#sk-container-id-1 div.sk-parallel-item:first-child::after {align-self: flex-end;width: 50%;}#sk-container-id-1 div.sk-parallel-item:last-child::after {align-self: flex-start;width: 50%;}#sk-container-id-1 div.sk-parallel-item:only-child::after {width: 0;}#sk-container-id-1 div.sk-dashed-wrapped {border: 1px dashed gray;margin: 0 0.4em 0.5em 0.4em;box-sizing: border-box;padding-bottom: 0.4em;background-color: white;}#sk-container-id-1 div.sk-label label {font-family: monospace;font-weight: bold;display: inline-block;line-height: 1.2em;}#sk-container-id-1 div.sk-label-container {text-align: center;}#sk-container-id-1 div.sk-container {/* jupyter's `normalize.less` sets `[hidden] { display: none; }` but bootstrap.min.css set `[hidden] { display: none !important; }` so we also need the `!important` here to be able to override the default hidden behavior on the sphinx rendered scikit-learn.org. See: https://github.com/scikit-learn/scikit-learn/issues/21755 */display: inline-block !important;position: relative;}#sk-container-id-1 div.sk-text-repr-fallback {display: none;}</style><div id=\"sk-container-id-1\" class=\"sk-top-container\"><div class=\"sk-text-repr-fallback\"><pre>XGBClassifier(base_score=0.5, booster=&#x27;gbtree&#x27;, colsample_bylevel=1,\n",
       "              colsample_bynode=1, colsample_bytree=1, enable_categorical=False,\n",
       "              gamma=0, gpu_id=-1, importance_type=None,\n",
       "              interaction_constraints=&#x27;&#x27;, learning_rate=0.1, max_delta_step=0,\n",
       "              max_depth=5, min_child_weight=1, missing=nan,\n",
       "              monotone_constraints=&#x27;()&#x27;, n_estimators=100, n_jobs=-1,\n",
       "              num_parallel_tree=1, objective=&#x27;multi:softprob&#x27;, predictor=&#x27;auto&#x27;,\n",
       "              random_state=0, reg_alpha=0, reg_lambda=1, scale_pos_weight=None,\n",
       "              subsample=1, tree_method=&#x27;exact&#x27;, validate_parameters=1,\n",
       "              verbosity=None)</pre><b>In a Jupyter environment, please rerun this cell to show the HTML representation or trust the notebook. <br />On GitHub, the HTML representation is unable to render, please try loading this page with nbviewer.org.</b></div><div class=\"sk-container\" hidden><div class=\"sk-item\"><div class=\"sk-estimator sk-toggleable\"><input class=\"sk-toggleable__control sk-hidden--visually\" id=\"sk-estimator-id-1\" type=\"checkbox\" checked><label for=\"sk-estimator-id-1\" class=\"sk-toggleable__label sk-toggleable__label-arrow\">XGBClassifier</label><div class=\"sk-toggleable__content\"><pre>XGBClassifier(base_score=0.5, booster=&#x27;gbtree&#x27;, colsample_bylevel=1,\n",
       "              colsample_bynode=1, colsample_bytree=1, enable_categorical=False,\n",
       "              gamma=0, gpu_id=-1, importance_type=None,\n",
       "              interaction_constraints=&#x27;&#x27;, learning_rate=0.1, max_delta_step=0,\n",
       "              max_depth=5, min_child_weight=1, missing=nan,\n",
       "              monotone_constraints=&#x27;()&#x27;, n_estimators=100, n_jobs=-1,\n",
       "              num_parallel_tree=1, objective=&#x27;multi:softprob&#x27;, predictor=&#x27;auto&#x27;,\n",
       "              random_state=0, reg_alpha=0, reg_lambda=1, scale_pos_weight=None,\n",
       "              subsample=1, tree_method=&#x27;exact&#x27;, validate_parameters=1,\n",
       "              verbosity=None)</pre></div></div></div></div></div>"
      ],
      "text/plain": [
       "XGBClassifier(base_score=0.5, booster='gbtree', colsample_bylevel=1,\n",
       "              colsample_bynode=1, colsample_bytree=1, enable_categorical=False,\n",
       "              gamma=0, gpu_id=-1, importance_type=None,\n",
       "              interaction_constraints='', learning_rate=0.1, max_delta_step=0,\n",
       "              max_depth=5, min_child_weight=1, missing=nan,\n",
       "              monotone_constraints='()', n_estimators=100, n_jobs=-1,\n",
       "              num_parallel_tree=1, objective='multi:softprob', predictor='auto',\n",
       "              random_state=0, reg_alpha=0, reg_lambda=1, scale_pos_weight=None,\n",
       "              subsample=1, tree_method='exact', validate_parameters=1,\n",
       "              verbosity=None)"
      ]
     },
     "execution_count": 81,
     "metadata": {},
     "output_type": "execute_result"
    }
   ],
   "source": [
    "## instantiating and fitting XGBClassifier\n",
    "clv_xgb_model_param = xgb.XGBClassifier(max_depth= 5,\n",
    "                                 learning_rate= 0.1,\n",
    "                                 objective= 'multi:softprob',\n",
    "                                 n_jobs= -1)\n",
    "\n",
    "clv_xgb_model = xgb.XGBClassifier()\n",
    "\n",
    "clv_xgb_model_param.fit(X_train, y_train)"
   ]
  },
  {
   "cell_type": "code",
   "execution_count": 82,
   "id": "ca401b0e",
   "metadata": {},
   "outputs": [
    {
     "name": "stdout",
     "output_type": "stream",
     "text": [
      "\n",
      "Model accuracy: 0.87\n",
      "\n"
     ]
    }
   ],
   "source": [
    "## evaluating XGB performance\n",
    "acc = clv_xgb_model_param.score(X_test, y_test)\n",
    "\n",
    "print(f\"\\nModel accuracy: {round(acc, 2)}\\n\")"
   ]
  },
  {
   "cell_type": "code",
   "execution_count": 83,
   "id": "965ac311",
   "metadata": {},
   "outputs": [
    {
     "name": "stdout",
     "output_type": "stream",
     "text": [
      "              precision    recall  f1-score   support\n",
      "\n",
      "           0       0.91      0.97      0.94       318\n",
      "           1       0.58      0.30      0.39        50\n",
      "           2       0.20      0.25      0.22         4\n",
      "\n",
      "    accuracy                           0.87       372\n",
      "   macro avg       0.56      0.51      0.52       372\n",
      "weighted avg       0.85      0.87      0.86       372\n",
      "\n"
     ]
    }
   ],
   "source": [
    "## inspecting classification report from sklearn\n",
    "y_pred = clv_xgb_model_param.predict(X_test)\n",
    "\n",
    "print(classification_report(y_test, y_pred))"
   ]
  },
  {
   "cell_type": "markdown",
   "id": "15e2f528",
   "metadata": {},
   "source": [
    "### Regression"
   ]
  },
  {
   "cell_type": "code",
   "execution_count": 84,
   "id": "60adaaa8",
   "metadata": {},
   "outputs": [
    {
     "data": {
      "text/html": [
       "<div>\n",
       "<style scoped>\n",
       "    .dataframe tbody tr th:only-of-type {\n",
       "        vertical-align: middle;\n",
       "    }\n",
       "\n",
       "    .dataframe tbody tr th {\n",
       "        vertical-align: top;\n",
       "    }\n",
       "\n",
       "    .dataframe thead th {\n",
       "        text-align: right;\n",
       "    }\n",
       "</style>\n",
       "<table border=\"1\" class=\"dataframe\">\n",
       "  <thead>\n",
       "    <tr style=\"text-align: right;\">\n",
       "      <th></th>\n",
       "      <th>CustomerID</th>\n",
       "      <th>Recency</th>\n",
       "      <th>RecencyCluster</th>\n",
       "      <th>Frequency</th>\n",
       "      <th>FrequencyCluster</th>\n",
       "      <th>Revenue</th>\n",
       "      <th>RevenueCluster</th>\n",
       "      <th>OverallScore</th>\n",
       "      <th>6m_Revenue</th>\n",
       "      <th>LTVCluster</th>\n",
       "      <th>Segment_High-Value</th>\n",
       "      <th>Segment_Low-Value</th>\n",
       "      <th>Segment_Mid-Value</th>\n",
       "    </tr>\n",
       "  </thead>\n",
       "  <tbody>\n",
       "    <tr>\n",
       "      <th>0</th>\n",
       "      <td>13880.0</td>\n",
       "      <td>0.000</td>\n",
       "      <td>2</td>\n",
       "      <td>0.230769</td>\n",
       "      <td>0</td>\n",
       "      <td>0.366798</td>\n",
       "      <td>0</td>\n",
       "      <td>2</td>\n",
       "      <td>2193.14</td>\n",
       "      <td>0</td>\n",
       "      <td>0</td>\n",
       "      <td>1</td>\n",
       "      <td>0</td>\n",
       "    </tr>\n",
       "    <tr>\n",
       "      <th>1</th>\n",
       "      <td>16462.0</td>\n",
       "      <td>1.650</td>\n",
       "      <td>0</td>\n",
       "      <td>-0.717949</td>\n",
       "      <td>0</td>\n",
       "      <td>-0.664753</td>\n",
       "      <td>0</td>\n",
       "      <td>0</td>\n",
       "      <td>102.00</td>\n",
       "      <td>0</td>\n",
       "      <td>0</td>\n",
       "      <td>1</td>\n",
       "      <td>0</td>\n",
       "    </tr>\n",
       "    <tr>\n",
       "      <th>2</th>\n",
       "      <td>17068.0</td>\n",
       "      <td>-0.350</td>\n",
       "      <td>2</td>\n",
       "      <td>1.205128</td>\n",
       "      <td>1</td>\n",
       "      <td>1.515406</td>\n",
       "      <td>1</td>\n",
       "      <td>4</td>\n",
       "      <td>2216.04</td>\n",
       "      <td>0</td>\n",
       "      <td>0</td>\n",
       "      <td>0</td>\n",
       "      <td>1</td>\n",
       "    </tr>\n",
       "    <tr>\n",
       "      <th>3</th>\n",
       "      <td>12428.0</td>\n",
       "      <td>0.625</td>\n",
       "      <td>1</td>\n",
       "      <td>5.282051</td>\n",
       "      <td>2</td>\n",
       "      <td>8.792283</td>\n",
       "      <td>2</td>\n",
       "      <td>5</td>\n",
       "      <td>1645.92</td>\n",
       "      <td>0</td>\n",
       "      <td>0</td>\n",
       "      <td>0</td>\n",
       "      <td>1</td>\n",
       "    </tr>\n",
       "    <tr>\n",
       "      <th>4</th>\n",
       "      <td>16915.0</td>\n",
       "      <td>0.775</td>\n",
       "      <td>1</td>\n",
       "      <td>-0.076923</td>\n",
       "      <td>0</td>\n",
       "      <td>-0.464675</td>\n",
       "      <td>0</td>\n",
       "      <td>1</td>\n",
       "      <td>454.89</td>\n",
       "      <td>0</td>\n",
       "      <td>0</td>\n",
       "      <td>1</td>\n",
       "      <td>0</td>\n",
       "    </tr>\n",
       "  </tbody>\n",
       "</table>\n",
       "</div>"
      ],
      "text/plain": [
       "   CustomerID  Recency  RecencyCluster  Frequency  FrequencyCluster   Revenue  \\\n",
       "0     13880.0    0.000               2   0.230769                 0  0.366798   \n",
       "1     16462.0    1.650               0  -0.717949                 0 -0.664753   \n",
       "2     17068.0   -0.350               2   1.205128                 1  1.515406   \n",
       "3     12428.0    0.625               1   5.282051                 2  8.792283   \n",
       "4     16915.0    0.775               1  -0.076923                 0 -0.464675   \n",
       "\n",
       "   RevenueCluster  OverallScore  6m_Revenue  LTVCluster  Segment_High-Value  \\\n",
       "0               0             2     2193.14           0                   0   \n",
       "1               0             0      102.00           0                   0   \n",
       "2               1             4     2216.04           0                   0   \n",
       "3               2             5     1645.92           0                   0   \n",
       "4               0             1      454.89           0                   0   \n",
       "\n",
       "   Segment_Low-Value  Segment_Mid-Value  \n",
       "0                  1                  0  \n",
       "1                  1                  0  \n",
       "2                  0                  1  \n",
       "3                  0                  1  \n",
       "4                  1                  0  "
      ]
     },
     "execution_count": 84,
     "metadata": {},
     "output_type": "execute_result"
    }
   ],
   "source": [
    "final_df.head()"
   ]
  },
  {
   "cell_type": "code",
   "execution_count": 85,
   "id": "81ecfb56",
   "metadata": {},
   "outputs": [],
   "source": [
    "## splitting the dataset into training and test data\n",
    "X = final_df.drop([\"CustomerID\", \"LTVCluster\", \"6m_Revenue\"], axis= 1)\n",
    "y = final_df[[\"6m_Revenue\"]]\n",
    "\n",
    "X_train, X_test, y_train, y_test = train_test_split(X, y, test_size= 0.25)"
   ]
  },
  {
   "cell_type": "code",
   "execution_count": 86,
   "id": "84e9ece0",
   "metadata": {},
   "outputs": [
    {
     "data": {
      "text/html": [
       "<div>\n",
       "<style scoped>\n",
       "    .dataframe tbody tr th:only-of-type {\n",
       "        vertical-align: middle;\n",
       "    }\n",
       "\n",
       "    .dataframe tbody tr th {\n",
       "        vertical-align: top;\n",
       "    }\n",
       "\n",
       "    .dataframe thead th {\n",
       "        text-align: right;\n",
       "    }\n",
       "</style>\n",
       "<table border=\"1\" class=\"dataframe\">\n",
       "  <thead>\n",
       "    <tr style=\"text-align: right;\">\n",
       "      <th></th>\n",
       "      <th>value</th>\n",
       "    </tr>\n",
       "    <tr>\n",
       "      <th>metric</th>\n",
       "      <th></th>\n",
       "    </tr>\n",
       "  </thead>\n",
       "  <tbody>\n",
       "    <tr>\n",
       "      <th>r2</th>\n",
       "      <td>-0.00</td>\n",
       "    </tr>\n",
       "    <tr>\n",
       "      <th>mse</th>\n",
       "      <td>6544466.40</td>\n",
       "    </tr>\n",
       "    <tr>\n",
       "      <th>rmse</th>\n",
       "      <td>2558.22</td>\n",
       "    </tr>\n",
       "    <tr>\n",
       "      <th>mae</th>\n",
       "      <td>1381.68</td>\n",
       "    </tr>\n",
       "  </tbody>\n",
       "</table>\n",
       "</div>"
      ],
      "text/plain": [
       "             value\n",
       "metric            \n",
       "r2           -0.00\n",
       "mse     6544466.40\n",
       "rmse       2558.22\n",
       "mae        1381.68"
      ]
     },
     "execution_count": 86,
     "metadata": {},
     "output_type": "execute_result"
    }
   ],
   "source": [
    "## establishing regression baseline scores\n",
    "dummy = DummyRegressor()\n",
    "\n",
    "dummy.fit(X_train, y_train)\n",
    "\n",
    "y_pred = dummy.predict(X_test)\n",
    "\n",
    "r2 = dummy.score(X_test, y_test)\n",
    "mse = mean_squared_error(y_test, y_pred)\n",
    "rmse = math.sqrt(mse)\n",
    "mae = mean_absolute_error(y_test, y_pred)\n",
    "\n",
    "results = {\n",
    "    \"metric\": [\"r2\", \"mse\", \"rmse\", \"mae\"],\n",
    "    \"value\": [r2, mse, rmse, mae]\n",
    "}\n",
    "\n",
    "pd.DataFrame(results).set_index(\"metric\").round(2)"
   ]
  },
  {
   "cell_type": "code",
   "execution_count": 87,
   "id": "42348375",
   "metadata": {},
   "outputs": [
    {
     "data": {
      "text/html": [
       "<div>\n",
       "<style scoped>\n",
       "    .dataframe tbody tr th:only-of-type {\n",
       "        vertical-align: middle;\n",
       "    }\n",
       "\n",
       "    .dataframe tbody tr th {\n",
       "        vertical-align: top;\n",
       "    }\n",
       "\n",
       "    .dataframe thead th {\n",
       "        text-align: right;\n",
       "    }\n",
       "</style>\n",
       "<table border=\"1\" class=\"dataframe\">\n",
       "  <thead>\n",
       "    <tr style=\"text-align: right;\">\n",
       "      <th></th>\n",
       "      <th>value</th>\n",
       "    </tr>\n",
       "    <tr>\n",
       "      <th>metric</th>\n",
       "      <th></th>\n",
       "    </tr>\n",
       "  </thead>\n",
       "  <tbody>\n",
       "    <tr>\n",
       "      <th>r2</th>\n",
       "      <td>0.49</td>\n",
       "    </tr>\n",
       "    <tr>\n",
       "      <th>mse</th>\n",
       "      <td>3357812.81</td>\n",
       "    </tr>\n",
       "    <tr>\n",
       "      <th>rmse</th>\n",
       "      <td>1832.43</td>\n",
       "    </tr>\n",
       "    <tr>\n",
       "      <th>mae</th>\n",
       "      <td>983.49</td>\n",
       "    </tr>\n",
       "  </tbody>\n",
       "</table>\n",
       "</div>"
      ],
      "text/plain": [
       "             value\n",
       "metric            \n",
       "r2            0.49\n",
       "mse     3357812.81\n",
       "rmse       1832.43\n",
       "mae         983.49"
      ]
     },
     "execution_count": 87,
     "metadata": {},
     "output_type": "execute_result"
    }
   ],
   "source": [
    "## predicting 6-months LTV using XGBRegressor\n",
    "xgb_regressor = xgb.XGBRegressor()\n",
    "\n",
    "xgb_regressor.fit(X_train, y_train)\n",
    "\n",
    "y_pred = xgb_regressor.predict(X_test)\n",
    "\n",
    "r2 = xgb_regressor.score(X_test, y_test)\n",
    "mse = mean_squared_error(y_test, y_pred)\n",
    "rmse = math.sqrt(mse)\n",
    "mae = mean_absolute_error(y_test, y_pred)\n",
    "\n",
    "results = {\n",
    "    \"metric\": [\"r2\", \"mse\", \"rmse\", \"mae\"],\n",
    "    \"value\": [r2, mse, rmse, mae]\n",
    "}\n",
    "\n",
    "pd.DataFrame(results).set_index(\"metric\").round(2)"
   ]
  },
  {
   "cell_type": "markdown",
   "id": "823120fe",
   "metadata": {},
   "source": [
    "## Conclusion\n",
    "\n",
    "Currently, the model is performing barely better than the baseline model (DummyClassifier) with regards to classification.\n",
    "\n",
    "This is likely due to strong imbalance in the dataset when it comes to the target variable.\n",
    "\n",
    "Possible solutionw would be: \n",
    "\n",
    "- to apply balancing, for example by creating synthetic data for LTVClusters 1 & 2.\n",
    "\n",
    "- to do more hyperparameter tuning\n",
    "\n",
    "- to test different classifiers\n",
    "\n",
    "- to use deep learning (neural networks)\n",
    "\n",
    "The regression model on the other hand seems to perform very well, with r2 value of 0.99, a root mean squared error of 118.35 and a mean absolute error of 29.61."
   ]
  }
 ],
 "metadata": {
  "kernelspec": {
   "display_name": "Python 3 (ipykernel)",
   "language": "python",
   "name": "python3"
  },
  "language_info": {
   "codemirror_mode": {
    "name": "ipython",
    "version": 3
   },
   "file_extension": ".py",
   "mimetype": "text/x-python",
   "name": "python",
   "nbconvert_exporter": "python",
   "pygments_lexer": "ipython3",
   "version": "3.8.12"
  },
  "toc": {
   "base_numbering": 1,
   "nav_menu": {},
   "number_sections": true,
   "sideBar": true,
   "skip_h1_title": false,
   "title_cell": "Table of Contents",
   "title_sidebar": "Contents",
   "toc_cell": false,
   "toc_position": {},
   "toc_section_display": true,
   "toc_window_display": false
  }
 },
 "nbformat": 4,
 "nbformat_minor": 5
}

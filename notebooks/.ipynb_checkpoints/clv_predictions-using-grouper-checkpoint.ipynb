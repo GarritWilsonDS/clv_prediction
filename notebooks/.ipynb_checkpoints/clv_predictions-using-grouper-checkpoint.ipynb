{
 "cells": [
  {
   "cell_type": "markdown",
   "id": "86671933",
   "metadata": {},
   "source": [
    "# Customer Lifetime Value Predictions\n",
    "\n",
    "In this notebook a machine learning model will be built to predict Customer Lifetime Value (CLV) of an online retail store.\n",
    "\n",
    "Data can be found here:\n",
    "*https://www.kaggle.com/datasets/vijayuv/onlineretail*\n",
    "\n",
    "\n",
    "Step-by-step process:\n",
    "\n",
    "- Define an appropriate time frame for Customer Lifetime Value calculation\n",
    "- Identify the features we are going to use to predict future value and create them\n",
    "- Calculate lifetime value (LTV) for training the machine learning model\n",
    "- Build and run the machine learning model\n",
    "- Check if the model is useful"
   ]
  },
  {
   "cell_type": "code",
   "execution_count": 1,
   "id": "9f5ebc01",
   "metadata": {},
   "outputs": [],
   "source": [
    "import pandas as pd\n",
    "import numpy as np\n",
    "import seaborn as sns\n",
    "import matplotlib.pyplot as plt\n",
    "import math\n",
    "import plotly.express as px\n",
    "\n",
    "from datetime import datetime, timedelta, date"
   ]
  },
  {
   "cell_type": "markdown",
   "id": "9c5883c8",
   "metadata": {},
   "source": [
    "## Data Import"
   ]
  },
  {
   "cell_type": "code",
   "execution_count": 2,
   "id": "96511202",
   "metadata": {},
   "outputs": [],
   "source": [
    "data = pd.read_csv(\"../data/OnlineRetail.csv\",encoding= 'unicode_escape')"
   ]
  },
  {
   "cell_type": "code",
   "execution_count": 3,
   "id": "1a05a0df",
   "metadata": {},
   "outputs": [
    {
     "data": {
      "text/html": [
       "<div>\n",
       "<style scoped>\n",
       "    .dataframe tbody tr th:only-of-type {\n",
       "        vertical-align: middle;\n",
       "    }\n",
       "\n",
       "    .dataframe tbody tr th {\n",
       "        vertical-align: top;\n",
       "    }\n",
       "\n",
       "    .dataframe thead th {\n",
       "        text-align: right;\n",
       "    }\n",
       "</style>\n",
       "<table border=\"1\" class=\"dataframe\">\n",
       "  <thead>\n",
       "    <tr style=\"text-align: right;\">\n",
       "      <th></th>\n",
       "      <th>InvoiceNo</th>\n",
       "      <th>StockCode</th>\n",
       "      <th>Description</th>\n",
       "      <th>Quantity</th>\n",
       "      <th>InvoiceDate</th>\n",
       "      <th>UnitPrice</th>\n",
       "      <th>CustomerID</th>\n",
       "      <th>Country</th>\n",
       "    </tr>\n",
       "  </thead>\n",
       "  <tbody>\n",
       "    <tr>\n",
       "      <th>0</th>\n",
       "      <td>536365</td>\n",
       "      <td>85123A</td>\n",
       "      <td>WHITE HANGING HEART T-LIGHT HOLDER</td>\n",
       "      <td>6</td>\n",
       "      <td>12/1/2010 8:26</td>\n",
       "      <td>2.55</td>\n",
       "      <td>17850.0</td>\n",
       "      <td>United Kingdom</td>\n",
       "    </tr>\n",
       "    <tr>\n",
       "      <th>1</th>\n",
       "      <td>536365</td>\n",
       "      <td>71053</td>\n",
       "      <td>WHITE METAL LANTERN</td>\n",
       "      <td>6</td>\n",
       "      <td>12/1/2010 8:26</td>\n",
       "      <td>3.39</td>\n",
       "      <td>17850.0</td>\n",
       "      <td>United Kingdom</td>\n",
       "    </tr>\n",
       "    <tr>\n",
       "      <th>2</th>\n",
       "      <td>536365</td>\n",
       "      <td>84406B</td>\n",
       "      <td>CREAM CUPID HEARTS COAT HANGER</td>\n",
       "      <td>8</td>\n",
       "      <td>12/1/2010 8:26</td>\n",
       "      <td>2.75</td>\n",
       "      <td>17850.0</td>\n",
       "      <td>United Kingdom</td>\n",
       "    </tr>\n",
       "    <tr>\n",
       "      <th>3</th>\n",
       "      <td>536365</td>\n",
       "      <td>84029G</td>\n",
       "      <td>KNITTED UNION FLAG HOT WATER BOTTLE</td>\n",
       "      <td>6</td>\n",
       "      <td>12/1/2010 8:26</td>\n",
       "      <td>3.39</td>\n",
       "      <td>17850.0</td>\n",
       "      <td>United Kingdom</td>\n",
       "    </tr>\n",
       "    <tr>\n",
       "      <th>4</th>\n",
       "      <td>536365</td>\n",
       "      <td>84029E</td>\n",
       "      <td>RED WOOLLY HOTTIE WHITE HEART.</td>\n",
       "      <td>6</td>\n",
       "      <td>12/1/2010 8:26</td>\n",
       "      <td>3.39</td>\n",
       "      <td>17850.0</td>\n",
       "      <td>United Kingdom</td>\n",
       "    </tr>\n",
       "  </tbody>\n",
       "</table>\n",
       "</div>"
      ],
      "text/plain": [
       "  InvoiceNo StockCode                          Description  Quantity  \\\n",
       "0    536365    85123A   WHITE HANGING HEART T-LIGHT HOLDER         6   \n",
       "1    536365     71053                  WHITE METAL LANTERN         6   \n",
       "2    536365    84406B       CREAM CUPID HEARTS COAT HANGER         8   \n",
       "3    536365    84029G  KNITTED UNION FLAG HOT WATER BOTTLE         6   \n",
       "4    536365    84029E       RED WOOLLY HOTTIE WHITE HEART.         6   \n",
       "\n",
       "      InvoiceDate  UnitPrice  CustomerID         Country  \n",
       "0  12/1/2010 8:26       2.55     17850.0  United Kingdom  \n",
       "1  12/1/2010 8:26       3.39     17850.0  United Kingdom  \n",
       "2  12/1/2010 8:26       2.75     17850.0  United Kingdom  \n",
       "3  12/1/2010 8:26       3.39     17850.0  United Kingdom  \n",
       "4  12/1/2010 8:26       3.39     17850.0  United Kingdom  "
      ]
     },
     "execution_count": 3,
     "metadata": {},
     "output_type": "execute_result"
    }
   ],
   "source": [
    "data.head()"
   ]
  },
  {
   "cell_type": "code",
   "execution_count": 4,
   "id": "517b4f58",
   "metadata": {},
   "outputs": [
    {
     "data": {
      "text/plain": [
       "(541909, 8)"
      ]
     },
     "execution_count": 4,
     "metadata": {},
     "output_type": "execute_result"
    }
   ],
   "source": [
    "data.shape"
   ]
  },
  {
   "cell_type": "code",
   "execution_count": 5,
   "id": "539fa490",
   "metadata": {},
   "outputs": [
    {
     "data": {
      "text/plain": [
       "InvoiceNo       object\n",
       "StockCode       object\n",
       "Description     object\n",
       "Quantity         int64\n",
       "InvoiceDate     object\n",
       "UnitPrice      float64\n",
       "CustomerID     float64\n",
       "Country         object\n",
       "dtype: object"
      ]
     },
     "execution_count": 5,
     "metadata": {},
     "output_type": "execute_result"
    }
   ],
   "source": [
    "data.dtypes"
   ]
  },
  {
   "cell_type": "markdown",
   "id": "0502eb02",
   "metadata": {},
   "source": [
    "## Data Cleaning\n",
    "\n",
    "Cleaning data"
   ]
  },
  {
   "cell_type": "markdown",
   "id": "d3f3a550",
   "metadata": {},
   "source": [
    "### Missing Values"
   ]
  },
  {
   "cell_type": "code",
   "execution_count": 6,
   "id": "d226a448",
   "metadata": {},
   "outputs": [
    {
     "data": {
      "text/plain": [
       "InvoiceNo           0\n",
       "StockCode           0\n",
       "Description      1454\n",
       "Quantity            0\n",
       "InvoiceDate         0\n",
       "UnitPrice           0\n",
       "CustomerID     135080\n",
       "Country             0\n",
       "dtype: int64"
      ]
     },
     "execution_count": 6,
     "metadata": {},
     "output_type": "execute_result"
    }
   ],
   "source": [
    "data.isnull().sum()"
   ]
  },
  {
   "cell_type": "code",
   "execution_count": 7,
   "id": "c048007c",
   "metadata": {},
   "outputs": [
    {
     "data": {
      "text/html": [
       "<div>\n",
       "<style scoped>\n",
       "    .dataframe tbody tr th:only-of-type {\n",
       "        vertical-align: middle;\n",
       "    }\n",
       "\n",
       "    .dataframe tbody tr th {\n",
       "        vertical-align: top;\n",
       "    }\n",
       "\n",
       "    .dataframe thead th {\n",
       "        text-align: right;\n",
       "    }\n",
       "</style>\n",
       "<table border=\"1\" class=\"dataframe\">\n",
       "  <thead>\n",
       "    <tr style=\"text-align: right;\">\n",
       "      <th></th>\n",
       "      <th>InvoiceNo</th>\n",
       "      <th>StockCode</th>\n",
       "      <th>Description</th>\n",
       "      <th>Quantity</th>\n",
       "      <th>InvoiceDate</th>\n",
       "      <th>UnitPrice</th>\n",
       "      <th>CustomerID</th>\n",
       "      <th>Country</th>\n",
       "    </tr>\n",
       "  </thead>\n",
       "  <tbody>\n",
       "    <tr>\n",
       "      <th>541536</th>\n",
       "      <td>581498</td>\n",
       "      <td>85099B</td>\n",
       "      <td>JUMBO BAG RED RETROSPOT</td>\n",
       "      <td>5</td>\n",
       "      <td>12/9/2011 10:26</td>\n",
       "      <td>4.13</td>\n",
       "      <td>NaN</td>\n",
       "      <td>United Kingdom</td>\n",
       "    </tr>\n",
       "    <tr>\n",
       "      <th>541537</th>\n",
       "      <td>581498</td>\n",
       "      <td>85099C</td>\n",
       "      <td>JUMBO  BAG BAROQUE BLACK WHITE</td>\n",
       "      <td>4</td>\n",
       "      <td>12/9/2011 10:26</td>\n",
       "      <td>4.13</td>\n",
       "      <td>NaN</td>\n",
       "      <td>United Kingdom</td>\n",
       "    </tr>\n",
       "    <tr>\n",
       "      <th>541538</th>\n",
       "      <td>581498</td>\n",
       "      <td>85150</td>\n",
       "      <td>LADIES &amp; GENTLEMEN METAL SIGN</td>\n",
       "      <td>1</td>\n",
       "      <td>12/9/2011 10:26</td>\n",
       "      <td>4.96</td>\n",
       "      <td>NaN</td>\n",
       "      <td>United Kingdom</td>\n",
       "    </tr>\n",
       "    <tr>\n",
       "      <th>541539</th>\n",
       "      <td>581498</td>\n",
       "      <td>85174</td>\n",
       "      <td>S/4 CACTI CANDLES</td>\n",
       "      <td>1</td>\n",
       "      <td>12/9/2011 10:26</td>\n",
       "      <td>10.79</td>\n",
       "      <td>NaN</td>\n",
       "      <td>United Kingdom</td>\n",
       "    </tr>\n",
       "    <tr>\n",
       "      <th>541540</th>\n",
       "      <td>581498</td>\n",
       "      <td>DOT</td>\n",
       "      <td>DOTCOM POSTAGE</td>\n",
       "      <td>1</td>\n",
       "      <td>12/9/2011 10:26</td>\n",
       "      <td>1714.17</td>\n",
       "      <td>NaN</td>\n",
       "      <td>United Kingdom</td>\n",
       "    </tr>\n",
       "  </tbody>\n",
       "</table>\n",
       "</div>"
      ],
      "text/plain": [
       "       InvoiceNo StockCode                     Description  Quantity  \\\n",
       "541536    581498    85099B         JUMBO BAG RED RETROSPOT         5   \n",
       "541537    581498    85099C  JUMBO  BAG BAROQUE BLACK WHITE         4   \n",
       "541538    581498     85150   LADIES & GENTLEMEN METAL SIGN         1   \n",
       "541539    581498     85174               S/4 CACTI CANDLES         1   \n",
       "541540    581498       DOT                  DOTCOM POSTAGE         1   \n",
       "\n",
       "            InvoiceDate  UnitPrice  CustomerID         Country  \n",
       "541536  12/9/2011 10:26       4.13         NaN  United Kingdom  \n",
       "541537  12/9/2011 10:26       4.13         NaN  United Kingdom  \n",
       "541538  12/9/2011 10:26       4.96         NaN  United Kingdom  \n",
       "541539  12/9/2011 10:26      10.79         NaN  United Kingdom  \n",
       "541540  12/9/2011 10:26    1714.17         NaN  United Kingdom  "
      ]
     },
     "execution_count": 7,
     "metadata": {},
     "output_type": "execute_result"
    }
   ],
   "source": [
    "data.loc[data.CustomerID.isnull() == True].tail()"
   ]
  },
  {
   "cell_type": "code",
   "execution_count": 8,
   "id": "8dd0ac3a",
   "metadata": {},
   "outputs": [],
   "source": [
    "data.dropna(axis=0, inplace= True)"
   ]
  },
  {
   "cell_type": "code",
   "execution_count": 9,
   "id": "ff4c1353",
   "metadata": {},
   "outputs": [
    {
     "data": {
      "text/plain": [
       "(406829, 8)"
      ]
     },
     "execution_count": 9,
     "metadata": {},
     "output_type": "execute_result"
    }
   ],
   "source": [
    "data.shape"
   ]
  },
  {
   "cell_type": "markdown",
   "id": "3c2a52e5",
   "metadata": {},
   "source": [
    "### Duplicates"
   ]
  },
  {
   "cell_type": "code",
   "execution_count": 10,
   "id": "dc107b09",
   "metadata": {},
   "outputs": [
    {
     "data": {
      "text/plain": [
       "5225"
      ]
     },
     "execution_count": 10,
     "metadata": {},
     "output_type": "execute_result"
    }
   ],
   "source": [
    "## assessing the nr. of duplicates in the dataset\n",
    "data.duplicated().sum()"
   ]
  },
  {
   "cell_type": "code",
   "execution_count": 11,
   "id": "367063a3",
   "metadata": {},
   "outputs": [
    {
     "data": {
      "text/html": [
       "<div>\n",
       "<style scoped>\n",
       "    .dataframe tbody tr th:only-of-type {\n",
       "        vertical-align: middle;\n",
       "    }\n",
       "\n",
       "    .dataframe tbody tr th {\n",
       "        vertical-align: top;\n",
       "    }\n",
       "\n",
       "    .dataframe thead th {\n",
       "        text-align: right;\n",
       "    }\n",
       "</style>\n",
       "<table border=\"1\" class=\"dataframe\">\n",
       "  <thead>\n",
       "    <tr style=\"text-align: right;\">\n",
       "      <th></th>\n",
       "      <th>InvoiceNo</th>\n",
       "      <th>StockCode</th>\n",
       "      <th>Description</th>\n",
       "      <th>Quantity</th>\n",
       "      <th>InvoiceDate</th>\n",
       "      <th>UnitPrice</th>\n",
       "      <th>CustomerID</th>\n",
       "      <th>Country</th>\n",
       "    </tr>\n",
       "  </thead>\n",
       "  <tbody>\n",
       "    <tr>\n",
       "      <th>541675</th>\n",
       "      <td>581538</td>\n",
       "      <td>22068</td>\n",
       "      <td>BLACK PIRATE TREASURE CHEST</td>\n",
       "      <td>1</td>\n",
       "      <td>12/9/2011 11:34</td>\n",
       "      <td>0.39</td>\n",
       "      <td>14446.0</td>\n",
       "      <td>United Kingdom</td>\n",
       "    </tr>\n",
       "    <tr>\n",
       "      <th>541689</th>\n",
       "      <td>581538</td>\n",
       "      <td>23318</td>\n",
       "      <td>BOX OF 6 MINI VINTAGE CRACKERS</td>\n",
       "      <td>1</td>\n",
       "      <td>12/9/2011 11:34</td>\n",
       "      <td>2.49</td>\n",
       "      <td>14446.0</td>\n",
       "      <td>United Kingdom</td>\n",
       "    </tr>\n",
       "    <tr>\n",
       "      <th>541692</th>\n",
       "      <td>581538</td>\n",
       "      <td>22992</td>\n",
       "      <td>REVOLVER WOODEN RULER</td>\n",
       "      <td>1</td>\n",
       "      <td>12/9/2011 11:34</td>\n",
       "      <td>1.95</td>\n",
       "      <td>14446.0</td>\n",
       "      <td>United Kingdom</td>\n",
       "    </tr>\n",
       "    <tr>\n",
       "      <th>541699</th>\n",
       "      <td>581538</td>\n",
       "      <td>22694</td>\n",
       "      <td>WICKER STAR</td>\n",
       "      <td>1</td>\n",
       "      <td>12/9/2011 11:34</td>\n",
       "      <td>2.10</td>\n",
       "      <td>14446.0</td>\n",
       "      <td>United Kingdom</td>\n",
       "    </tr>\n",
       "    <tr>\n",
       "      <th>541701</th>\n",
       "      <td>581538</td>\n",
       "      <td>23343</td>\n",
       "      <td>JUMBO BAG VINTAGE CHRISTMAS</td>\n",
       "      <td>1</td>\n",
       "      <td>12/9/2011 11:34</td>\n",
       "      <td>2.08</td>\n",
       "      <td>14446.0</td>\n",
       "      <td>United Kingdom</td>\n",
       "    </tr>\n",
       "  </tbody>\n",
       "</table>\n",
       "</div>"
      ],
      "text/plain": [
       "       InvoiceNo StockCode                     Description  Quantity  \\\n",
       "541675    581538     22068     BLACK PIRATE TREASURE CHEST         1   \n",
       "541689    581538     23318  BOX OF 6 MINI VINTAGE CRACKERS         1   \n",
       "541692    581538     22992          REVOLVER WOODEN RULER          1   \n",
       "541699    581538     22694                    WICKER STAR          1   \n",
       "541701    581538     23343    JUMBO BAG VINTAGE CHRISTMAS          1   \n",
       "\n",
       "            InvoiceDate  UnitPrice  CustomerID         Country  \n",
       "541675  12/9/2011 11:34       0.39     14446.0  United Kingdom  \n",
       "541689  12/9/2011 11:34       2.49     14446.0  United Kingdom  \n",
       "541692  12/9/2011 11:34       1.95     14446.0  United Kingdom  \n",
       "541699  12/9/2011 11:34       2.10     14446.0  United Kingdom  \n",
       "541701  12/9/2011 11:34       2.08     14446.0  United Kingdom  "
      ]
     },
     "execution_count": 11,
     "metadata": {},
     "output_type": "execute_result"
    }
   ],
   "source": [
    "data.loc[data.duplicated() == True].tail()"
   ]
  },
  {
   "cell_type": "markdown",
   "id": "665cf765",
   "metadata": {},
   "source": [
    "The rows which are denoted as duplicates are sufficiently dissimilar to be valid data entries, and are therefore kept in the data."
   ]
  },
  {
   "cell_type": "markdown",
   "id": "3459544c",
   "metadata": {},
   "source": [
    "### Outliers"
   ]
  },
  {
   "cell_type": "code",
   "execution_count": 12,
   "id": "7d25a2e1",
   "metadata": {},
   "outputs": [
    {
     "data": {
      "image/png": "[encoded data removed]",
      "text/plain": [
       "<Figure size 720x360 with 1 Axes>"
      ]
     },
     "metadata": {
      "needs_background": "light"
     },
     "output_type": "display_data"
    }
   ],
   "source": [
    "## Inspecting Outliers in Quantity\n",
    "plt.figure(figsize= (10,5))\n",
    "plt.boxplot(data.Quantity, vert= False);"
   ]
  },
  {
   "cell_type": "code",
   "execution_count": 13,
   "id": "8ce4cd93",
   "metadata": {},
   "outputs": [
    {
     "data": {
      "text/html": [
       "<div>\n",
       "<style scoped>\n",
       "    .dataframe tbody tr th:only-of-type {\n",
       "        vertical-align: middle;\n",
       "    }\n",
       "\n",
       "    .dataframe tbody tr th {\n",
       "        vertical-align: top;\n",
       "    }\n",
       "\n",
       "    .dataframe thead th {\n",
       "        text-align: right;\n",
       "    }\n",
       "</style>\n",
       "<table border=\"1\" class=\"dataframe\">\n",
       "  <thead>\n",
       "    <tr style=\"text-align: right;\">\n",
       "      <th></th>\n",
       "      <th>InvoiceNo</th>\n",
       "      <th>StockCode</th>\n",
       "      <th>Description</th>\n",
       "      <th>Quantity</th>\n",
       "      <th>InvoiceDate</th>\n",
       "      <th>UnitPrice</th>\n",
       "      <th>CustomerID</th>\n",
       "      <th>Country</th>\n",
       "    </tr>\n",
       "  </thead>\n",
       "  <tbody>\n",
       "    <tr>\n",
       "      <th>540421</th>\n",
       "      <td>581483</td>\n",
       "      <td>23843</td>\n",
       "      <td>PAPER CRAFT , LITTLE BIRDIE</td>\n",
       "      <td>80995</td>\n",
       "      <td>12/9/2011 9:15</td>\n",
       "      <td>2.08</td>\n",
       "      <td>16446.0</td>\n",
       "      <td>United Kingdom</td>\n",
       "    </tr>\n",
       "    <tr>\n",
       "      <th>61619</th>\n",
       "      <td>541431</td>\n",
       "      <td>23166</td>\n",
       "      <td>MEDIUM CERAMIC TOP STORAGE JAR</td>\n",
       "      <td>74215</td>\n",
       "      <td>1/18/2011 10:01</td>\n",
       "      <td>1.04</td>\n",
       "      <td>12346.0</td>\n",
       "      <td>United Kingdom</td>\n",
       "    </tr>\n",
       "  </tbody>\n",
       "</table>\n",
       "</div>"
      ],
      "text/plain": [
       "       InvoiceNo StockCode                     Description  Quantity  \\\n",
       "540421    581483     23843     PAPER CRAFT , LITTLE BIRDIE     80995   \n",
       "61619     541431     23166  MEDIUM CERAMIC TOP STORAGE JAR     74215   \n",
       "\n",
       "            InvoiceDate  UnitPrice  CustomerID         Country  \n",
       "540421   12/9/2011 9:15       2.08     16446.0  United Kingdom  \n",
       "61619   1/18/2011 10:01       1.04     12346.0  United Kingdom  "
      ]
     },
     "execution_count": 13,
     "metadata": {},
     "output_type": "execute_result"
    }
   ],
   "source": [
    "## inspecting the orders with the highest quantity\n",
    "data.sort_values(by=\"Quantity\", ascending=False).head(2)"
   ]
  },
  {
   "cell_type": "markdown",
   "id": "f245cefa",
   "metadata": {},
   "source": [
    "As there is no Information regarding whether the orders are valid or not, they will be dropped, in order not to skew the rest of the data."
   ]
  },
  {
   "cell_type": "code",
   "execution_count": 14,
   "id": "7d76d8ef",
   "metadata": {},
   "outputs": [],
   "source": [
    "## dropping rows where Quantity is negative, as well as outliers in quantity\n",
    "idx = data.loc[data.Quantity < 0].index\n",
    "\n",
    "data.drop(idx, inplace= True)\n",
    "\n",
    "idx = data.sort_values(by=\"Quantity\", ascending=False).head(2).index\n",
    "\n",
    "data.drop(idx, inplace= True)"
   ]
  },
  {
   "cell_type": "code",
   "execution_count": 15,
   "id": "ae5543d4",
   "metadata": {},
   "outputs": [
    {
     "data": {
      "image/png": "[encoded data removed]",
      "text/plain": [
       "<Figure size 720x360 with 1 Axes>"
      ]
     },
     "metadata": {
      "needs_background": "light"
     },
     "output_type": "display_data"
    }
   ],
   "source": [
    "## Inspecting outliers in UnitPrice\n",
    "plt.figure(figsize= (10,5))\n",
    "plt.boxplot(data.UnitPrice, vert= False);"
   ]
  },
  {
   "cell_type": "code",
   "execution_count": 16,
   "id": "952d200f",
   "metadata": {},
   "outputs": [
    {
     "data": {
      "text/html": [
       "<div>\n",
       "<style scoped>\n",
       "    .dataframe tbody tr th:only-of-type {\n",
       "        vertical-align: middle;\n",
       "    }\n",
       "\n",
       "    .dataframe tbody tr th {\n",
       "        vertical-align: top;\n",
       "    }\n",
       "\n",
       "    .dataframe thead th {\n",
       "        text-align: right;\n",
       "    }\n",
       "</style>\n",
       "<table border=\"1\" class=\"dataframe\">\n",
       "  <thead>\n",
       "    <tr style=\"text-align: right;\">\n",
       "      <th></th>\n",
       "      <th>InvoiceNo</th>\n",
       "      <th>StockCode</th>\n",
       "      <th>Description</th>\n",
       "      <th>Quantity</th>\n",
       "      <th>InvoiceDate</th>\n",
       "      <th>UnitPrice</th>\n",
       "      <th>CustomerID</th>\n",
       "      <th>Country</th>\n",
       "    </tr>\n",
       "  </thead>\n",
       "  <tbody>\n",
       "    <tr>\n",
       "      <th>173382</th>\n",
       "      <td>551697</td>\n",
       "      <td>POST</td>\n",
       "      <td>POSTAGE</td>\n",
       "      <td>1</td>\n",
       "      <td>5/3/2011 13:46</td>\n",
       "      <td>8142.75</td>\n",
       "      <td>16029.0</td>\n",
       "      <td>United Kingdom</td>\n",
       "    </tr>\n",
       "  </tbody>\n",
       "</table>\n",
       "</div>"
      ],
      "text/plain": [
       "       InvoiceNo StockCode Description  Quantity     InvoiceDate  UnitPrice  \\\n",
       "173382    551697      POST     POSTAGE         1  5/3/2011 13:46    8142.75   \n",
       "\n",
       "        CustomerID         Country  \n",
       "173382     16029.0  United Kingdom  "
      ]
     },
     "execution_count": 16,
     "metadata": {},
     "output_type": "execute_result"
    }
   ],
   "source": [
    "data.loc[data.UnitPrice == data.UnitPrice.max()]"
   ]
  },
  {
   "cell_type": "markdown",
   "id": "14a6e921",
   "metadata": {},
   "source": [
    "As there is no information regarding validity of the unit prices, and they appear reasonable, they will be left in the data."
   ]
  },
  {
   "cell_type": "code",
   "execution_count": 17,
   "id": "aefad7a3",
   "metadata": {},
   "outputs": [],
   "source": [
    "## changing InvoiceDate data type to datetime\n",
    "data[\"InvoiceDate\"] = pd.to_datetime(data.InvoiceDate)"
   ]
  },
  {
   "cell_type": "code",
   "execution_count": 18,
   "id": "1099f52b",
   "metadata": {},
   "outputs": [
    {
     "data": {
      "text/plain": [
       "InvoiceNo              object\n",
       "StockCode              object\n",
       "Description            object\n",
       "Quantity                int64\n",
       "InvoiceDate    datetime64[ns]\n",
       "UnitPrice             float64\n",
       "CustomerID            float64\n",
       "Country                object\n",
       "dtype: object"
      ]
     },
     "execution_count": 18,
     "metadata": {},
     "output_type": "execute_result"
    }
   ],
   "source": [
    "data.dtypes"
   ]
  },
  {
   "cell_type": "markdown",
   "id": "6e4b6b6d",
   "metadata": {},
   "source": [
    "## Data Exploration\n",
    "\n",
    "Exploring statistical trends and distributions"
   ]
  },
  {
   "cell_type": "code",
   "execution_count": 19,
   "id": "a6fedb07",
   "metadata": {},
   "outputs": [
    {
     "data": {
      "text/html": [
       "<div>\n",
       "<style scoped>\n",
       "    .dataframe tbody tr th:only-of-type {\n",
       "        vertical-align: middle;\n",
       "    }\n",
       "\n",
       "    .dataframe tbody tr th {\n",
       "        vertical-align: top;\n",
       "    }\n",
       "\n",
       "    .dataframe thead th {\n",
       "        text-align: right;\n",
       "    }\n",
       "</style>\n",
       "<table border=\"1\" class=\"dataframe\">\n",
       "  <thead>\n",
       "    <tr style=\"text-align: right;\">\n",
       "      <th></th>\n",
       "      <th>InvoiceNo</th>\n",
       "      <th>StockCode</th>\n",
       "      <th>Description</th>\n",
       "      <th>Quantity</th>\n",
       "      <th>InvoiceDate</th>\n",
       "      <th>UnitPrice</th>\n",
       "      <th>CustomerID</th>\n",
       "      <th>Country</th>\n",
       "    </tr>\n",
       "  </thead>\n",
       "  <tbody>\n",
       "    <tr>\n",
       "      <th>0</th>\n",
       "      <td>536365</td>\n",
       "      <td>85123A</td>\n",
       "      <td>WHITE HANGING HEART T-LIGHT HOLDER</td>\n",
       "      <td>6</td>\n",
       "      <td>2010-12-01 08:26:00</td>\n",
       "      <td>2.55</td>\n",
       "      <td>17850.0</td>\n",
       "      <td>United Kingdom</td>\n",
       "    </tr>\n",
       "    <tr>\n",
       "      <th>1</th>\n",
       "      <td>536365</td>\n",
       "      <td>71053</td>\n",
       "      <td>WHITE METAL LANTERN</td>\n",
       "      <td>6</td>\n",
       "      <td>2010-12-01 08:26:00</td>\n",
       "      <td>3.39</td>\n",
       "      <td>17850.0</td>\n",
       "      <td>United Kingdom</td>\n",
       "    </tr>\n",
       "    <tr>\n",
       "      <th>2</th>\n",
       "      <td>536365</td>\n",
       "      <td>84406B</td>\n",
       "      <td>CREAM CUPID HEARTS COAT HANGER</td>\n",
       "      <td>8</td>\n",
       "      <td>2010-12-01 08:26:00</td>\n",
       "      <td>2.75</td>\n",
       "      <td>17850.0</td>\n",
       "      <td>United Kingdom</td>\n",
       "    </tr>\n",
       "  </tbody>\n",
       "</table>\n",
       "</div>"
      ],
      "text/plain": [
       "  InvoiceNo StockCode                         Description  Quantity  \\\n",
       "0    536365    85123A  WHITE HANGING HEART T-LIGHT HOLDER         6   \n",
       "1    536365     71053                 WHITE METAL LANTERN         6   \n",
       "2    536365    84406B      CREAM CUPID HEARTS COAT HANGER         8   \n",
       "\n",
       "          InvoiceDate  UnitPrice  CustomerID         Country  \n",
       "0 2010-12-01 08:26:00       2.55     17850.0  United Kingdom  \n",
       "1 2010-12-01 08:26:00       3.39     17850.0  United Kingdom  \n",
       "2 2010-12-01 08:26:00       2.75     17850.0  United Kingdom  "
      ]
     },
     "execution_count": 19,
     "metadata": {},
     "output_type": "execute_result"
    }
   ],
   "source": [
    "data.head(3)"
   ]
  },
  {
   "cell_type": "code",
   "execution_count": 20,
   "id": "757a7931",
   "metadata": {},
   "outputs": [
    {
     "data": {
      "text/plain": [
       "count    397922.000000\n",
       "mean         12.631837\n",
       "std          47.263643\n",
       "min           1.000000\n",
       "25%           2.000000\n",
       "50%           6.000000\n",
       "75%          12.000000\n",
       "max       12540.000000\n",
       "Name: Quantity, dtype: float64"
      ]
     },
     "execution_count": 20,
     "metadata": {},
     "output_type": "execute_result"
    }
   ],
   "source": [
    "## showing a statistical summary of the distribution of Quantity\n",
    "data.Quantity.describe()"
   ]
  },
  {
   "cell_type": "code",
   "execution_count": 21,
   "id": "97cfb4d7",
   "metadata": {},
   "outputs": [
    {
     "name": "stdout",
     "output_type": "stream",
     "text": [
      "\n",
      "There are, in total, 4338 customers.\n",
      "\n"
     ]
    }
   ],
   "source": [
    "## inspecting the amount of individual customers\n",
    "print(f\"\\nThere are, in total, {len(data.CustomerID.unique())} customers.\\n\")"
   ]
  },
  {
   "cell_type": "code",
   "execution_count": 22,
   "id": "287443ba",
   "metadata": {},
   "outputs": [
    {
     "data": {
      "image/png": "[encoded data removed]",
      "text/plain": [
       "<Figure size 1080x504 with 1 Axes>"
      ]
     },
     "metadata": {
      "needs_background": "light"
     },
     "output_type": "display_data"
    }
   ],
   "source": [
    "## inspecting country of origin of the customers\n",
    "plt.figure(figsize=(15,7))\n",
    "data.Country.value_counts().plot(kind=\"bar\")\n",
    "plt.title(\"Country of origin of customers\", size=20)\n",
    "plt.xticks(rotation=80);"
   ]
  },
  {
   "cell_type": "code",
   "execution_count": 23,
   "id": "9ff57b12",
   "metadata": {},
   "outputs": [
    {
     "name": "stdout",
     "output_type": "stream",
     "text": [
      "\n",
      "Orders in the dataset range from 2010-12-01 to 2011-12-09\n",
      "\n"
     ]
    }
   ],
   "source": [
    "## inspecting the timeframe of the dataset\n",
    "earliest_date = data.InvoiceDate.min().date()\n",
    "latest_date = data.InvoiceDate.max().date()\n",
    "\n",
    "print(f\"\\nOrders in the dataset range from {earliest_date} to {latest_date}\\n\")"
   ]
  },
  {
   "cell_type": "code",
   "execution_count": 24,
   "id": "2654b097",
   "metadata": {},
   "outputs": [
    {
     "data": {
      "image/png": "[encoded data removed]",
      "text/plain": [
       "<Figure size 1440x720 with 1 Axes>"
      ]
     },
     "metadata": {
      "needs_background": "light"
     },
     "output_type": "display_data"
    }
   ],
   "source": [
    "## inspecting amount of orders per day\n",
    "date_df = data.copy()\n",
    "\n",
    "date_df[\"date\"] = date_df[\"InvoiceDate\"].apply(lambda x: x.date())\n",
    "\n",
    "date_df = pd.DataFrame(date_df.groupby(\"date\")[\"Quantity\"].sum()).reset_index().sort_values(by=\"date\")\n",
    "\n",
    "## plotting the distribution\n",
    "plt.figure(figsize=(20,10))\n",
    "plt.plot(date_df.date, date_df.Quantity, c= \"forestgreen\")\n",
    "plt.title(\"Amount of orders per day\", size=20)\n",
    "plt.xticks(size=15)\n",
    "plt.ylabel(\"Amount of orders\", size=13);"
   ]
  },
  {
   "cell_type": "markdown",
   "id": "4495236d",
   "metadata": {},
   "source": [
    "### Calculating Revenue"
   ]
  },
  {
   "cell_type": "code",
   "execution_count": 25,
   "id": "7bf98c8d",
   "metadata": {},
   "outputs": [],
   "source": [
    "## calculating revenue as sum of quantity and unit price per order\n",
    "data[\"Revenue\"] = data[\"Quantity\"] * data[\"UnitPrice\"]"
   ]
  },
  {
   "cell_type": "markdown",
   "id": "03e6a18b",
   "metadata": {},
   "source": [
    "## Customer Segmentation\n",
    "\n",
    "This section segments customers into clusters based on Recency, Frequency and Monetary Value.\n",
    "\n",
    "These features will then be used to forecast CLV.\n",
    "\n",
    "In the first step, only the 3 months of data will be analysed and processed, which will then be used to predict the next 6 months."
   ]
  },
  {
   "cell_type": "markdown",
   "id": "67b05f85",
   "metadata": {},
   "source": [
    "# --New Approach to Segmentation--"
   ]
  },
  {
   "cell_type": "code",
   "execution_count": 93,
   "id": "1b618500",
   "metadata": {},
   "outputs": [],
   "source": [
    "data = data.loc[data['InvoiceDate'] < '2011-12-01']"
   ]
  },
  {
   "cell_type": "code",
   "execution_count": 96,
   "id": "178dac8d",
   "metadata": {},
   "outputs": [],
   "source": [
    "def groupby_mean(x):\n",
    "    return x.mean()\n",
    "\n",
    "def groupby_count(x):\n",
    "    return x.count()\n",
    "\n",
    "def purchase_duration(x):\n",
    "    return (x.max() - x.min()).days\n",
    "\n",
    "def avg_frequency(x):\n",
    "    return (x.max() - x.min()).days / x.count()\n",
    "\n",
    "groupby_mean.__name__ = 'avg'\n",
    "groupby_count.__name__ = 'count'\n",
    "purchase_duration.__name__ = 'purchase_duration'\n",
    "avg_frequency.__name__ = 'purchase_frequency'"
   ]
  },
  {
   "cell_type": "code",
   "execution_count": 91,
   "id": "ee8a7da9",
   "metadata": {},
   "outputs": [],
   "source": [
    "def group_by_3M(df, clv_freq):\n",
    "    '''This function slices the dataframe into chunks of a select timeframe.\n",
    "    This is done so that previous timeframes can be used to predict CLV for a later timeframe.\n",
    "    Ex.: Slicing into 3 months timeframes, to predict the last chunk based on all previous ones.'''\n",
    "    \n",
    "    df_orders = df.groupby(['CustomerID', 'InvoiceNo']).agg({'Revenue': sum, 'InvoiceDate': max})\n",
    "\n",
    "    df_data = df_orders.reset_index().groupby([\n",
    "                'CustomerID',\n",
    "                pd.Grouper(key='InvoiceDate', freq=clv_freq)\n",
    "                ]).agg({'Revenue': [sum, groupby_mean, groupby_count],})\n",
    "\n",
    "    df_data.columns = ['_'.join(col).lower() for col in df_data.columns]\n",
    "    \n",
    "    df_data.reset_index(inplace= True)\n",
    "    \n",
    "    map_date_month = {str(x)[:10]: 'M_%s' % (i+1) for i, x in enumerate(\n",
    "                    sorted(df_data.reset_index()['InvoiceDate'].unique(), reverse=True))}\n",
    "    \n",
    "    df_data[\"M\"] = df_data[\"InvoiceDate\"].apply(lambda x: map_date_month[str(x)[:10]])\n",
    "    \n",
    "    return df_data\n",
    "    \n",
    "    "
   ]
  },
  {
   "cell_type": "code",
   "execution_count": 109,
   "id": "4d8d4cce",
   "metadata": {},
   "outputs": [
    {
     "data": {
      "text/html": [
       "<div>\n",
       "<style scoped>\n",
       "    .dataframe tbody tr th:only-of-type {\n",
       "        vertical-align: middle;\n",
       "    }\n",
       "\n",
       "    .dataframe tbody tr th {\n",
       "        vertical-align: top;\n",
       "    }\n",
       "\n",
       "    .dataframe thead th {\n",
       "        text-align: right;\n",
       "    }\n",
       "</style>\n",
       "<table border=\"1\" class=\"dataframe\">\n",
       "  <thead>\n",
       "    <tr style=\"text-align: right;\">\n",
       "      <th></th>\n",
       "      <th>CustomerID</th>\n",
       "      <th>InvoiceDate</th>\n",
       "      <th>revenue_sum</th>\n",
       "      <th>revenue_avg</th>\n",
       "      <th>revenue_count</th>\n",
       "      <th>M</th>\n",
       "    </tr>\n",
       "  </thead>\n",
       "  <tbody>\n",
       "    <tr>\n",
       "      <th>0</th>\n",
       "      <td>12347.0</td>\n",
       "      <td>2010-12-31</td>\n",
       "      <td>711.79</td>\n",
       "      <td>711.790</td>\n",
       "      <td>1</td>\n",
       "      <td>M_5</td>\n",
       "    </tr>\n",
       "    <tr>\n",
       "      <th>1</th>\n",
       "      <td>12347.0</td>\n",
       "      <td>2011-03-31</td>\n",
       "      <td>475.39</td>\n",
       "      <td>475.390</td>\n",
       "      <td>1</td>\n",
       "      <td>M_4</td>\n",
       "    </tr>\n",
       "    <tr>\n",
       "      <th>2</th>\n",
       "      <td>12347.0</td>\n",
       "      <td>2011-06-30</td>\n",
       "      <td>1018.77</td>\n",
       "      <td>509.385</td>\n",
       "      <td>2</td>\n",
       "      <td>M_3</td>\n",
       "    </tr>\n",
       "    <tr>\n",
       "      <th>3</th>\n",
       "      <td>12347.0</td>\n",
       "      <td>2011-09-30</td>\n",
       "      <td>584.91</td>\n",
       "      <td>584.910</td>\n",
       "      <td>1</td>\n",
       "      <td>M_2</td>\n",
       "    </tr>\n",
       "    <tr>\n",
       "      <th>4</th>\n",
       "      <td>12347.0</td>\n",
       "      <td>2011-12-31</td>\n",
       "      <td>1294.32</td>\n",
       "      <td>1294.320</td>\n",
       "      <td>1</td>\n",
       "      <td>M_1</td>\n",
       "    </tr>\n",
       "  </tbody>\n",
       "</table>\n",
       "</div>"
      ],
      "text/plain": [
       "   CustomerID InvoiceDate  revenue_sum  revenue_avg  revenue_count    M\n",
       "0     12347.0  2010-12-31       711.79      711.790              1  M_5\n",
       "1     12347.0  2011-03-31       475.39      475.390              1  M_4\n",
       "2     12347.0  2011-06-30      1018.77      509.385              2  M_3\n",
       "3     12347.0  2011-09-30       584.91      584.910              1  M_2\n",
       "4     12347.0  2011-12-31      1294.32     1294.320              1  M_1"
      ]
     },
     "execution_count": 109,
     "metadata": {},
     "output_type": "execute_result"
    }
   ],
   "source": [
    "df_data = group_by_3M(data, clv_freq='3M')\n",
    "\n",
    "df_data.head()"
   ]
  },
  {
   "cell_type": "code",
   "execution_count": null,
   "id": "0141185d",
   "metadata": {},
   "outputs": [],
   "source": [
    "df_features = pd.pivot_table(\n",
    "                df_data.loc[df_data['M'] != 'M_1'], \n",
    "                values=['sales_sum', 'sales_avg', 'sales_count'], \n",
    "                columns='M', \n",
    "                index='CustomerID')"
   ]
  },
  {
   "cell_type": "code",
   "execution_count": null,
   "id": "3e85353d",
   "metadata": {},
   "outputs": [],
   "source": []
  },
  {
   "cell_type": "code",
   "execution_count": null,
   "id": "973456c8",
   "metadata": {},
   "outputs": [],
   "source": []
  },
  {
   "cell_type": "code",
   "execution_count": null,
   "id": "799dd5a6",
   "metadata": {},
   "outputs": [],
   "source": []
  },
  {
   "cell_type": "code",
   "execution_count": null,
   "id": "e441b74a",
   "metadata": {},
   "outputs": [],
   "source": []
  },
  {
   "cell_type": "code",
   "execution_count": null,
   "id": "507c4357",
   "metadata": {},
   "outputs": [],
   "source": [
    "## making 3 - months and 6 - months dataframes\n",
    "data_3m = data[(data.InvoiceDate.dt.date < date(2011,6,1)) & (data.InvoiceDate.dt.date >= date(2011,3,1))].reset_index()\n",
    "data_6m = data[(data.InvoiceDate.dt.date >= date(2011,6,1)) & (data.InvoiceDate.dt.date < date(2011,12,1))].reset_index()"
   ]
  },
  {
   "cell_type": "code",
   "execution_count": null,
   "id": "e3fd04fc",
   "metadata": {},
   "outputs": [],
   "source": [
    "data_3m.shape"
   ]
  },
  {
   "cell_type": "markdown",
   "id": "2f7ace58",
   "metadata": {},
   "source": [
    "### Calculating *Recency*\n",
    "\n",
    "Finding out most recent purchase date for each customer, and see how many days they have been inactive for.\n",
    "\n",
    "Afterwards, k-Means clustering will be applied to assign a *recency score*."
   ]
  },
  {
   "cell_type": "code",
   "execution_count": null,
   "id": "68793fd3",
   "metadata": {},
   "outputs": [],
   "source": [
    "## creating a new dataframe using customer ID\n",
    "user_df = pd.DataFrame(data_3m.CustomerID.unique(), columns= [\"CustomerID\"])"
   ]
  },
  {
   "cell_type": "code",
   "execution_count": null,
   "id": "fa17c65f",
   "metadata": {},
   "outputs": [],
   "source": [
    "## get the latest purchase date for each customer and assign it to a new column\n",
    "latest_purchase_df = pd.DataFrame(data_3m.groupby(\"CustomerID\").InvoiceDate.max().reset_index())\n",
    "latest_purchase_df.columns = [\"CustomerID\", \"LatestPurchaseDate\"]"
   ]
  },
  {
   "cell_type": "code",
   "execution_count": null,
   "id": "0927ce1e",
   "metadata": {},
   "outputs": [],
   "source": [
    "## calculate difference between observation date (overall latest invoice date) \n",
    "## and latest invoice date per customer\n",
    "latest_purchase_df[\"Recency\"] = (data_3m.InvoiceDate.max() - latest_purchase_df[\"LatestPurchaseDate\"]).dt.days"
   ]
  },
  {
   "cell_type": "code",
   "execution_count": null,
   "id": "543999ee",
   "metadata": {},
   "outputs": [],
   "source": [
    "## merge the dataframe\n",
    "recency_df = pd.merge(user_df, latest_purchase_df[[\"CustomerID\", \"Recency\"]], on=\"CustomerID\")"
   ]
  },
  {
   "cell_type": "code",
   "execution_count": null,
   "id": "925382a9",
   "metadata": {},
   "outputs": [],
   "source": [
    "## plotting recency\n",
    "plt.figure(figsize=(15,7))\n",
    "sns.histplot(data=recency_df.Recency, bins=50)\n",
    "plt.title(\"Distribution of Recency Data\", size=15);"
   ]
  },
  {
   "cell_type": "code",
   "execution_count": null,
   "id": "09a92196",
   "metadata": {},
   "outputs": [],
   "source": [
    "## statistical summary of recency data\n",
    "recency_df.Recency.describe()"
   ]
  },
  {
   "cell_type": "code",
   "execution_count": null,
   "id": "0e99c635",
   "metadata": {},
   "outputs": [],
   "source": [
    "## applying K-Means Clustering\n",
    "from sklearn.cluster import KMeans\n",
    "\n",
    "sse= {}\n",
    "recency = recency_df[[\"Recency\"]]\n",
    "for k in range(1,10):\n",
    "    kmeans = KMeans(n_clusters=k, max_iter=1000).fit(recency)\n",
    "    recency[\"clusters\"] = kmeans.labels_\n",
    "    sse[k] = kmeans.inertia_"
   ]
  },
  {
   "cell_type": "code",
   "execution_count": null,
   "id": "b066c6b4",
   "metadata": {},
   "outputs": [],
   "source": [
    "## plotting inertia to determine optimal nr. of clusters\n",
    "plt.figure(figsize=(10,6))\n",
    "plt.plot(list(sse.keys()), list(sse.values()))\n",
    "plt.xlabel(\"Number of clusters\")\n",
    "plt.title(\"Inertia of KMeans Clustering for Recency\", size=15);"
   ]
  },
  {
   "cell_type": "markdown",
   "id": "642f7f79",
   "metadata": {},
   "source": [
    "According to the inertia graph, 3 appears to be the optimal number of clusters."
   ]
  },
  {
   "cell_type": "code",
   "execution_count": null,
   "id": "e74fc282",
   "metadata": {},
   "outputs": [],
   "source": [
    "## assigning clusters to all customers in the dataset\n",
    "kmeans = KMeans(n_clusters= 3)\n",
    "kmeans.fit(recency_df[[\"Recency\"]])\n",
    "recency_df[\"RecencyCluster\"] = kmeans.predict(recency_df[[\"Recency\"]])"
   ]
  },
  {
   "cell_type": "code",
   "execution_count": null,
   "id": "144d256e",
   "metadata": {},
   "outputs": [],
   "source": [
    "## function for ordering cluster numbers, to have an order based on \"value\"\n",
    "def order_cluster(cluster_field_name, target_field_name,df,ascending):\n",
    "    \n",
    "    new_cluster_field_name = 'new_' + cluster_field_name\n",
    "    \n",
    "    df_new = df.groupby(cluster_field_name)[target_field_name].mean().reset_index()\n",
    "    \n",
    "    df_new = df_new.sort_values(by=target_field_name,ascending=ascending).reset_index(drop=True)\n",
    "    \n",
    "    df_new['index'] = df_new.index\n",
    "    \n",
    "    df_final = pd.merge(df,df_new[[cluster_field_name,'index']], on=cluster_field_name)\n",
    "    \n",
    "    df_final = df_final.drop([cluster_field_name],axis=1)\n",
    "    \n",
    "    df_final = df_final.rename(columns={\"index\":cluster_field_name})\n",
    "    \n",
    "    return df_final"
   ]
  },
  {
   "cell_type": "code",
   "execution_count": null,
   "id": "cabc43a0",
   "metadata": {},
   "outputs": [],
   "source": [
    "## applying order_cluster() to recency_df\n",
    "recency_df = order_cluster('RecencyCluster', 'Recency',recency_df,False)"
   ]
  },
  {
   "cell_type": "code",
   "execution_count": null,
   "id": "88f84d2c",
   "metadata": {},
   "outputs": [],
   "source": [
    "## inspecting statistics for all clusters\n",
    "recency_df.groupby(\"RecencyCluster\")[\"Recency\"].describe()"
   ]
  },
  {
   "cell_type": "code",
   "execution_count": null,
   "id": "d56c7786",
   "metadata": {},
   "outputs": [],
   "source": [
    "recency_df.head()"
   ]
  },
  {
   "cell_type": "code",
   "execution_count": null,
   "id": "4fc58b3c",
   "metadata": {},
   "outputs": [],
   "source": [
    "## including recency data in user_df\n",
    "user_df= pd.merge(user_df, recency_df, on= \"CustomerID\")"
   ]
  },
  {
   "cell_type": "markdown",
   "id": "bd876efa",
   "metadata": {},
   "source": [
    "### Calculating Frequency\n",
    "\n",
    "Find the total number of orders for each customer"
   ]
  },
  {
   "cell_type": "code",
   "execution_count": null,
   "id": "b4e36a0e",
   "metadata": {},
   "outputs": [],
   "source": [
    "## making dataframe with total number of orders per customer\n",
    "frequency_df = data_3m.groupby(\"CustomerID\").InvoiceDate.count().reset_index()\n",
    "frequency_df.columns = [\"CustomerID\", \"Frequency\"]\n",
    "\n",
    "frequency_df.head()"
   ]
  },
  {
   "cell_type": "code",
   "execution_count": null,
   "id": "a5713139",
   "metadata": {},
   "outputs": [],
   "source": [
    "## plotting the distribution\n",
    "plt.figure(figsize=(15,7))\n",
    "sns.histplot(frequency_df[\"Frequency\"], bins=100)\n",
    "plt.title(\"Distribution of buying frequency per customer\", size=15);"
   ]
  },
  {
   "cell_type": "code",
   "execution_count": null,
   "id": "2a0e7f3c",
   "metadata": {},
   "outputs": [],
   "source": [
    "## applying frequency clusters\n",
    "\n",
    "sse= {}\n",
    "frequency = frequency_df[[\"Frequency\"]]\n",
    "for k in range(1,10):\n",
    "    kmeans= KMeans(n_clusters= k, max_iter=1000).fit(frequency)\n",
    "    frequency[\"clusters\"] = kmeans.labels_\n",
    "    sse[k] = kmeans.inertia_"
   ]
  },
  {
   "cell_type": "code",
   "execution_count": null,
   "id": "2929ab01",
   "metadata": {},
   "outputs": [],
   "source": [
    "## plotting inertia\n",
    "plt.figure(figsize=(10,6))\n",
    "plt.plot(list(sse.keys()), list(sse.values()))\n",
    "plt.xlabel(\"Number of clusters\")\n",
    "plt.title(\"Inertia of KMeans Clustering for Frequency\", size=15);"
   ]
  },
  {
   "cell_type": "markdown",
   "id": "bd561113",
   "metadata": {},
   "source": [
    "It appears that the best number of clusters is 5."
   ]
  },
  {
   "cell_type": "code",
   "execution_count": null,
   "id": "bb652f34",
   "metadata": {},
   "outputs": [],
   "source": [
    "## fitting the clusters to the customers\n",
    "kmeans = KMeans(n_clusters= 5, max_iter=1000).fit(frequency_df[[\"Frequency\"]])\n",
    "frequency_df[\"FrequencyCluster\"] = kmeans.predict(frequency_df[[\"Frequency\"]])"
   ]
  },
  {
   "cell_type": "code",
   "execution_count": null,
   "id": "91ed78f2",
   "metadata": {},
   "outputs": [],
   "source": [
    "frequency_df = order_cluster(\"FrequencyCluster\", \"Frequency\", frequency_df, True)"
   ]
  },
  {
   "cell_type": "code",
   "execution_count": null,
   "id": "e1afb0ec",
   "metadata": {},
   "outputs": [],
   "source": [
    "## inspecting statistics for all clusters\n",
    "frequency_df.groupby(\"FrequencyCluster\")[\"Frequency\"].describe()"
   ]
  },
  {
   "cell_type": "code",
   "execution_count": null,
   "id": "734b6d63",
   "metadata": {},
   "outputs": [],
   "source": [
    "## including frequency data in user_df\n",
    "user_df= pd.merge(user_df, frequency_df, on= \"CustomerID\")"
   ]
  },
  {
   "cell_type": "markdown",
   "id": "8923e3b0",
   "metadata": {},
   "source": [
    "### Calculating Monetary Value\n",
    "\n",
    "Clustering Customers based on Revenue."
   ]
  },
  {
   "cell_type": "code",
   "execution_count": null,
   "id": "fc0dd265",
   "metadata": {},
   "outputs": [],
   "source": [
    "## assessing total revenue per customer\n",
    "revenue_df = data_3m.groupby(\"CustomerID\")[\"Revenue\"].sum().reset_index()"
   ]
  },
  {
   "cell_type": "code",
   "execution_count": null,
   "id": "e55ce7c4",
   "metadata": {},
   "outputs": [],
   "source": [
    "## plotting the revenue distribution\n",
    "plt.figure(figsize=(15,7))\n",
    "sns.histplot(revenue_df[\"Revenue\"], bins=100)\n",
    "plt.title(\"Distribution of buying frequency per customer\", size=15);"
   ]
  },
  {
   "cell_type": "code",
   "execution_count": null,
   "id": "02e7a3ff",
   "metadata": {},
   "outputs": [],
   "source": [
    "## clustering based on revenue\n",
    "sse = {}\n",
    "revenue = revenue_df[[\"Revenue\"]]\n",
    "for k in range(1,10):\n",
    "    kmeans= KMeans(n_clusters= k, max_iter= 1000).fit(revenue)\n",
    "    revenue[\"clusters\"] = kmeans.labels_\n",
    "    sse[k] = kmeans.inertia_"
   ]
  },
  {
   "cell_type": "code",
   "execution_count": null,
   "id": "1951df6b",
   "metadata": {},
   "outputs": [],
   "source": [
    "## plotting inertia\n",
    "plt.figure(figsize=(10,6))\n",
    "plt.plot(list(sse.keys()), list(sse.values()))\n",
    "plt.xlabel(\"Number of clusters\")\n",
    "plt.title(\"Inertia of KMeans Clustering for Revenue\", size=15);"
   ]
  },
  {
   "cell_type": "markdown",
   "id": "cd58d37e",
   "metadata": {},
   "source": [
    "Based on the inertia plot, the optimal number of clusters is 5."
   ]
  },
  {
   "cell_type": "code",
   "execution_count": null,
   "id": "e399f7ff",
   "metadata": {},
   "outputs": [],
   "source": [
    "## clustering customers based on revenue\n",
    "kmeans = KMeans(n_clusters= 5, max_iter= 1000)\n",
    "kmeans.fit(revenue_df[[\"Revenue\"]])\n",
    "\n",
    "revenue_df[\"RevenueCluster\"] = kmeans.predict(revenue_df[[\"Revenue\"]])\n",
    "\n",
    "revenue_df = order_cluster(\"RevenueCluster\", \"Revenue\", revenue_df, True)"
   ]
  },
  {
   "cell_type": "code",
   "execution_count": null,
   "id": "26c3f568",
   "metadata": {},
   "outputs": [],
   "source": [
    "## inspecting descriptive statistics for all revenue clusters\n",
    "revenue_df.groupby(\"RevenueCluster\")[\"Revenue\"].describe()"
   ]
  },
  {
   "cell_type": "code",
   "execution_count": null,
   "id": "5127876c",
   "metadata": {},
   "outputs": [],
   "source": [
    "## including revenue data in user_df\n",
    "user_df= pd.merge(user_df, revenue_df, on= \"CustomerID\")"
   ]
  },
  {
   "cell_type": "markdown",
   "id": "89df7604",
   "metadata": {},
   "source": [
    "### Making final dataframe"
   ]
  },
  {
   "cell_type": "code",
   "execution_count": null,
   "id": "0e107c74",
   "metadata": {},
   "outputs": [],
   "source": [
    "user_df.head()"
   ]
  },
  {
   "cell_type": "code",
   "execution_count": null,
   "id": "e2b60978",
   "metadata": {},
   "outputs": [],
   "source": [
    "## applying over all scoring by adding cluster numbers\n",
    "user_df[\"OverallScore\"] = user_df[\"RecencyCluster\"] + user_df[\"FrequencyCluster\"] + user_df[\"RevenueCluster\"]"
   ]
  },
  {
   "cell_type": "code",
   "execution_count": null,
   "id": "681b2496",
   "metadata": {},
   "outputs": [],
   "source": [
    "## creating the final dataframe\n",
    "user_df.groupby(\"OverallScore\")[\"Recency\", \"Frequency\", \"Revenue\"].mean()"
   ]
  },
  {
   "cell_type": "code",
   "execution_count": null,
   "id": "8590c566",
   "metadata": {},
   "outputs": [],
   "source": [
    "## binning the clusters into classes\n",
    "user_df[\"Segment\"] = 'Low-Value'\n",
    "user_df[\"Segment\"].loc[user_df.OverallScore>3] = \"Mid-Value\"\n",
    "user_df[\"Segment\"].loc[user_df.OverallScore>6] = \"High-Value\""
   ]
  },
  {
   "cell_type": "code",
   "execution_count": null,
   "id": "ed123815",
   "metadata": {},
   "outputs": [],
   "source": [
    "## inspecting the final dataframe\n",
    "user_df.head()"
   ]
  },
  {
   "cell_type": "markdown",
   "id": "4c44c4ca",
   "metadata": {},
   "source": [
    "## Plotting the customer segmentation"
   ]
  },
  {
   "cell_type": "code",
   "execution_count": null,
   "id": "a0e3c6bd",
   "metadata": {},
   "outputs": [],
   "source": [
    "## dropping outliers in frequency\n",
    "\n",
    "for col in [\"Frequency\", \"Recency\", \"Revenue\"]:\n",
    "\n",
    "    mask = user_df[col] > user_df[col].quantile(0.99)\n",
    "\n",
    "    user_df.drop(user_df[mask].index, inplace=True)\n",
    "\n",
    "## plotting with plotly\n",
    "fig = px.scatter_3d(user_df, x='Frequency', y='Recency', z='Revenue', color= \"OverallScore\",\n",
    "                   size_max=5, opacity= 0.6)\n",
    "\n",
    "fig.show()"
   ]
  },
  {
   "cell_type": "code",
   "execution_count": null,
   "id": "7e62c936",
   "metadata": {},
   "outputs": [],
   "source": [
    "user_df.shape"
   ]
  },
  {
   "cell_type": "markdown",
   "id": "4f8307f1",
   "metadata": {},
   "source": [
    "### Calculating 6-months lifetime value (LTV)\n",
    "\n",
    "The 6-months LTV is going to be used for training the machine learning algorithm.\n",
    "\n",
    "As this is going to be a supervised learning task, the RFM features that have just been created will be used to predict the 6-months LTV, which will be calculated next."
   ]
  },
  {
   "cell_type": "code",
   "execution_count": null,
   "id": "7d7f237d",
   "metadata": {},
   "outputs": [],
   "source": [
    "## making the 6m user dataframe with the sum of revenue generated per customer\n",
    "user_df_6m = data_6m.groupby(\"CustomerID\")[\"Revenue\"].sum().reset_index()\n",
    "user_df_6m.columns = [\"CustomerID\", \"6m_Revenue\"]"
   ]
  },
  {
   "cell_type": "code",
   "execution_count": null,
   "id": "b5293b7f",
   "metadata": {},
   "outputs": [],
   "source": [
    "## visualizing the distribution of revenue per customer\n",
    "plt.figure(figsize=(15,7))\n",
    "sns.histplot(user_df_6m[\"6m_Revenue\"], bins= 50)"
   ]
  },
  {
   "cell_type": "code",
   "execution_count": null,
   "id": "67f80365",
   "metadata": {},
   "outputs": [],
   "source": [
    "## merging 6-months and 3-months dataframes\n",
    "df_merged = pd.merge(user_df, user_df_6m, on=\"CustomerID\", how='left')\n",
    "df_merged.shape"
   ]
  },
  {
   "cell_type": "code",
   "execution_count": null,
   "id": "acddee5e",
   "metadata": {},
   "outputs": [],
   "source": [
    "## as there are nan-values in the dataset, they will be dropped\n",
    "df_merged.dropna(inplace=True)\n",
    "df_merged.shape"
   ]
  },
  {
   "cell_type": "code",
   "execution_count": null,
   "id": "b6831c9d",
   "metadata": {},
   "outputs": [],
   "source": [
    "## removing outliers from df_merged\n",
    "df_merged = df_merged[df_merged['6m_Revenue'] < df_merged[\"6m_Revenue\"].quantile(0.99)]"
   ]
  },
  {
   "cell_type": "code",
   "execution_count": null,
   "id": "cdc50486",
   "metadata": {},
   "outputs": [],
   "source": [
    "df_merged[\"6m_Revenue\"].describe()"
   ]
  },
  {
   "cell_type": "code",
   "execution_count": null,
   "id": "c752d152",
   "metadata": {},
   "outputs": [],
   "source": [
    "## plotting 6 months LTV distribution per RFM cluster\n",
    "df_graph = df_merged.loc[df_merged[\"6m_Revenue\"] < 30000]\n",
    "\n",
    "plt.figure(figsize=(20,10))\n",
    "sns.stripplot(data= df_graph,\n",
    "                 x= df_graph[\"OverallScore\"],\n",
    "                 y= df_graph[\"6m_Revenue\"],\n",
    "                 size=10,\n",
    "                 alpha= 0.7)\n",
    "\n",
    "plt.title(\"6 Months Revenue per RFM - Customer Segment\", size= 20)\n",
    "plt.ylabel(\"6 Months LTV\", size= 15)\n",
    "plt.xlabel(\"RFM - Customer Segment\", size= 15);"
   ]
  },
  {
   "cell_type": "markdown",
   "id": "56f6f8e0",
   "metadata": {},
   "source": [
    "From the above graph it is visible that there seems to be a positive correlation between RFM scores and 6 months LTV."
   ]
  },
  {
   "cell_type": "markdown",
   "id": "5f58567b",
   "metadata": {},
   "source": [
    "### Clustering LTV\n",
    "\n",
    "The business problem here is to predict which customers will have a high LTV, so that the business can act on that insight (e.g. with targeted marketing and retention campaigns).\n",
    "\n",
    "Therefore, the target variable will be LTV - segments, which classify customers as having either high, medium, or low 6-months LTV."
   ]
  },
  {
   "cell_type": "code",
   "execution_count": null,
   "id": "a202cf86",
   "metadata": {},
   "outputs": [],
   "source": [
    "## clustering 6 months LTV\n",
    "kmeans = KMeans(n_clusters= 3, max_iter= 1000)\n",
    "kmeans.fit(df_merged[[\"6m_Revenue\"]])\n",
    "\n",
    "df_merged[\"LTVCluster\"]= kmeans.predict(df_merged[[\"6m_Revenue\"]])\n",
    "\n",
    "df_merged = order_cluster(\"LTVCluster\", \"6m_Revenue\", df_merged, True)"
   ]
  },
  {
   "cell_type": "code",
   "execution_count": null,
   "id": "d69d7d8f",
   "metadata": {},
   "outputs": [],
   "source": [
    "df_merged.groupby(\"LTVCluster\")[\"6m_Revenue\"].describe()"
   ]
  },
  {
   "cell_type": "markdown",
   "id": "5ebcb614",
   "metadata": {},
   "source": [
    "## Feature Engineering"
   ]
  },
  {
   "cell_type": "code",
   "execution_count": null,
   "id": "838cf324",
   "metadata": {},
   "outputs": [],
   "source": [
    "from sklearn.preprocessing import OneHotEncoder, RobustScaler"
   ]
  },
  {
   "cell_type": "code",
   "execution_count": null,
   "id": "45f014f6",
   "metadata": {},
   "outputs": [],
   "source": [
    "df_merged.head(3)"
   ]
  },
  {
   "cell_type": "code",
   "execution_count": null,
   "id": "0e186c43",
   "metadata": {},
   "outputs": [],
   "source": [
    "## encoding the 'segment' column\n",
    "final_df = pd.get_dummies(df_merged)\n",
    "final_df.head()"
   ]
  },
  {
   "cell_type": "code",
   "execution_count": null,
   "id": "ef751e3c",
   "metadata": {},
   "outputs": [],
   "source": [
    "## scaling numerical features\n",
    "\n",
    "for col in [\"Recency\", \"Frequency\", \"Revenue\"]:\n",
    "    \n",
    "    scaler = RobustScaler()\n",
    "    \n",
    "    scaler.fit(final_df[[col]])\n",
    "    \n",
    "    final_df[col] = scaler.transform(final_df[[col]])"
   ]
  },
  {
   "cell_type": "code",
   "execution_count": null,
   "id": "dcd79b60",
   "metadata": {},
   "outputs": [],
   "source": [
    "## dropping 6 months revenue column (cannot be used for prediction due to data leakage)\n",
    "#final_df.drop(\"6m_Revenue\", axis= 1, inplace= True)"
   ]
  },
  {
   "cell_type": "code",
   "execution_count": null,
   "id": "aa1921ed",
   "metadata": {},
   "outputs": [],
   "source": [
    "final_df.head()"
   ]
  },
  {
   "cell_type": "code",
   "execution_count": null,
   "id": "0a5d7bef",
   "metadata": {},
   "outputs": [],
   "source": [
    "## inspecting correlations within the data to assess which features might be useful\n",
    "\n",
    "plt.figure(figsize=(15,10))\n",
    "sns.heatmap(final_df.drop(\"CustomerID\", axis=1).corr(), annot=True)"
   ]
  },
  {
   "cell_type": "markdown",
   "id": "dd3ddfb7",
   "metadata": {},
   "source": [
    "## Modeling\n",
    "\n",
    "Training the XGBoost algorithm to predict CLV."
   ]
  },
  {
   "cell_type": "markdown",
   "id": "eef4d7ac",
   "metadata": {},
   "source": [
    "### Classification"
   ]
  },
  {
   "cell_type": "code",
   "execution_count": null,
   "id": "97c6cad2",
   "metadata": {},
   "outputs": [],
   "source": [
    "import xgboost as xgb\n",
    "\n",
    "from sklearn.model_selection import train_test_split\n",
    "from sklearn.metrics import classification_report, mean_squared_error, mean_absolute_error\n",
    "from sklearn.dummy import DummyClassifier, DummyRegressor"
   ]
  },
  {
   "cell_type": "code",
   "execution_count": null,
   "id": "8cf6e283",
   "metadata": {},
   "outputs": [],
   "source": [
    "final_df.head(3)"
   ]
  },
  {
   "cell_type": "code",
   "execution_count": null,
   "id": "20bc90e0",
   "metadata": {},
   "outputs": [],
   "source": [
    "X = final_df.drop([\"CustomerID\", \"LTVCluster\", \"6m_Revenue\"], axis=1)\n",
    "y = final_df[[\"LTVCluster\"]]\n",
    "\n",
    "X_train, X_test, y_train, y_test = train_test_split(X, y, test_size= 0.25)"
   ]
  },
  {
   "cell_type": "markdown",
   "id": "e0ade1b4",
   "metadata": {},
   "source": [
    "using all features for now, then testing with feature importace"
   ]
  },
  {
   "cell_type": "code",
   "execution_count": null,
   "id": "a694257a",
   "metadata": {},
   "outputs": [],
   "source": [
    "## establishing prediction baseline\n",
    "dummy = DummyClassifier()\n",
    "\n",
    "dummy.fit(X_train, y_train)\n",
    "\n",
    "acc = dummy.score(X_test, y_test)\n",
    "\n",
    "print(f\"The prediction accuracy baseline is {round(acc, 2)}\")"
   ]
  },
  {
   "cell_type": "code",
   "execution_count": null,
   "id": "4839fe1b",
   "metadata": {},
   "outputs": [],
   "source": [
    "## instantiating and fitting XGBClassifier\n",
    "clv_xgb_model_param = xgb.XGBClassifier(max_depth= 5,\n",
    "                                 learning_rate= 0.1,\n",
    "                                 objective= 'multi:softprob',\n",
    "                                 n_jobs= -1)\n",
    "\n",
    "clv_xgb_model = xgb.XGBClassifier()\n",
    "\n",
    "clv_xgb_model_param.fit(X_train, y_train)"
   ]
  },
  {
   "cell_type": "code",
   "execution_count": null,
   "id": "ca401b0e",
   "metadata": {},
   "outputs": [],
   "source": [
    "## evaluating XGB performance\n",
    "acc = clv_xgb_model_param.score(X_test, y_test)\n",
    "\n",
    "print(f\"\\nModel accuracy: {round(acc, 2)}\\n\")"
   ]
  },
  {
   "cell_type": "code",
   "execution_count": null,
   "id": "965ac311",
   "metadata": {},
   "outputs": [],
   "source": [
    "## inspecting classification report from sklearn\n",
    "y_pred = clv_xgb_model_param.predict(X_test)\n",
    "\n",
    "print(classification_report(y_test, y_pred))"
   ]
  },
  {
   "cell_type": "markdown",
   "id": "15e2f528",
   "metadata": {},
   "source": [
    "### Regression"
   ]
  },
  {
   "cell_type": "code",
   "execution_count": null,
   "id": "60adaaa8",
   "metadata": {},
   "outputs": [],
   "source": [
    "final_df.head()"
   ]
  },
  {
   "cell_type": "code",
   "execution_count": null,
   "id": "81ecfb56",
   "metadata": {},
   "outputs": [],
   "source": [
    "## splitting the dataset into training and test data\n",
    "X = final_df.drop([\"CustomerID\", \"LTVCluster\", \"6m_Revenue\"], axis= 1)\n",
    "y = final_df[[\"6m_Revenue\"]]\n",
    "\n",
    "X_train, X_test, y_train, y_test = train_test_split(X, y, test_size= 0.25)"
   ]
  },
  {
   "cell_type": "code",
   "execution_count": null,
   "id": "84e9ece0",
   "metadata": {},
   "outputs": [],
   "source": [
    "## establishing regression baseline scores\n",
    "dummy = DummyRegressor()\n",
    "\n",
    "dummy.fit(X_train, y_train)\n",
    "\n",
    "y_pred = dummy.predict(X_test)\n",
    "\n",
    "r2 = dummy.score(X_test, y_test)\n",
    "mse = mean_squared_error(y_test, y_pred)\n",
    "rmse = math.sqrt(mse)\n",
    "mae = mean_absolute_error(y_test, y_pred)\n",
    "\n",
    "results = {\n",
    "    \"metric\": [\"r2\", \"mse\", \"rmse\", \"mae\"],\n",
    "    \"value\": [r2, mse, rmse, mae]\n",
    "}\n",
    "\n",
    "pd.DataFrame(results).set_index(\"metric\").round(2)"
   ]
  },
  {
   "cell_type": "code",
   "execution_count": null,
   "id": "42348375",
   "metadata": {},
   "outputs": [],
   "source": [
    "## predicting 6-months LTV using XGBRegressor\n",
    "xgb_regressor = xgb.XGBRegressor()\n",
    "\n",
    "xgb_regressor.fit(X_train, y_train)\n",
    "\n",
    "y_pred = xgb_regressor.predict(X_test)\n",
    "\n",
    "r2 = xgb_regressor.score(X_test, y_test)\n",
    "mse = mean_squared_error(y_test, y_pred)\n",
    "rmse = math.sqrt(mse)\n",
    "mae = mean_absolute_error(y_test, y_pred)\n",
    "\n",
    "results = {\n",
    "    \"metric\": [\"r2\", \"mse\", \"rmse\", \"mae\"],\n",
    "    \"value\": [r2, mse, rmse, mae]\n",
    "}\n",
    "\n",
    "pd.DataFrame(results).set_index(\"metric\").round(2)"
   ]
  },
  {
   "cell_type": "markdown",
   "id": "823120fe",
   "metadata": {},
   "source": [
    "## Conclusion\n",
    "\n",
    "Currently, the model is performing barely better than the baseline model (DummyClassifier) with regards to classification.\n",
    "\n",
    "This is likely due to strong imbalance in the dataset when it comes to the target variable.\n",
    "\n",
    "Possible solutionw would be: \n",
    "\n",
    "- to apply balancing, for example by creating synthetic data for LTVClusters 1 & 2.\n",
    "\n",
    "- to do more hyperparameter tuning\n",
    "\n",
    "- to test different classifiers\n",
    "\n",
    "- to use deep learning (neural networks)\n",
    "\n",
    "The regression model on the other hand seems to perform very well, with r2 value of 0.99, a root mean squared error of 118.35 and a mean absolute error of 29.61."
   ]
  },
  {
   "cell_type": "markdown",
   "id": "844f6ebc",
   "metadata": {},
   "source": [
    "# Sandbox"
   ]
  },
  {
   "cell_type": "code",
   "execution_count": null,
   "id": "cd7e7169",
   "metadata": {},
   "outputs": [],
   "source": [
    "from sklearn.model_selection import train_test_split, cross_validate"
   ]
  },
  {
   "cell_type": "code",
   "execution_count": null,
   "id": "69cff471",
   "metadata": {},
   "outputs": [],
   "source": [
    "def modeling(df):\n",
    "    '''This function fits an XGBRegressor algorithm to the data,\n",
    "    and predicts the lifetime value per Customer.'''\n",
    "    \n",
    "    X = df.drop([\"CustomerID\", \"6m_Revenue\", \"LTVCluster\"], axis= 1)\n",
    "    y= df[\"6m_Revenue\"]\n",
    "    \n",
    "    X_train, X_test, y_train, y_test = train_test_split(X, y, test_size= 0.25)\n",
    "    \n",
    "    xgb_regressor = xgb.XGBRegressor()\n",
    "    \n",
    "    xgb_regressor.fit(X_train, y_train)\n",
    "    \n",
    "    cv_results = cross_validate(xgb_regressor,\n",
    "                               X= X_train,\n",
    "                               y= y_train,\n",
    "                               cv= 5,\n",
    "                               scoring= [\"neg_mean_squared_error\"])\n",
    "    \n",
    "    score = abs(cv_results[\"test_neg_mean_squared_error\"].mean())\n",
    "    \n",
    "    print(f'RMSE of XGBRegressor: {math.sqrt(score)}')\n",
    "    \n",
    "    return df, (X_train, X_test, y_train, y_test), xgb_regressor"
   ]
  },
  {
   "cell_type": "code",
   "execution_count": null,
   "id": "bac8ae35",
   "metadata": {},
   "outputs": [],
   "source": [
    "df_pred, data_split, model = modeling(final_df)\n",
    "\n",
    "X_train, X_test, y_train, y_test = data_split[0], data_split[1], data_split[2], data_split[3]"
   ]
  },
  {
   "cell_type": "code",
   "execution_count": null,
   "id": "079f4a14",
   "metadata": {},
   "outputs": [],
   "source": [
    "predicted_ltv = X_test\n",
    "predicted_ltv[\"Predicted_LTV\"] = model.predict(predicted_ltv)\n",
    "\n",
    "predicted_ltv[\"CustomerID\"] = list(range(0, len(predicted_ltv)))\n",
    "predicted_ltv[\"Actual_LTV\"] = y_test\n",
    "\n",
    "predicted_ltv= predicted_ltv[[\"CustomerID\", \"Actual_LTV\", \"Predicted_LTV\"]]\n"
   ]
  },
  {
   "cell_type": "code",
   "execution_count": null,
   "id": "0c015f97",
   "metadata": {},
   "outputs": [],
   "source": [
    "predicted_ltv"
   ]
  },
  {
   "cell_type": "code",
   "execution_count": null,
   "id": "704460da",
   "metadata": {},
   "outputs": [],
   "source": [
    "sample = predicted_ltv.sample(n= 50)"
   ]
  },
  {
   "cell_type": "code",
   "execution_count": null,
   "id": "88113f45",
   "metadata": {},
   "outputs": [],
   "source": [
    "X= sample[\"CustomerID\"]\n",
    "Y1 = sample[\"Predicted_LTV\"]\n",
    "Y2 = sample[\"Actual_LTV\"]\n",
    "\n",
    "X_axis = np.arange(len(X))\n",
    "\n",
    "plt.figure(figsize=(20,10))\n",
    "plt.bar(X_axis - 0.2, Y1, 0.4, label = 'Predicted LTV')\n",
    "plt.bar(X_axis + 0.2, Y2, 0.4, label = 'Real LTV')\n",
    "\n",
    "plt.title(\"Actual vs. Predicted Lifetime Value for 100 Random Customers\", size= 20)\n",
    "plt.ylabel('LTV', size= 15)\n",
    "plt.legend();"
   ]
  },
  {
   "cell_type": "code",
   "execution_count": null,
   "id": "1885c294",
   "metadata": {},
   "outputs": [],
   "source": [
    "comparison_df = sample[[\"Actual_LTV\", \"Predicted_LTV\"]].copy()\n",
    "\n",
    "comparison_df[\"error\"] = comparison_df[\"Actual_LTV\"] - comparison_df[\"Predicted_LTV\"]\n",
    "\n",
    "comparison_df.head()"
   ]
  },
  {
   "cell_type": "code",
   "execution_count": null,
   "id": "731148dc",
   "metadata": {},
   "outputs": [],
   "source": [
    "plt.figure(figsize=(20,10))\n",
    "plt.bar(list(range(0,len(comparison_df))),comparison_df[\"error\"])"
   ]
  }
 ],
 "metadata": {
  "kernelspec": {
   "display_name": "Python 3 (ipykernel)",
   "language": "python",
   "name": "python3"
  },
  "language_info": {
   "codemirror_mode": {
    "name": "ipython",
    "version": 3
   },
   "file_extension": ".py",
   "mimetype": "text/x-python",
   "name": "python",
   "nbconvert_exporter": "python",
   "pygments_lexer": "ipython3",
   "version": "3.8.12"
  },
  "toc": {
   "base_numbering": 1,
   "nav_menu": {},
   "number_sections": true,
   "sideBar": true,
   "skip_h1_title": false,
   "title_cell": "Table of Contents",
   "title_sidebar": "Contents",
   "toc_cell": false,
   "toc_position": {},
   "toc_section_display": true,
   "toc_window_display": false
  }
 },
 "nbformat": 4,
 "nbformat_minor": 5
}

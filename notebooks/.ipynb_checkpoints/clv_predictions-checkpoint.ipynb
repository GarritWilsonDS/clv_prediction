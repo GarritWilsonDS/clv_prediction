{
 "cells": [
  {
   "cell_type": "markdown",
   "id": "86671933",
   "metadata": {},
   "source": [
    "# Customer Lifetime Value Predictions\n",
    "\n",
    "In this notebook a machine learning model will be built to predict Customer Lifetime Value (CLV) of an online retail store.\n",
    "\n",
    "Data can be found here:\n",
    "*https://www.kaggle.com/datasets/vijayuv/onlineretail*\n",
    "\n",
    "\n",
    "Step-by-step process:\n",
    "\n",
    "- Define an appropriate time frame for Customer Lifetime Value calculation\n",
    "- Identify the features we are going to use to predict future value and create them\n",
    "- Calculate lifetime value (LTV) for training the machine learning model\n",
    "- Build and run the machine learning model\n",
    "- Check if the model is useful"
   ]
  },
  {
   "cell_type": "code",
   "execution_count": 1,
   "id": "9f5ebc01",
   "metadata": {},
   "outputs": [],
   "source": [
    "import pandas as pd\n",
    "import numpy as np\n",
    "import seaborn as sns\n",
    "import matplotlib.pyplot as plt"
   ]
  },
  {
   "cell_type": "markdown",
   "id": "9c5883c8",
   "metadata": {},
   "source": [
    "## Data Import"
   ]
  },
  {
   "cell_type": "code",
   "execution_count": 2,
   "id": "96511202",
   "metadata": {},
   "outputs": [],
   "source": [
    "data = pd.read_csv(\"../data/OnlineRetail.csv\",encoding= 'unicode_escape')"
   ]
  },
  {
   "cell_type": "code",
   "execution_count": 3,
   "id": "1a05a0df",
   "metadata": {},
   "outputs": [
    {
     "data": {
      "text/html": [
       "<div>\n",
       "<style scoped>\n",
       "    .dataframe tbody tr th:only-of-type {\n",
       "        vertical-align: middle;\n",
       "    }\n",
       "\n",
       "    .dataframe tbody tr th {\n",
       "        vertical-align: top;\n",
       "    }\n",
       "\n",
       "    .dataframe thead th {\n",
       "        text-align: right;\n",
       "    }\n",
       "</style>\n",
       "<table border=\"1\" class=\"dataframe\">\n",
       "  <thead>\n",
       "    <tr style=\"text-align: right;\">\n",
       "      <th></th>\n",
       "      <th>InvoiceNo</th>\n",
       "      <th>StockCode</th>\n",
       "      <th>Description</th>\n",
       "      <th>Quantity</th>\n",
       "      <th>InvoiceDate</th>\n",
       "      <th>UnitPrice</th>\n",
       "      <th>CustomerID</th>\n",
       "      <th>Country</th>\n",
       "    </tr>\n",
       "  </thead>\n",
       "  <tbody>\n",
       "    <tr>\n",
       "      <th>0</th>\n",
       "      <td>536365</td>\n",
       "      <td>85123A</td>\n",
       "      <td>WHITE HANGING HEART T-LIGHT HOLDER</td>\n",
       "      <td>6</td>\n",
       "      <td>12/1/2010 8:26</td>\n",
       "      <td>2.55</td>\n",
       "      <td>17850.0</td>\n",
       "      <td>United Kingdom</td>\n",
       "    </tr>\n",
       "    <tr>\n",
       "      <th>1</th>\n",
       "      <td>536365</td>\n",
       "      <td>71053</td>\n",
       "      <td>WHITE METAL LANTERN</td>\n",
       "      <td>6</td>\n",
       "      <td>12/1/2010 8:26</td>\n",
       "      <td>3.39</td>\n",
       "      <td>17850.0</td>\n",
       "      <td>United Kingdom</td>\n",
       "    </tr>\n",
       "    <tr>\n",
       "      <th>2</th>\n",
       "      <td>536365</td>\n",
       "      <td>84406B</td>\n",
       "      <td>CREAM CUPID HEARTS COAT HANGER</td>\n",
       "      <td>8</td>\n",
       "      <td>12/1/2010 8:26</td>\n",
       "      <td>2.75</td>\n",
       "      <td>17850.0</td>\n",
       "      <td>United Kingdom</td>\n",
       "    </tr>\n",
       "    <tr>\n",
       "      <th>3</th>\n",
       "      <td>536365</td>\n",
       "      <td>84029G</td>\n",
       "      <td>KNITTED UNION FLAG HOT WATER BOTTLE</td>\n",
       "      <td>6</td>\n",
       "      <td>12/1/2010 8:26</td>\n",
       "      <td>3.39</td>\n",
       "      <td>17850.0</td>\n",
       "      <td>United Kingdom</td>\n",
       "    </tr>\n",
       "    <tr>\n",
       "      <th>4</th>\n",
       "      <td>536365</td>\n",
       "      <td>84029E</td>\n",
       "      <td>RED WOOLLY HOTTIE WHITE HEART.</td>\n",
       "      <td>6</td>\n",
       "      <td>12/1/2010 8:26</td>\n",
       "      <td>3.39</td>\n",
       "      <td>17850.0</td>\n",
       "      <td>United Kingdom</td>\n",
       "    </tr>\n",
       "  </tbody>\n",
       "</table>\n",
       "</div>"
      ],
      "text/plain": [
       "  InvoiceNo StockCode                          Description  Quantity  \\\n",
       "0    536365    85123A   WHITE HANGING HEART T-LIGHT HOLDER         6   \n",
       "1    536365     71053                  WHITE METAL LANTERN         6   \n",
       "2    536365    84406B       CREAM CUPID HEARTS COAT HANGER         8   \n",
       "3    536365    84029G  KNITTED UNION FLAG HOT WATER BOTTLE         6   \n",
       "4    536365    84029E       RED WOOLLY HOTTIE WHITE HEART.         6   \n",
       "\n",
       "      InvoiceDate  UnitPrice  CustomerID         Country  \n",
       "0  12/1/2010 8:26       2.55     17850.0  United Kingdom  \n",
       "1  12/1/2010 8:26       3.39     17850.0  United Kingdom  \n",
       "2  12/1/2010 8:26       2.75     17850.0  United Kingdom  \n",
       "3  12/1/2010 8:26       3.39     17850.0  United Kingdom  \n",
       "4  12/1/2010 8:26       3.39     17850.0  United Kingdom  "
      ]
     },
     "execution_count": 3,
     "metadata": {},
     "output_type": "execute_result"
    }
   ],
   "source": [
    "data.head()"
   ]
  },
  {
   "cell_type": "code",
   "execution_count": 4,
   "id": "517b4f58",
   "metadata": {},
   "outputs": [
    {
     "data": {
      "text/plain": [
       "(541909, 8)"
      ]
     },
     "execution_count": 4,
     "metadata": {},
     "output_type": "execute_result"
    }
   ],
   "source": [
    "data.shape"
   ]
  },
  {
   "cell_type": "markdown",
   "id": "0502eb02",
   "metadata": {},
   "source": [
    "## Data Cleaning\n",
    "\n",
    "Cleaning data"
   ]
  },
  {
   "cell_type": "markdown",
   "id": "d3f3a550",
   "metadata": {},
   "source": [
    "### Missing Values"
   ]
  },
  {
   "cell_type": "code",
   "execution_count": 5,
   "id": "d226a448",
   "metadata": {},
   "outputs": [
    {
     "data": {
      "text/plain": [
       "InvoiceNo           0\n",
       "StockCode           0\n",
       "Description      1454\n",
       "Quantity            0\n",
       "InvoiceDate         0\n",
       "UnitPrice           0\n",
       "CustomerID     135080\n",
       "Country             0\n",
       "dtype: int64"
      ]
     },
     "execution_count": 5,
     "metadata": {},
     "output_type": "execute_result"
    }
   ],
   "source": [
    "data.isnull().sum()"
   ]
  },
  {
   "cell_type": "code",
   "execution_count": 6,
   "id": "c048007c",
   "metadata": {},
   "outputs": [
    {
     "data": {
      "text/html": [
       "<div>\n",
       "<style scoped>\n",
       "    .dataframe tbody tr th:only-of-type {\n",
       "        vertical-align: middle;\n",
       "    }\n",
       "\n",
       "    .dataframe tbody tr th {\n",
       "        vertical-align: top;\n",
       "    }\n",
       "\n",
       "    .dataframe thead th {\n",
       "        text-align: right;\n",
       "    }\n",
       "</style>\n",
       "<table border=\"1\" class=\"dataframe\">\n",
       "  <thead>\n",
       "    <tr style=\"text-align: right;\">\n",
       "      <th></th>\n",
       "      <th>InvoiceNo</th>\n",
       "      <th>StockCode</th>\n",
       "      <th>Description</th>\n",
       "      <th>Quantity</th>\n",
       "      <th>InvoiceDate</th>\n",
       "      <th>UnitPrice</th>\n",
       "      <th>CustomerID</th>\n",
       "      <th>Country</th>\n",
       "    </tr>\n",
       "  </thead>\n",
       "  <tbody>\n",
       "    <tr>\n",
       "      <th>541536</th>\n",
       "      <td>581498</td>\n",
       "      <td>85099B</td>\n",
       "      <td>JUMBO BAG RED RETROSPOT</td>\n",
       "      <td>5</td>\n",
       "      <td>12/9/2011 10:26</td>\n",
       "      <td>4.13</td>\n",
       "      <td>NaN</td>\n",
       "      <td>United Kingdom</td>\n",
       "    </tr>\n",
       "    <tr>\n",
       "      <th>541537</th>\n",
       "      <td>581498</td>\n",
       "      <td>85099C</td>\n",
       "      <td>JUMBO  BAG BAROQUE BLACK WHITE</td>\n",
       "      <td>4</td>\n",
       "      <td>12/9/2011 10:26</td>\n",
       "      <td>4.13</td>\n",
       "      <td>NaN</td>\n",
       "      <td>United Kingdom</td>\n",
       "    </tr>\n",
       "    <tr>\n",
       "      <th>541538</th>\n",
       "      <td>581498</td>\n",
       "      <td>85150</td>\n",
       "      <td>LADIES &amp; GENTLEMEN METAL SIGN</td>\n",
       "      <td>1</td>\n",
       "      <td>12/9/2011 10:26</td>\n",
       "      <td>4.96</td>\n",
       "      <td>NaN</td>\n",
       "      <td>United Kingdom</td>\n",
       "    </tr>\n",
       "    <tr>\n",
       "      <th>541539</th>\n",
       "      <td>581498</td>\n",
       "      <td>85174</td>\n",
       "      <td>S/4 CACTI CANDLES</td>\n",
       "      <td>1</td>\n",
       "      <td>12/9/2011 10:26</td>\n",
       "      <td>10.79</td>\n",
       "      <td>NaN</td>\n",
       "      <td>United Kingdom</td>\n",
       "    </tr>\n",
       "    <tr>\n",
       "      <th>541540</th>\n",
       "      <td>581498</td>\n",
       "      <td>DOT</td>\n",
       "      <td>DOTCOM POSTAGE</td>\n",
       "      <td>1</td>\n",
       "      <td>12/9/2011 10:26</td>\n",
       "      <td>1714.17</td>\n",
       "      <td>NaN</td>\n",
       "      <td>United Kingdom</td>\n",
       "    </tr>\n",
       "  </tbody>\n",
       "</table>\n",
       "</div>"
      ],
      "text/plain": [
       "       InvoiceNo StockCode                     Description  Quantity  \\\n",
       "541536    581498    85099B         JUMBO BAG RED RETROSPOT         5   \n",
       "541537    581498    85099C  JUMBO  BAG BAROQUE BLACK WHITE         4   \n",
       "541538    581498     85150   LADIES & GENTLEMEN METAL SIGN         1   \n",
       "541539    581498     85174               S/4 CACTI CANDLES         1   \n",
       "541540    581498       DOT                  DOTCOM POSTAGE         1   \n",
       "\n",
       "            InvoiceDate  UnitPrice  CustomerID         Country  \n",
       "541536  12/9/2011 10:26       4.13         NaN  United Kingdom  \n",
       "541537  12/9/2011 10:26       4.13         NaN  United Kingdom  \n",
       "541538  12/9/2011 10:26       4.96         NaN  United Kingdom  \n",
       "541539  12/9/2011 10:26      10.79         NaN  United Kingdom  \n",
       "541540  12/9/2011 10:26    1714.17         NaN  United Kingdom  "
      ]
     },
     "execution_count": 6,
     "metadata": {},
     "output_type": "execute_result"
    }
   ],
   "source": [
    "data.loc[data.CustomerID.isnull() == True].tail()"
   ]
  },
  {
   "cell_type": "code",
   "execution_count": 7,
   "id": "8dd0ac3a",
   "metadata": {},
   "outputs": [],
   "source": [
    "data.dropna(axis=0, inplace= True)"
   ]
  },
  {
   "cell_type": "code",
   "execution_count": 8,
   "id": "ff4c1353",
   "metadata": {},
   "outputs": [
    {
     "data": {
      "text/plain": [
       "(406829, 8)"
      ]
     },
     "execution_count": 8,
     "metadata": {},
     "output_type": "execute_result"
    }
   ],
   "source": [
    "data.shape"
   ]
  },
  {
   "cell_type": "markdown",
   "id": "3c2a52e5",
   "metadata": {},
   "source": [
    "### Duplicates"
   ]
  },
  {
   "cell_type": "code",
   "execution_count": 9,
   "id": "dc107b09",
   "metadata": {},
   "outputs": [
    {
     "data": {
      "text/plain": [
       "5225"
      ]
     },
     "execution_count": 9,
     "metadata": {},
     "output_type": "execute_result"
    }
   ],
   "source": [
    "## assessing the nr. of duplicates in the dataset\n",
    "data.duplicated().sum()"
   ]
  },
  {
   "cell_type": "code",
   "execution_count": 10,
   "id": "367063a3",
   "metadata": {},
   "outputs": [
    {
     "data": {
      "text/html": [
       "<div>\n",
       "<style scoped>\n",
       "    .dataframe tbody tr th:only-of-type {\n",
       "        vertical-align: middle;\n",
       "    }\n",
       "\n",
       "    .dataframe tbody tr th {\n",
       "        vertical-align: top;\n",
       "    }\n",
       "\n",
       "    .dataframe thead th {\n",
       "        text-align: right;\n",
       "    }\n",
       "</style>\n",
       "<table border=\"1\" class=\"dataframe\">\n",
       "  <thead>\n",
       "    <tr style=\"text-align: right;\">\n",
       "      <th></th>\n",
       "      <th>InvoiceNo</th>\n",
       "      <th>StockCode</th>\n",
       "      <th>Description</th>\n",
       "      <th>Quantity</th>\n",
       "      <th>InvoiceDate</th>\n",
       "      <th>UnitPrice</th>\n",
       "      <th>CustomerID</th>\n",
       "      <th>Country</th>\n",
       "    </tr>\n",
       "  </thead>\n",
       "  <tbody>\n",
       "    <tr>\n",
       "      <th>541675</th>\n",
       "      <td>581538</td>\n",
       "      <td>22068</td>\n",
       "      <td>BLACK PIRATE TREASURE CHEST</td>\n",
       "      <td>1</td>\n",
       "      <td>12/9/2011 11:34</td>\n",
       "      <td>0.39</td>\n",
       "      <td>14446.0</td>\n",
       "      <td>United Kingdom</td>\n",
       "    </tr>\n",
       "    <tr>\n",
       "      <th>541689</th>\n",
       "      <td>581538</td>\n",
       "      <td>23318</td>\n",
       "      <td>BOX OF 6 MINI VINTAGE CRACKERS</td>\n",
       "      <td>1</td>\n",
       "      <td>12/9/2011 11:34</td>\n",
       "      <td>2.49</td>\n",
       "      <td>14446.0</td>\n",
       "      <td>United Kingdom</td>\n",
       "    </tr>\n",
       "    <tr>\n",
       "      <th>541692</th>\n",
       "      <td>581538</td>\n",
       "      <td>22992</td>\n",
       "      <td>REVOLVER WOODEN RULER</td>\n",
       "      <td>1</td>\n",
       "      <td>12/9/2011 11:34</td>\n",
       "      <td>1.95</td>\n",
       "      <td>14446.0</td>\n",
       "      <td>United Kingdom</td>\n",
       "    </tr>\n",
       "    <tr>\n",
       "      <th>541699</th>\n",
       "      <td>581538</td>\n",
       "      <td>22694</td>\n",
       "      <td>WICKER STAR</td>\n",
       "      <td>1</td>\n",
       "      <td>12/9/2011 11:34</td>\n",
       "      <td>2.10</td>\n",
       "      <td>14446.0</td>\n",
       "      <td>United Kingdom</td>\n",
       "    </tr>\n",
       "    <tr>\n",
       "      <th>541701</th>\n",
       "      <td>581538</td>\n",
       "      <td>23343</td>\n",
       "      <td>JUMBO BAG VINTAGE CHRISTMAS</td>\n",
       "      <td>1</td>\n",
       "      <td>12/9/2011 11:34</td>\n",
       "      <td>2.08</td>\n",
       "      <td>14446.0</td>\n",
       "      <td>United Kingdom</td>\n",
       "    </tr>\n",
       "  </tbody>\n",
       "</table>\n",
       "</div>"
      ],
      "text/plain": [
       "       InvoiceNo StockCode                     Description  Quantity  \\\n",
       "541675    581538     22068     BLACK PIRATE TREASURE CHEST         1   \n",
       "541689    581538     23318  BOX OF 6 MINI VINTAGE CRACKERS         1   \n",
       "541692    581538     22992          REVOLVER WOODEN RULER          1   \n",
       "541699    581538     22694                    WICKER STAR          1   \n",
       "541701    581538     23343    JUMBO BAG VINTAGE CHRISTMAS          1   \n",
       "\n",
       "            InvoiceDate  UnitPrice  CustomerID         Country  \n",
       "541675  12/9/2011 11:34       0.39     14446.0  United Kingdom  \n",
       "541689  12/9/2011 11:34       2.49     14446.0  United Kingdom  \n",
       "541692  12/9/2011 11:34       1.95     14446.0  United Kingdom  \n",
       "541699  12/9/2011 11:34       2.10     14446.0  United Kingdom  \n",
       "541701  12/9/2011 11:34       2.08     14446.0  United Kingdom  "
      ]
     },
     "execution_count": 10,
     "metadata": {},
     "output_type": "execute_result"
    }
   ],
   "source": [
    "data.loc[data.duplicated() == True].tail()"
   ]
  },
  {
   "cell_type": "markdown",
   "id": "665cf765",
   "metadata": {},
   "source": [
    "The rows which are denoted as duplicates are sufficiently dissimilar to be valid data entries, and are therefore kept in the data."
   ]
  },
  {
   "cell_type": "markdown",
   "id": "3459544c",
   "metadata": {},
   "source": [
    "### Outliers"
   ]
  },
  {
   "cell_type": "code",
   "execution_count": 11,
   "id": "7d25a2e1",
   "metadata": {},
   "outputs": [
    {
     "data": {
      "image/png": "[encoded data removed]",
      "text/plain": [
       "<Figure size 720x360 with 1 Axes>"
      ]
     },
     "metadata": {
      "needs_background": "light"
     },
     "output_type": "display_data"
    }
   ],
   "source": [
    "## Inspecting Outliers in Quantity\n",
    "plt.figure(figsize= (10,5))\n",
    "plt.boxplot(data.Quantity, vert= False);"
   ]
  },
  {
   "cell_type": "code",
   "execution_count": 12,
   "id": "8ce4cd93",
   "metadata": {},
   "outputs": [
    {
     "data": {
      "text/html": [
       "<div>\n",
       "<style scoped>\n",
       "    .dataframe tbody tr th:only-of-type {\n",
       "        vertical-align: middle;\n",
       "    }\n",
       "\n",
       "    .dataframe tbody tr th {\n",
       "        vertical-align: top;\n",
       "    }\n",
       "\n",
       "    .dataframe thead th {\n",
       "        text-align: right;\n",
       "    }\n",
       "</style>\n",
       "<table border=\"1\" class=\"dataframe\">\n",
       "  <thead>\n",
       "    <tr style=\"text-align: right;\">\n",
       "      <th></th>\n",
       "      <th>InvoiceNo</th>\n",
       "      <th>StockCode</th>\n",
       "      <th>Description</th>\n",
       "      <th>Quantity</th>\n",
       "      <th>InvoiceDate</th>\n",
       "      <th>UnitPrice</th>\n",
       "      <th>CustomerID</th>\n",
       "      <th>Country</th>\n",
       "    </tr>\n",
       "  </thead>\n",
       "  <tbody>\n",
       "    <tr>\n",
       "      <th>540421</th>\n",
       "      <td>581483</td>\n",
       "      <td>23843</td>\n",
       "      <td>PAPER CRAFT , LITTLE BIRDIE</td>\n",
       "      <td>80995</td>\n",
       "      <td>12/9/2011 9:15</td>\n",
       "      <td>2.08</td>\n",
       "      <td>16446.0</td>\n",
       "      <td>United Kingdom</td>\n",
       "    </tr>\n",
       "    <tr>\n",
       "      <th>61619</th>\n",
       "      <td>541431</td>\n",
       "      <td>23166</td>\n",
       "      <td>MEDIUM CERAMIC TOP STORAGE JAR</td>\n",
       "      <td>74215</td>\n",
       "      <td>1/18/2011 10:01</td>\n",
       "      <td>1.04</td>\n",
       "      <td>12346.0</td>\n",
       "      <td>United Kingdom</td>\n",
       "    </tr>\n",
       "  </tbody>\n",
       "</table>\n",
       "</div>"
      ],
      "text/plain": [
       "       InvoiceNo StockCode                     Description  Quantity  \\\n",
       "540421    581483     23843     PAPER CRAFT , LITTLE BIRDIE     80995   \n",
       "61619     541431     23166  MEDIUM CERAMIC TOP STORAGE JAR     74215   \n",
       "\n",
       "            InvoiceDate  UnitPrice  CustomerID         Country  \n",
       "540421   12/9/2011 9:15       2.08     16446.0  United Kingdom  \n",
       "61619   1/18/2011 10:01       1.04     12346.0  United Kingdom  "
      ]
     },
     "execution_count": 12,
     "metadata": {},
     "output_type": "execute_result"
    }
   ],
   "source": [
    "## inspecting the orders with the highest quantity\n",
    "data.sort_values(by=\"Quantity\", ascending=False).head(2)"
   ]
  },
  {
   "cell_type": "markdown",
   "id": "f245cefa",
   "metadata": {},
   "source": [
    "As there is no Information regarding whether the orders are valid or not, they will be dropped, in order not to skew the rest of the data."
   ]
  },
  {
   "cell_type": "code",
   "execution_count": 13,
   "id": "7d76d8ef",
   "metadata": {},
   "outputs": [],
   "source": [
    "## dropping rows where Quantity is negative, as well as outliers in quantity\n",
    "idx = data.loc[data.Quantity < 0].index\n",
    "\n",
    "data.drop(idx, inplace= True)\n",
    "\n",
    "idx = data.sort_values(by=\"Quantity\", ascending=False).head(2).index\n",
    "\n",
    "data.drop(idx, inplace= True)"
   ]
  },
  {
   "cell_type": "code",
   "execution_count": 14,
   "id": "ae5543d4",
   "metadata": {},
   "outputs": [
    {
     "data": {
      "image/png": "[encoded data removed]",
      "text/plain": [
       "<Figure size 720x360 with 1 Axes>"
      ]
     },
     "metadata": {
      "needs_background": "light"
     },
     "output_type": "display_data"
    }
   ],
   "source": [
    "## Inspecting outliers in UnitPrice\n",
    "plt.figure(figsize= (10,5))\n",
    "plt.boxplot(data.UnitPrice, vert= False);"
   ]
  },
  {
   "cell_type": "code",
   "execution_count": 15,
   "id": "952d200f",
   "metadata": {},
   "outputs": [
    {
     "data": {
      "text/html": [
       "<div>\n",
       "<style scoped>\n",
       "    .dataframe tbody tr th:only-of-type {\n",
       "        vertical-align: middle;\n",
       "    }\n",
       "\n",
       "    .dataframe tbody tr th {\n",
       "        vertical-align: top;\n",
       "    }\n",
       "\n",
       "    .dataframe thead th {\n",
       "        text-align: right;\n",
       "    }\n",
       "</style>\n",
       "<table border=\"1\" class=\"dataframe\">\n",
       "  <thead>\n",
       "    <tr style=\"text-align: right;\">\n",
       "      <th></th>\n",
       "      <th>InvoiceNo</th>\n",
       "      <th>StockCode</th>\n",
       "      <th>Description</th>\n",
       "      <th>Quantity</th>\n",
       "      <th>InvoiceDate</th>\n",
       "      <th>UnitPrice</th>\n",
       "      <th>CustomerID</th>\n",
       "      <th>Country</th>\n",
       "    </tr>\n",
       "  </thead>\n",
       "  <tbody>\n",
       "    <tr>\n",
       "      <th>173382</th>\n",
       "      <td>551697</td>\n",
       "      <td>POST</td>\n",
       "      <td>POSTAGE</td>\n",
       "      <td>1</td>\n",
       "      <td>5/3/2011 13:46</td>\n",
       "      <td>8142.75</td>\n",
       "      <td>16029.0</td>\n",
       "      <td>United Kingdom</td>\n",
       "    </tr>\n",
       "  </tbody>\n",
       "</table>\n",
       "</div>"
      ],
      "text/plain": [
       "       InvoiceNo StockCode Description  Quantity     InvoiceDate  UnitPrice  \\\n",
       "173382    551697      POST     POSTAGE         1  5/3/2011 13:46    8142.75   \n",
       "\n",
       "        CustomerID         Country  \n",
       "173382     16029.0  United Kingdom  "
      ]
     },
     "execution_count": 15,
     "metadata": {},
     "output_type": "execute_result"
    }
   ],
   "source": [
    "data.loc[data.UnitPrice == data.UnitPrice.max()]"
   ]
  },
  {
   "cell_type": "markdown",
   "id": "14a6e921",
   "metadata": {},
   "source": [
    "As there is no information regarding validity of the unit prices, and they appear reasonable, they will be left in the data."
   ]
  },
  {
   "cell_type": "code",
   "execution_count": 16,
   "id": "aefad7a3",
   "metadata": {},
   "outputs": [],
   "source": [
    "## changing InvoiceDate data type to datetime\n",
    "data[\"InvoiceDate\"] = pd.to_datetime(data.InvoiceDate)"
   ]
  },
  {
   "cell_type": "code",
   "execution_count": 17,
   "id": "1099f52b",
   "metadata": {},
   "outputs": [
    {
     "data": {
      "text/plain": [
       "InvoiceNo              object\n",
       "StockCode              object\n",
       "Description            object\n",
       "Quantity                int64\n",
       "InvoiceDate    datetime64[ns]\n",
       "UnitPrice             float64\n",
       "CustomerID            float64\n",
       "Country                object\n",
       "dtype: object"
      ]
     },
     "execution_count": 17,
     "metadata": {},
     "output_type": "execute_result"
    }
   ],
   "source": [
    "data.dtypes"
   ]
  },
  {
   "cell_type": "markdown",
   "id": "6e4b6b6d",
   "metadata": {},
   "source": [
    "## Data Exploration\n",
    "\n",
    "Exploring statistical trends and distributions"
   ]
  },
  {
   "cell_type": "code",
   "execution_count": 18,
   "id": "a6fedb07",
   "metadata": {},
   "outputs": [
    {
     "data": {
      "text/html": [
       "<div>\n",
       "<style scoped>\n",
       "    .dataframe tbody tr th:only-of-type {\n",
       "        vertical-align: middle;\n",
       "    }\n",
       "\n",
       "    .dataframe tbody tr th {\n",
       "        vertical-align: top;\n",
       "    }\n",
       "\n",
       "    .dataframe thead th {\n",
       "        text-align: right;\n",
       "    }\n",
       "</style>\n",
       "<table border=\"1\" class=\"dataframe\">\n",
       "  <thead>\n",
       "    <tr style=\"text-align: right;\">\n",
       "      <th></th>\n",
       "      <th>InvoiceNo</th>\n",
       "      <th>StockCode</th>\n",
       "      <th>Description</th>\n",
       "      <th>Quantity</th>\n",
       "      <th>InvoiceDate</th>\n",
       "      <th>UnitPrice</th>\n",
       "      <th>CustomerID</th>\n",
       "      <th>Country</th>\n",
       "    </tr>\n",
       "  </thead>\n",
       "  <tbody>\n",
       "    <tr>\n",
       "      <th>0</th>\n",
       "      <td>536365</td>\n",
       "      <td>85123A</td>\n",
       "      <td>WHITE HANGING HEART T-LIGHT HOLDER</td>\n",
       "      <td>6</td>\n",
       "      <td>2010-12-01 08:26:00</td>\n",
       "      <td>2.55</td>\n",
       "      <td>17850.0</td>\n",
       "      <td>United Kingdom</td>\n",
       "    </tr>\n",
       "    <tr>\n",
       "      <th>1</th>\n",
       "      <td>536365</td>\n",
       "      <td>71053</td>\n",
       "      <td>WHITE METAL LANTERN</td>\n",
       "      <td>6</td>\n",
       "      <td>2010-12-01 08:26:00</td>\n",
       "      <td>3.39</td>\n",
       "      <td>17850.0</td>\n",
       "      <td>United Kingdom</td>\n",
       "    </tr>\n",
       "    <tr>\n",
       "      <th>2</th>\n",
       "      <td>536365</td>\n",
       "      <td>84406B</td>\n",
       "      <td>CREAM CUPID HEARTS COAT HANGER</td>\n",
       "      <td>8</td>\n",
       "      <td>2010-12-01 08:26:00</td>\n",
       "      <td>2.75</td>\n",
       "      <td>17850.0</td>\n",
       "      <td>United Kingdom</td>\n",
       "    </tr>\n",
       "  </tbody>\n",
       "</table>\n",
       "</div>"
      ],
      "text/plain": [
       "  InvoiceNo StockCode                         Description  Quantity  \\\n",
       "0    536365    85123A  WHITE HANGING HEART T-LIGHT HOLDER         6   \n",
       "1    536365     71053                 WHITE METAL LANTERN         6   \n",
       "2    536365    84406B      CREAM CUPID HEARTS COAT HANGER         8   \n",
       "\n",
       "          InvoiceDate  UnitPrice  CustomerID         Country  \n",
       "0 2010-12-01 08:26:00       2.55     17850.0  United Kingdom  \n",
       "1 2010-12-01 08:26:00       3.39     17850.0  United Kingdom  \n",
       "2 2010-12-01 08:26:00       2.75     17850.0  United Kingdom  "
      ]
     },
     "execution_count": 18,
     "metadata": {},
     "output_type": "execute_result"
    }
   ],
   "source": [
    "data.head(3)"
   ]
  },
  {
   "cell_type": "code",
   "execution_count": 19,
   "id": "757a7931",
   "metadata": {},
   "outputs": [
    {
     "data": {
      "text/plain": [
       "count    397922.000000\n",
       "mean         12.631837\n",
       "std          47.263643\n",
       "min           1.000000\n",
       "25%           2.000000\n",
       "50%           6.000000\n",
       "75%          12.000000\n",
       "max       12540.000000\n",
       "Name: Quantity, dtype: float64"
      ]
     },
     "execution_count": 19,
     "metadata": {},
     "output_type": "execute_result"
    }
   ],
   "source": [
    "## showing a statistical summary of the distribution of Quantity\n",
    "data.Quantity.describe()"
   ]
  },
  {
   "cell_type": "code",
   "execution_count": 20,
   "id": "97cfb4d7",
   "metadata": {},
   "outputs": [
    {
     "name": "stdout",
     "output_type": "stream",
     "text": [
      "\n",
      "There are, in total, 4338 customers.\n",
      "\n"
     ]
    }
   ],
   "source": [
    "## inspecting the amount of individual customers\n",
    "print(f\"\\nThere are, in total, {len(data.CustomerID.unique())} customers.\\n\")"
   ]
  },
  {
   "cell_type": "code",
   "execution_count": 21,
   "id": "287443ba",
   "metadata": {},
   "outputs": [
    {
     "data": {
      "image/png": "[encoded data removed]",
      "text/plain": [
       "<Figure size 1080x504 with 1 Axes>"
      ]
     },
     "metadata": {
      "needs_background": "light"
     },
     "output_type": "display_data"
    }
   ],
   "source": [
    "## inspecting country of origin of the customers\n",
    "plt.figure(figsize=(15,7))\n",
    "data.Country.value_counts().plot(kind=\"bar\")\n",
    "plt.title(\"Country of origin of customers\", size=20)\n",
    "plt.xticks(rotation=80);"
   ]
  },
  {
   "cell_type": "code",
   "execution_count": 22,
   "id": "9ff57b12",
   "metadata": {},
   "outputs": [
    {
     "name": "stdout",
     "output_type": "stream",
     "text": [
      "\n",
      "Orders in the dataset range from 2010-12-01 to 2011-12-09\n",
      "\n"
     ]
    }
   ],
   "source": [
    "## inspecting the timeframe of the dataset\n",
    "\n",
    "earliest_date = data.InvoiceDate.min().date()\n",
    "latest_date = data.InvoiceDate.max().date()\n",
    "\n",
    "print(f\"\\nOrders in the dataset range from {earliest_date} to {latest_date}\\n\")"
   ]
  },
  {
   "cell_type": "code",
   "execution_count": 23,
   "id": "982fec38",
   "metadata": {},
   "outputs": [
    {
     "data": {
      "image/png": "[encoded data removed]",
      "text/plain": [
       "<Figure size 1440x720 with 1 Axes>"
      ]
     },
     "metadata": {
      "needs_background": "light"
     },
     "output_type": "display_data"
    }
   ],
   "source": [
    "## inspecting amount of orders per day\n",
    "date_df = data.copy()\n",
    "\n",
    "date_df[\"date\"] = date_df[\"InvoiceDate\"].apply(lambda x: x.date())\n",
    "\n",
    "date_df = pd.DataFrame(date_df.groupby(\"date\")[\"Quantity\"].sum()).reset_index().sort_values(by=\"date\")\n",
    "\n",
    "## plotting the distribution\n",
    "plt.figure(figsize=(20,10))\n",
    "plt.plot(date_df.date, date_df.Quantity, c= \"forestgreen\")\n",
    "plt.title(\"Amount of orders per day\", size=20)\n",
    "plt.xticks(size=15)\n",
    "plt.ylabel(\"Amount of orders\", size=13);"
   ]
  },
  {
   "cell_type": "markdown",
   "id": "03e6a18b",
   "metadata": {},
   "source": [
    "## Feature Engineering\n",
    "\n",
    "Calculating Recency, Frequency and Monetary Value, which will be used to forecast CLV."
   ]
  },
  {
   "cell_type": "markdown",
   "id": "03c6118c",
   "metadata": {},
   "source": [
    "### Calculating Revenue"
   ]
  },
  {
   "cell_type": "code",
   "execution_count": 24,
   "id": "bb4841e8",
   "metadata": {},
   "outputs": [],
   "source": [
    "## calculating revenue as sum of quantity and unit price per order\n",
    "data[\"Revenue\"] = data[\"Quantity\"] * data[\"UnitPrice\"]"
   ]
  },
  {
   "cell_type": "markdown",
   "id": "2f7ace58",
   "metadata": {},
   "source": [
    "### Calculating *Recency*\n",
    "\n",
    "Finding out most recent purchase date for each customer, and see how many days they have been inactive for.\n",
    "\n",
    "Afterwards, k-Means clustering will be applied to assign a *recency score*."
   ]
  },
  {
   "cell_type": "code",
   "execution_count": 25,
   "id": "68793fd3",
   "metadata": {},
   "outputs": [],
   "source": [
    "## creating a new dataframe using customer ID\n",
    "user_df = pd.DataFrame(data.CustomerID.unique(), columns= [\"CustomerID\"])"
   ]
  },
  {
   "cell_type": "code",
   "execution_count": 26,
   "id": "fa17c65f",
   "metadata": {},
   "outputs": [],
   "source": [
    "## get the latest purchase date for each customer and assign it to a new column\n",
    "latest_purchase_df = pd.DataFrame(data.groupby(\"CustomerID\").InvoiceDate.max().reset_index())\n",
    "latest_purchase_df.columns = [\"CustomerID\", \"LatestPurchaseDate\"]"
   ]
  },
  {
   "cell_type": "code",
   "execution_count": 27,
   "id": "0927ce1e",
   "metadata": {},
   "outputs": [],
   "source": [
    "## calculate difference between observation date (overall latest invoice date) \n",
    "## and latest invoice date per customer\n",
    "latest_purchase_df[\"Recency\"] = (data.InvoiceDate.max() - latest_purchase_df[\"LatestPurchaseDate\"]).dt.days"
   ]
  },
  {
   "cell_type": "code",
   "execution_count": 28,
   "id": "543999ee",
   "metadata": {},
   "outputs": [],
   "source": [
    "## merge the dataframe\n",
    "recency_df = pd.merge(user_df, latest_purchase_df[[\"CustomerID\", \"Recency\"]], on=\"CustomerID\")"
   ]
  },
  {
   "cell_type": "code",
   "execution_count": 29,
   "id": "925382a9",
   "metadata": {},
   "outputs": [
    {
     "data": {
      "image/png": "[encoded data removed]",
      "text/plain": [
       "<Figure size 1080x504 with 1 Axes>"
      ]
     },
     "metadata": {
      "needs_background": "light"
     },
     "output_type": "display_data"
    }
   ],
   "source": [
    "## plotting recency\n",
    "plt.figure(figsize=(15,7))\n",
    "sns.histplot(data=recency_df.Recency, bins=50)\n",
    "plt.title(\"Distribution of Recency Data\", size=15);"
   ]
  },
  {
   "cell_type": "code",
   "execution_count": 30,
   "id": "09a92196",
   "metadata": {},
   "outputs": [
    {
     "data": {
      "text/plain": [
       "count    4338.000000\n",
       "mean       91.511757\n",
       "std        99.963616\n",
       "min         0.000000\n",
       "25%        17.000000\n",
       "50%        50.000000\n",
       "75%       141.000000\n",
       "max       373.000000\n",
       "Name: Recency, dtype: float64"
      ]
     },
     "execution_count": 30,
     "metadata": {},
     "output_type": "execute_result"
    }
   ],
   "source": [
    "## statistical summary of recency data\n",
    "recency_df.Recency.describe()"
   ]
  },
  {
   "cell_type": "code",
   "execution_count": 31,
   "id": "0e99c635",
   "metadata": {},
   "outputs": [],
   "source": [
    "## applying K-Means Clustering\n",
    "from sklearn.cluster import KMeans\n",
    "\n",
    "sse= {}\n",
    "recency = recency_df[[\"Recency\"]]\n",
    "for k in range(1,10):\n",
    "    kmeans = KMeans(n_clusters=k, max_iter=1000).fit(recency)\n",
    "    recency[\"clusters\"] = kmeans.labels_\n",
    "    sse[k] = kmeans.inertia_"
   ]
  },
  {
   "cell_type": "code",
   "execution_count": 32,
   "id": "b066c6b4",
   "metadata": {},
   "outputs": [
    {
     "data": {
      "image/png": "[encoded data removed]",
      "text/plain": [
       "<Figure size 720x432 with 1 Axes>"
      ]
     },
     "metadata": {
      "needs_background": "light"
     },
     "output_type": "display_data"
    }
   ],
   "source": [
    "## plotting inertia to determine optimal nr. of clusters\n",
    "plt.figure(figsize=(10,6))\n",
    "plt.plot(list(sse.keys()), list(sse.values()))\n",
    "plt.xlabel(\"Number of clusters\")\n",
    "plt.title(\"Inertia of KMeans Clustering for Recency\", size=15);"
   ]
  },
  {
   "cell_type": "markdown",
   "id": "642f7f79",
   "metadata": {},
   "source": [
    "According to the inertia graph, 3 appears to be the optimal number of clusters."
   ]
  },
  {
   "cell_type": "code",
   "execution_count": 33,
   "id": "e74fc282",
   "metadata": {},
   "outputs": [],
   "source": [
    "## assigning clusters to all customers in the dataset\n",
    "kmeans = KMeans(n_clusters= 3)\n",
    "kmeans.fit(recency_df[[\"Recency\"]])\n",
    "recency_df[\"RecencyCluster\"] = kmeans.predict(recency_df[[\"Recency\"]])"
   ]
  },
  {
   "cell_type": "code",
   "execution_count": 34,
   "id": "17a24d3e",
   "metadata": {},
   "outputs": [],
   "source": [
    "## function for ordering cluster numbers, to have an order based on \"value\"\n",
    "def order_cluster(cluster_field_name, target_field_name,df,ascending):\n",
    "    \n",
    "    new_cluster_field_name = 'new_' + cluster_field_name\n",
    "    \n",
    "    df_new = df.groupby(cluster_field_name)[target_field_name].mean().reset_index()\n",
    "    \n",
    "    df_new = df_new.sort_values(by=target_field_name,ascending=ascending).reset_index(drop=True)\n",
    "    \n",
    "    df_new['index'] = df_new.index\n",
    "    \n",
    "    df_final = pd.merge(df,df_new[[cluster_field_name,'index']], on=cluster_field_name)\n",
    "    \n",
    "    df_final = df_final.drop([cluster_field_name],axis=1)\n",
    "    \n",
    "    df_final = df_final.rename(columns={\"index\":cluster_field_name})\n",
    "    \n",
    "    return df_final"
   ]
  },
  {
   "cell_type": "code",
   "execution_count": 35,
   "id": "cabc43a0",
   "metadata": {},
   "outputs": [],
   "source": [
    "## applying order_cluster() to recency_df\n",
    "recency_df = order_cluster('RecencyCluster', 'Recency',recency_df,False)"
   ]
  },
  {
   "cell_type": "code",
   "execution_count": 36,
   "id": "88f84d2c",
   "metadata": {},
   "outputs": [
    {
     "data": {
      "text/html": [
       "<div>\n",
       "<style scoped>\n",
       "    .dataframe tbody tr th:only-of-type {\n",
       "        vertical-align: middle;\n",
       "    }\n",
       "\n",
       "    .dataframe tbody tr th {\n",
       "        vertical-align: top;\n",
       "    }\n",
       "\n",
       "    .dataframe thead th {\n",
       "        text-align: right;\n",
       "    }\n",
       "</style>\n",
       "<table border=\"1\" class=\"dataframe\">\n",
       "  <thead>\n",
       "    <tr style=\"text-align: right;\">\n",
       "      <th></th>\n",
       "      <th>count</th>\n",
       "      <th>mean</th>\n",
       "      <th>std</th>\n",
       "      <th>min</th>\n",
       "      <th>25%</th>\n",
       "      <th>50%</th>\n",
       "      <th>75%</th>\n",
       "      <th>max</th>\n",
       "    </tr>\n",
       "    <tr>\n",
       "      <th>RecencyCluster</th>\n",
       "      <th></th>\n",
       "      <th></th>\n",
       "      <th></th>\n",
       "      <th></th>\n",
       "      <th></th>\n",
       "      <th></th>\n",
       "      <th></th>\n",
       "      <th></th>\n",
       "    </tr>\n",
       "  </thead>\n",
       "  <tbody>\n",
       "    <tr>\n",
       "      <th>0</th>\n",
       "      <td>625.0</td>\n",
       "      <td>293.380800</td>\n",
       "      <td>45.128260</td>\n",
       "      <td>224.0</td>\n",
       "      <td>256.0</td>\n",
       "      <td>286.0</td>\n",
       "      <td>326.0</td>\n",
       "      <td>373.0</td>\n",
       "    </tr>\n",
       "    <tr>\n",
       "      <th>1</th>\n",
       "      <td>807.0</td>\n",
       "      <td>152.465923</td>\n",
       "      <td>38.426476</td>\n",
       "      <td>92.0</td>\n",
       "      <td>118.0</td>\n",
       "      <td>152.0</td>\n",
       "      <td>185.0</td>\n",
       "      <td>222.0</td>\n",
       "    </tr>\n",
       "    <tr>\n",
       "      <th>2</th>\n",
       "      <td>2906.0</td>\n",
       "      <td>31.168273</td>\n",
       "      <td>25.085017</td>\n",
       "      <td>0.0</td>\n",
       "      <td>10.0</td>\n",
       "      <td>24.0</td>\n",
       "      <td>50.0</td>\n",
       "      <td>91.0</td>\n",
       "    </tr>\n",
       "  </tbody>\n",
       "</table>\n",
       "</div>"
      ],
      "text/plain": [
       "                 count        mean        std    min    25%    50%    75%  \\\n",
       "RecencyCluster                                                              \n",
       "0                625.0  293.380800  45.128260  224.0  256.0  286.0  326.0   \n",
       "1                807.0  152.465923  38.426476   92.0  118.0  152.0  185.0   \n",
       "2               2906.0   31.168273  25.085017    0.0   10.0   24.0   50.0   \n",
       "\n",
       "                  max  \n",
       "RecencyCluster         \n",
       "0               373.0  \n",
       "1               222.0  \n",
       "2                91.0  "
      ]
     },
     "execution_count": 36,
     "metadata": {},
     "output_type": "execute_result"
    }
   ],
   "source": [
    "## inspecting statistics for all clusters\n",
    "recency_df.groupby(\"RecencyCluster\")[\"Recency\"].describe()"
   ]
  },
  {
   "cell_type": "code",
   "execution_count": 37,
   "id": "3373d2c1",
   "metadata": {},
   "outputs": [
    {
     "data": {
      "text/html": [
       "<div>\n",
       "<style scoped>\n",
       "    .dataframe tbody tr th:only-of-type {\n",
       "        vertical-align: middle;\n",
       "    }\n",
       "\n",
       "    .dataframe tbody tr th {\n",
       "        vertical-align: top;\n",
       "    }\n",
       "\n",
       "    .dataframe thead th {\n",
       "        text-align: right;\n",
       "    }\n",
       "</style>\n",
       "<table border=\"1\" class=\"dataframe\">\n",
       "  <thead>\n",
       "    <tr style=\"text-align: right;\">\n",
       "      <th></th>\n",
       "      <th>CustomerID</th>\n",
       "      <th>Recency</th>\n",
       "      <th>RecencyCluster</th>\n",
       "    </tr>\n",
       "  </thead>\n",
       "  <tbody>\n",
       "    <tr>\n",
       "      <th>0</th>\n",
       "      <td>17850.0</td>\n",
       "      <td>371</td>\n",
       "      <td>0</td>\n",
       "    </tr>\n",
       "    <tr>\n",
       "      <th>1</th>\n",
       "      <td>15100.0</td>\n",
       "      <td>333</td>\n",
       "      <td>0</td>\n",
       "    </tr>\n",
       "    <tr>\n",
       "      <th>2</th>\n",
       "      <td>18074.0</td>\n",
       "      <td>373</td>\n",
       "      <td>0</td>\n",
       "    </tr>\n",
       "    <tr>\n",
       "      <th>3</th>\n",
       "      <td>16250.0</td>\n",
       "      <td>260</td>\n",
       "      <td>0</td>\n",
       "    </tr>\n",
       "    <tr>\n",
       "      <th>4</th>\n",
       "      <td>13747.0</td>\n",
       "      <td>373</td>\n",
       "      <td>0</td>\n",
       "    </tr>\n",
       "  </tbody>\n",
       "</table>\n",
       "</div>"
      ],
      "text/plain": [
       "   CustomerID  Recency  RecencyCluster\n",
       "0     17850.0      371               0\n",
       "1     15100.0      333               0\n",
       "2     18074.0      373               0\n",
       "3     16250.0      260               0\n",
       "4     13747.0      373               0"
      ]
     },
     "execution_count": 37,
     "metadata": {},
     "output_type": "execute_result"
    }
   ],
   "source": [
    "recency_df.head()"
   ]
  },
  {
   "cell_type": "code",
   "execution_count": 38,
   "id": "6f4461c8",
   "metadata": {},
   "outputs": [],
   "source": [
    "## including recency data in user_df\n",
    "user_df= pd.merge(user_df, recency_df, on= \"CustomerID\")"
   ]
  },
  {
   "cell_type": "markdown",
   "id": "bd876efa",
   "metadata": {},
   "source": [
    "### Calculating Frequency\n",
    "\n",
    "Find the total number of orders for each customer"
   ]
  },
  {
   "cell_type": "code",
   "execution_count": 39,
   "id": "b4e36a0e",
   "metadata": {},
   "outputs": [
    {
     "data": {
      "text/html": [
       "<div>\n",
       "<style scoped>\n",
       "    .dataframe tbody tr th:only-of-type {\n",
       "        vertical-align: middle;\n",
       "    }\n",
       "\n",
       "    .dataframe tbody tr th {\n",
       "        vertical-align: top;\n",
       "    }\n",
       "\n",
       "    .dataframe thead th {\n",
       "        text-align: right;\n",
       "    }\n",
       "</style>\n",
       "<table border=\"1\" class=\"dataframe\">\n",
       "  <thead>\n",
       "    <tr style=\"text-align: right;\">\n",
       "      <th></th>\n",
       "      <th>CustomerID</th>\n",
       "      <th>Recency</th>\n",
       "      <th>RecencyCluster</th>\n",
       "      <th>Frequency</th>\n",
       "    </tr>\n",
       "  </thead>\n",
       "  <tbody>\n",
       "    <tr>\n",
       "      <th>0</th>\n",
       "      <td>17850.0</td>\n",
       "      <td>371</td>\n",
       "      <td>0</td>\n",
       "      <td>297</td>\n",
       "    </tr>\n",
       "    <tr>\n",
       "      <th>1</th>\n",
       "      <td>13047.0</td>\n",
       "      <td>31</td>\n",
       "      <td>2</td>\n",
       "      <td>172</td>\n",
       "    </tr>\n",
       "    <tr>\n",
       "      <th>2</th>\n",
       "      <td>12583.0</td>\n",
       "      <td>2</td>\n",
       "      <td>2</td>\n",
       "      <td>247</td>\n",
       "    </tr>\n",
       "    <tr>\n",
       "      <th>3</th>\n",
       "      <td>13748.0</td>\n",
       "      <td>95</td>\n",
       "      <td>1</td>\n",
       "      <td>28</td>\n",
       "    </tr>\n",
       "    <tr>\n",
       "      <th>4</th>\n",
       "      <td>15100.0</td>\n",
       "      <td>333</td>\n",
       "      <td>0</td>\n",
       "      <td>3</td>\n",
       "    </tr>\n",
       "  </tbody>\n",
       "</table>\n",
       "</div>"
      ],
      "text/plain": [
       "   CustomerID  Recency  RecencyCluster  Frequency\n",
       "0     17850.0      371               0        297\n",
       "1     13047.0       31               2        172\n",
       "2     12583.0        2               2        247\n",
       "3     13748.0       95               1         28\n",
       "4     15100.0      333               0          3"
      ]
     },
     "execution_count": 39,
     "metadata": {},
     "output_type": "execute_result"
    }
   ],
   "source": [
    "## making dataframe with total number of orders per customer\n",
    "frequency_df = data.groupby(\"CustomerID\").InvoiceDate.count().reset_index()\n",
    "frequency_df.columns = [\"CustomerID\", \"Frequency\"]\n",
    "\n",
    "frequency_df= pd.merge(user_df, frequency_df, on= \"CustomerID\")\n",
    "frequency_df.head()"
   ]
  },
  {
   "cell_type": "code",
   "execution_count": 40,
   "id": "74706196",
   "metadata": {},
   "outputs": [
    {
     "data": {
      "image/png": "[encoded data removed]",
      "text/plain": [
       "<Figure size 1080x504 with 1 Axes>"
      ]
     },
     "metadata": {
      "needs_background": "light"
     },
     "output_type": "display_data"
    }
   ],
   "source": [
    "## plotting the distribution\n",
    "plt.figure(figsize=(15,7))\n",
    "sns.histplot(frequency_df[\"Frequency\"], bins=100)\n",
    "plt.title(\"Distribution of buying frequency per customer\", size=15);"
   ]
  },
  {
   "cell_type": "code",
   "execution_count": 42,
   "id": "62b10886",
   "metadata": {},
   "outputs": [
    {
     "name": "stderr",
     "output_type": "stream",
     "text": [
      "/var/folders/2s/hl8h12kx35b4f1bh9818nxj00000gn/T/ipykernel_6107/4181855051.py:7: SettingWithCopyWarning: \n",
      "A value is trying to be set on a copy of a slice from a DataFrame.\n",
      "Try using .loc[row_indexer,col_indexer] = value instead\n",
      "\n",
      "See the caveats in the documentation: https://pandas.pydata.org/pandas-docs/stable/user_guide/indexing.html#returning-a-view-versus-a-copy\n",
      "  frequency[\"clusters\"] = kmeans.labels_\n",
      "/var/folders/2s/hl8h12kx35b4f1bh9818nxj00000gn/T/ipykernel_6107/4181855051.py:7: SettingWithCopyWarning: \n",
      "A value is trying to be set on a copy of a slice from a DataFrame.\n",
      "Try using .loc[row_indexer,col_indexer] = value instead\n",
      "\n",
      "See the caveats in the documentation: https://pandas.pydata.org/pandas-docs/stable/user_guide/indexing.html#returning-a-view-versus-a-copy\n",
      "  frequency[\"clusters\"] = kmeans.labels_\n",
      "/var/folders/2s/hl8h12kx35b4f1bh9818nxj00000gn/T/ipykernel_6107/4181855051.py:7: SettingWithCopyWarning: \n",
      "A value is trying to be set on a copy of a slice from a DataFrame.\n",
      "Try using .loc[row_indexer,col_indexer] = value instead\n",
      "\n",
      "See the caveats in the documentation: https://pandas.pydata.org/pandas-docs/stable/user_guide/indexing.html#returning-a-view-versus-a-copy\n",
      "  frequency[\"clusters\"] = kmeans.labels_\n",
      "/var/folders/2s/hl8h12kx35b4f1bh9818nxj00000gn/T/ipykernel_6107/4181855051.py:7: SettingWithCopyWarning: \n",
      "A value is trying to be set on a copy of a slice from a DataFrame.\n",
      "Try using .loc[row_indexer,col_indexer] = value instead\n",
      "\n",
      "See the caveats in the documentation: https://pandas.pydata.org/pandas-docs/stable/user_guide/indexing.html#returning-a-view-versus-a-copy\n",
      "  frequency[\"clusters\"] = kmeans.labels_\n",
      "/var/folders/2s/hl8h12kx35b4f1bh9818nxj00000gn/T/ipykernel_6107/4181855051.py:7: SettingWithCopyWarning: \n",
      "A value is trying to be set on a copy of a slice from a DataFrame.\n",
      "Try using .loc[row_indexer,col_indexer] = value instead\n",
      "\n",
      "See the caveats in the documentation: https://pandas.pydata.org/pandas-docs/stable/user_guide/indexing.html#returning-a-view-versus-a-copy\n",
      "  frequency[\"clusters\"] = kmeans.labels_\n",
      "/var/folders/2s/hl8h12kx35b4f1bh9818nxj00000gn/T/ipykernel_6107/4181855051.py:7: SettingWithCopyWarning: \n",
      "A value is trying to be set on a copy of a slice from a DataFrame.\n",
      "Try using .loc[row_indexer,col_indexer] = value instead\n",
      "\n",
      "See the caveats in the documentation: https://pandas.pydata.org/pandas-docs/stable/user_guide/indexing.html#returning-a-view-versus-a-copy\n",
      "  frequency[\"clusters\"] = kmeans.labels_\n",
      "/var/folders/2s/hl8h12kx35b4f1bh9818nxj00000gn/T/ipykernel_6107/4181855051.py:7: SettingWithCopyWarning: \n",
      "A value is trying to be set on a copy of a slice from a DataFrame.\n",
      "Try using .loc[row_indexer,col_indexer] = value instead\n",
      "\n",
      "See the caveats in the documentation: https://pandas.pydata.org/pandas-docs/stable/user_guide/indexing.html#returning-a-view-versus-a-copy\n",
      "  frequency[\"clusters\"] = kmeans.labels_\n",
      "/var/folders/2s/hl8h12kx35b4f1bh9818nxj00000gn/T/ipykernel_6107/4181855051.py:7: SettingWithCopyWarning: \n",
      "A value is trying to be set on a copy of a slice from a DataFrame.\n",
      "Try using .loc[row_indexer,col_indexer] = value instead\n",
      "\n",
      "See the caveats in the documentation: https://pandas.pydata.org/pandas-docs/stable/user_guide/indexing.html#returning-a-view-versus-a-copy\n",
      "  frequency[\"clusters\"] = kmeans.labels_\n",
      "/var/folders/2s/hl8h12kx35b4f1bh9818nxj00000gn/T/ipykernel_6107/4181855051.py:7: SettingWithCopyWarning: \n",
      "A value is trying to be set on a copy of a slice from a DataFrame.\n",
      "Try using .loc[row_indexer,col_indexer] = value instead\n",
      "\n",
      "See the caveats in the documentation: https://pandas.pydata.org/pandas-docs/stable/user_guide/indexing.html#returning-a-view-versus-a-copy\n",
      "  frequency[\"clusters\"] = kmeans.labels_\n"
     ]
    }
   ],
   "source": [
    "## applying frequency clusters\n",
    "\n",
    "sse= {}\n",
    "frequency = frequency_df[[\"Frequency\"]]\n",
    "for k in range(1,10):\n",
    "    kmeans= KMeans(n_clusters= k, max_iter=1000).fit(frequency)\n",
    "    frequency[\"clusters\"] = kmeans.labels_\n",
    "    sse[k] = kmeans.inertia_"
   ]
  },
  {
   "cell_type": "code",
   "execution_count": 43,
   "id": "0a81a3f6",
   "metadata": {},
   "outputs": [
    {
     "data": {
      "image/png": "[encoded data removed]",
      "text/plain": [
       "<Figure size 720x432 with 1 Axes>"
      ]
     },
     "metadata": {
      "needs_background": "light"
     },
     "output_type": "display_data"
    }
   ],
   "source": [
    "## plotting inertia\n",
    "plt.figure(figsize=(10,6))\n",
    "plt.plot(list(sse.keys()), list(sse.values()))\n",
    "plt.xlabel(\"Number of clusters\")\n",
    "plt.title(\"Inertia of KMeans Clustering for Frequency\", size=15);"
   ]
  },
  {
   "cell_type": "markdown",
   "id": "693f5521",
   "metadata": {},
   "source": [
    "It appears that the best number of clusters is 5."
   ]
  },
  {
   "cell_type": "code",
   "execution_count": 44,
   "id": "7372a95e",
   "metadata": {},
   "outputs": [],
   "source": [
    "## fitting the clusters to the customers\n",
    "kmeans = KMeans(n_clusters= 5, max_iter=1000).fit(frequency_df[[\"Frequency\"]])\n",
    "frequency_df[\"FrequencyCluster\"] = kmeans.predict(frequency_df[[\"Frequency\"]])"
   ]
  },
  {
   "cell_type": "code",
   "execution_count": 45,
   "id": "e02f07e9",
   "metadata": {},
   "outputs": [],
   "source": [
    "frequency_df = order_cluster(\"FrequencyCluster\", \"Frequency\", frequency_df, True)"
   ]
  },
  {
   "cell_type": "code",
   "execution_count": 46,
   "id": "2dbed368",
   "metadata": {},
   "outputs": [
    {
     "data": {
      "text/html": [
       "<div>\n",
       "<style scoped>\n",
       "    .dataframe tbody tr th:only-of-type {\n",
       "        vertical-align: middle;\n",
       "    }\n",
       "\n",
       "    .dataframe tbody tr th {\n",
       "        vertical-align: top;\n",
       "    }\n",
       "\n",
       "    .dataframe thead th {\n",
       "        text-align: right;\n",
       "    }\n",
       "</style>\n",
       "<table border=\"1\" class=\"dataframe\">\n",
       "  <thead>\n",
       "    <tr style=\"text-align: right;\">\n",
       "      <th></th>\n",
       "      <th>count</th>\n",
       "      <th>mean</th>\n",
       "      <th>std</th>\n",
       "      <th>min</th>\n",
       "      <th>25%</th>\n",
       "      <th>50%</th>\n",
       "      <th>75%</th>\n",
       "      <th>max</th>\n",
       "    </tr>\n",
       "    <tr>\n",
       "      <th>FrequencyCluster</th>\n",
       "      <th></th>\n",
       "      <th></th>\n",
       "      <th></th>\n",
       "      <th></th>\n",
       "      <th></th>\n",
       "      <th></th>\n",
       "      <th></th>\n",
       "      <th></th>\n",
       "    </tr>\n",
       "  </thead>\n",
       "  <tbody>\n",
       "    <tr>\n",
       "      <th>0</th>\n",
       "      <td>3393.0</td>\n",
       "      <td>37.025052</td>\n",
       "      <td>29.196517</td>\n",
       "      <td>1.0</td>\n",
       "      <td>13.00</td>\n",
       "      <td>29.0</td>\n",
       "      <td>55.00</td>\n",
       "      <td>112.0</td>\n",
       "    </tr>\n",
       "    <tr>\n",
       "      <th>1</th>\n",
       "      <td>767.0</td>\n",
       "      <td>188.700130</td>\n",
       "      <td>62.606703</td>\n",
       "      <td>113.0</td>\n",
       "      <td>135.00</td>\n",
       "      <td>170.0</td>\n",
       "      <td>228.50</td>\n",
       "      <td>346.0</td>\n",
       "    </tr>\n",
       "    <tr>\n",
       "      <th>2</th>\n",
       "      <td>158.0</td>\n",
       "      <td>506.550633</td>\n",
       "      <td>147.888129</td>\n",
       "      <td>347.0</td>\n",
       "      <td>402.25</td>\n",
       "      <td>460.5</td>\n",
       "      <td>571.00</td>\n",
       "      <td>981.0</td>\n",
       "    </tr>\n",
       "    <tr>\n",
       "      <th>3</th>\n",
       "      <td>16.0</td>\n",
       "      <td>1518.562500</td>\n",
       "      <td>502.867904</td>\n",
       "      <td>1028.0</td>\n",
       "      <td>1132.50</td>\n",
       "      <td>1339.5</td>\n",
       "      <td>1712.25</td>\n",
       "      <td>2700.0</td>\n",
       "    </tr>\n",
       "    <tr>\n",
       "      <th>4</th>\n",
       "      <td>4.0</td>\n",
       "      <td>5807.750000</td>\n",
       "      <td>1429.386203</td>\n",
       "      <td>4596.0</td>\n",
       "      <td>4982.25</td>\n",
       "      <td>5394.0</td>\n",
       "      <td>6219.50</td>\n",
       "      <td>7847.0</td>\n",
       "    </tr>\n",
       "  </tbody>\n",
       "</table>\n",
       "</div>"
      ],
      "text/plain": [
       "                   count         mean          std     min      25%     50%  \\\n",
       "FrequencyCluster                                                              \n",
       "0                 3393.0    37.025052    29.196517     1.0    13.00    29.0   \n",
       "1                  767.0   188.700130    62.606703   113.0   135.00   170.0   \n",
       "2                  158.0   506.550633   147.888129   347.0   402.25   460.5   \n",
       "3                   16.0  1518.562500   502.867904  1028.0  1132.50  1339.5   \n",
       "4                    4.0  5807.750000  1429.386203  4596.0  4982.25  5394.0   \n",
       "\n",
       "                      75%     max  \n",
       "FrequencyCluster                   \n",
       "0                   55.00   112.0  \n",
       "1                  228.50   346.0  \n",
       "2                  571.00   981.0  \n",
       "3                 1712.25  2700.0  \n",
       "4                 6219.50  7847.0  "
      ]
     },
     "execution_count": 46,
     "metadata": {},
     "output_type": "execute_result"
    }
   ],
   "source": [
    "## inspecting statistics for all clusters\n",
    "frequency_df.groupby(\"FrequencyCluster\")[\"Frequency\"].describe()"
   ]
  },
  {
   "cell_type": "code",
   "execution_count": 47,
   "id": "bb15a9da",
   "metadata": {},
   "outputs": [],
   "source": [
    "## including frequency data in user_df\n",
    "user_df= pd.merge(user_df, frequency_df, on= \"CustomerID\")"
   ]
  },
  {
   "cell_type": "markdown",
   "id": "e8869ddf",
   "metadata": {},
   "source": [
    "### Calculating Monetary Value\n",
    "\n",
    "Clustering Customers based on Revenue."
   ]
  },
  {
   "cell_type": "code",
   "execution_count": 48,
   "id": "37a873a6",
   "metadata": {},
   "outputs": [],
   "source": [
    "## assessing total revenue per customer\n",
    "revenue_df = data.groupby(\"CustomerID\")[\"Revenue\"].sum().reset_index()"
   ]
  },
  {
   "cell_type": "code",
   "execution_count": 49,
   "id": "cd12a008",
   "metadata": {},
   "outputs": [
    {
     "data": {
      "image/png": "[encoded data removed]",
      "text/plain": [
       "<Figure size 1080x504 with 1 Axes>"
      ]
     },
     "metadata": {
      "needs_background": "light"
     },
     "output_type": "display_data"
    }
   ],
   "source": [
    "## plotting the revenue distribution\n",
    "plt.figure(figsize=(15,7))\n",
    "sns.histplot(revenue_df[\"Revenue\"], bins=100)\n",
    "plt.title(\"Distribution of buying frequency per customer\", size=15);"
   ]
  },
  {
   "cell_type": "code",
   "execution_count": 50,
   "id": "163fcdb3",
   "metadata": {},
   "outputs": [],
   "source": [
    "## clustering based on revenue\n",
    "sse = {}\n",
    "revenue = revenue_df[[\"Revenue\"]]\n",
    "for k in range(1,10):\n",
    "    kmeans= KMeans(n_clusters= k, max_iter= 1000).fit(revenue)\n",
    "    revenue[\"clusters\"] = kmeans.labels_\n",
    "    sse[k] = kmeans.inertia_"
   ]
  },
  {
   "cell_type": "code",
   "execution_count": 51,
   "id": "2d20ac62",
   "metadata": {},
   "outputs": [
    {
     "data": {
      "image/png": "[encoded data removed]",
      "text/plain": [
       "<Figure size 720x432 with 1 Axes>"
      ]
     },
     "metadata": {
      "needs_background": "light"
     },
     "output_type": "display_data"
    }
   ],
   "source": [
    "## plotting inertia\n",
    "plt.figure(figsize=(10,6))\n",
    "plt.plot(list(sse.keys()), list(sse.values()))\n",
    "plt.xlabel(\"Number of clusters\")\n",
    "plt.title(\"Inertia of KMeans Clustering for Revenue\", size=15);"
   ]
  },
  {
   "cell_type": "markdown",
   "id": "4a1b1227",
   "metadata": {},
   "source": [
    "Based on the inertia plot, the optimal number of clusters is 5."
   ]
  },
  {
   "cell_type": "code",
   "execution_count": 52,
   "id": "3c804c41",
   "metadata": {},
   "outputs": [],
   "source": [
    "## clustering customers based on revenue\n",
    "kmeans = KMeans(n_clusters= 5, max_iter= 1000)\n",
    "kmeans.fit(revenue_df[[\"Revenue\"]])\n",
    "\n",
    "revenue_df[\"RevenueCluster\"] = kmeans.predict(revenue_df[[\"Revenue\"]])\n",
    "\n",
    "revenue_df = order_cluster(\"RevenueCluster\", \"Revenue\", revenue_df, True)"
   ]
  },
  {
   "cell_type": "code",
   "execution_count": 53,
   "id": "73d8cb36",
   "metadata": {},
   "outputs": [
    {
     "data": {
      "text/html": [
       "<div>\n",
       "<style scoped>\n",
       "    .dataframe tbody tr th:only-of-type {\n",
       "        vertical-align: middle;\n",
       "    }\n",
       "\n",
       "    .dataframe tbody tr th {\n",
       "        vertical-align: top;\n",
       "    }\n",
       "\n",
       "    .dataframe thead th {\n",
       "        text-align: right;\n",
       "    }\n",
       "</style>\n",
       "<table border=\"1\" class=\"dataframe\">\n",
       "  <thead>\n",
       "    <tr style=\"text-align: right;\">\n",
       "      <th></th>\n",
       "      <th>count</th>\n",
       "      <th>mean</th>\n",
       "      <th>std</th>\n",
       "      <th>min</th>\n",
       "      <th>25%</th>\n",
       "      <th>50%</th>\n",
       "      <th>75%</th>\n",
       "      <th>max</th>\n",
       "    </tr>\n",
       "    <tr>\n",
       "      <th>RevenueCluster</th>\n",
       "      <th></th>\n",
       "      <th></th>\n",
       "      <th></th>\n",
       "      <th></th>\n",
       "      <th></th>\n",
       "      <th></th>\n",
       "      <th></th>\n",
       "      <th></th>\n",
       "    </tr>\n",
       "  </thead>\n",
       "  <tbody>\n",
       "    <tr>\n",
       "      <th>0</th>\n",
       "      <td>4035.0</td>\n",
       "      <td>982.816588</td>\n",
       "      <td>983.556462</td>\n",
       "      <td>0.00</td>\n",
       "      <td>290.935</td>\n",
       "      <td>609.950</td>\n",
       "      <td>1341.510</td>\n",
       "      <td>4604.22</td>\n",
       "    </tr>\n",
       "    <tr>\n",
       "      <th>1</th>\n",
       "      <td>267.0</td>\n",
       "      <td>8309.200787</td>\n",
       "      <td>3872.402981</td>\n",
       "      <td>4628.75</td>\n",
       "      <td>5518.800</td>\n",
       "      <td>6816.420</td>\n",
       "      <td>9841.540</td>\n",
       "      <td>21429.39</td>\n",
       "    </tr>\n",
       "    <tr>\n",
       "      <th>2</th>\n",
       "      <td>28.0</td>\n",
       "      <td>42461.164643</td>\n",
       "      <td>13615.216765</td>\n",
       "      <td>25977.16</td>\n",
       "      <td>31095.870</td>\n",
       "      <td>38535.175</td>\n",
       "      <td>54963.785</td>\n",
       "      <td>66653.56</td>\n",
       "    </tr>\n",
       "    <tr>\n",
       "      <th>3</th>\n",
       "      <td>5.0</td>\n",
       "      <td>111641.288000</td>\n",
       "      <td>25523.327785</td>\n",
       "      <td>81024.84</td>\n",
       "      <td>91062.380</td>\n",
       "      <td>117379.630</td>\n",
       "      <td>124914.530</td>\n",
       "      <td>143825.06</td>\n",
       "    </tr>\n",
       "    <tr>\n",
       "      <th>4</th>\n",
       "      <td>3.0</td>\n",
       "      <td>244804.703333</td>\n",
       "      <td>44717.494646</td>\n",
       "      <td>194550.79</td>\n",
       "      <td>227104.045</td>\n",
       "      <td>259657.300</td>\n",
       "      <td>269931.660</td>\n",
       "      <td>280206.02</td>\n",
       "    </tr>\n",
       "  </tbody>\n",
       "</table>\n",
       "</div>"
      ],
      "text/plain": [
       "                 count           mean           std        min         25%  \\\n",
       "RevenueCluster                                                               \n",
       "0               4035.0     982.816588    983.556462       0.00     290.935   \n",
       "1                267.0    8309.200787   3872.402981    4628.75    5518.800   \n",
       "2                 28.0   42461.164643  13615.216765   25977.16   31095.870   \n",
       "3                  5.0  111641.288000  25523.327785   81024.84   91062.380   \n",
       "4                  3.0  244804.703333  44717.494646  194550.79  227104.045   \n",
       "\n",
       "                       50%         75%        max  \n",
       "RevenueCluster                                     \n",
       "0                  609.950    1341.510    4604.22  \n",
       "1                 6816.420    9841.540   21429.39  \n",
       "2                38535.175   54963.785   66653.56  \n",
       "3               117379.630  124914.530  143825.06  \n",
       "4               259657.300  269931.660  280206.02  "
      ]
     },
     "execution_count": 53,
     "metadata": {},
     "output_type": "execute_result"
    }
   ],
   "source": [
    "## inspecting descriptive statistics for all revenue clusters\n",
    "revenue_df.groupby(\"RevenueCluster\")[\"Revenue\"].describe()"
   ]
  },
  {
   "cell_type": "code",
   "execution_count": 54,
   "id": "3563e48b",
   "metadata": {},
   "outputs": [],
   "source": [
    "## including revenue data in user_df\n",
    "user_df= pd.merge(user_df, revenue_df, on= \"CustomerID\")"
   ]
  },
  {
   "cell_type": "markdown",
   "id": "5d07dab0",
   "metadata": {},
   "source": [
    "### Making final dataframe"
   ]
  },
  {
   "cell_type": "code",
   "execution_count": 57,
   "id": "a24d7d32",
   "metadata": {},
   "outputs": [
    {
     "data": {
      "text/html": [
       "<div>\n",
       "<style scoped>\n",
       "    .dataframe tbody tr th:only-of-type {\n",
       "        vertical-align: middle;\n",
       "    }\n",
       "\n",
       "    .dataframe tbody tr th {\n",
       "        vertical-align: top;\n",
       "    }\n",
       "\n",
       "    .dataframe thead th {\n",
       "        text-align: right;\n",
       "    }\n",
       "</style>\n",
       "<table border=\"1\" class=\"dataframe\">\n",
       "  <thead>\n",
       "    <tr style=\"text-align: right;\">\n",
       "      <th></th>\n",
       "      <th>CustomerID</th>\n",
       "      <th>Recency_x</th>\n",
       "      <th>RecencyCluster_x</th>\n",
       "      <th>Recency_y</th>\n",
       "      <th>RecencyCluster_y</th>\n",
       "      <th>Frequency</th>\n",
       "      <th>FrequencyCluster</th>\n",
       "      <th>Revenue</th>\n",
       "      <th>RevenueCluster</th>\n",
       "    </tr>\n",
       "  </thead>\n",
       "  <tbody>\n",
       "    <tr>\n",
       "      <th>0</th>\n",
       "      <td>17850.0</td>\n",
       "      <td>371</td>\n",
       "      <td>0</td>\n",
       "      <td>371</td>\n",
       "      <td>0</td>\n",
       "      <td>297</td>\n",
       "      <td>1</td>\n",
       "      <td>5391.21</td>\n",
       "      <td>1</td>\n",
       "    </tr>\n",
       "    <tr>\n",
       "      <th>1</th>\n",
       "      <td>13047.0</td>\n",
       "      <td>31</td>\n",
       "      <td>2</td>\n",
       "      <td>31</td>\n",
       "      <td>2</td>\n",
       "      <td>172</td>\n",
       "      <td>1</td>\n",
       "      <td>3237.54</td>\n",
       "      <td>0</td>\n",
       "    </tr>\n",
       "    <tr>\n",
       "      <th>2</th>\n",
       "      <td>12583.0</td>\n",
       "      <td>2</td>\n",
       "      <td>2</td>\n",
       "      <td>2</td>\n",
       "      <td>2</td>\n",
       "      <td>247</td>\n",
       "      <td>1</td>\n",
       "      <td>7281.38</td>\n",
       "      <td>1</td>\n",
       "    </tr>\n",
       "    <tr>\n",
       "      <th>3</th>\n",
       "      <td>13748.0</td>\n",
       "      <td>95</td>\n",
       "      <td>1</td>\n",
       "      <td>95</td>\n",
       "      <td>1</td>\n",
       "      <td>28</td>\n",
       "      <td>0</td>\n",
       "      <td>948.25</td>\n",
       "      <td>0</td>\n",
       "    </tr>\n",
       "    <tr>\n",
       "      <th>4</th>\n",
       "      <td>15100.0</td>\n",
       "      <td>333</td>\n",
       "      <td>0</td>\n",
       "      <td>333</td>\n",
       "      <td>0</td>\n",
       "      <td>3</td>\n",
       "      <td>0</td>\n",
       "      <td>876.00</td>\n",
       "      <td>0</td>\n",
       "    </tr>\n",
       "  </tbody>\n",
       "</table>\n",
       "</div>"
      ],
      "text/plain": [
       "   CustomerID  Recency_x  RecencyCluster_x  Recency_y  RecencyCluster_y  \\\n",
       "0     17850.0        371                 0        371                 0   \n",
       "1     13047.0         31                 2         31                 2   \n",
       "2     12583.0          2                 2          2                 2   \n",
       "3     13748.0         95                 1         95                 1   \n",
       "4     15100.0        333                 0        333                 0   \n",
       "\n",
       "   Frequency  FrequencyCluster  Revenue  RevenueCluster  \n",
       "0        297                 1  5391.21               1  \n",
       "1        172                 1  3237.54               0  \n",
       "2        247                 1  7281.38               1  \n",
       "3         28                 0   948.25               0  \n",
       "4          3                 0   876.00               0  "
      ]
     },
     "execution_count": 57,
     "metadata": {},
     "output_type": "execute_result"
    }
   ],
   "source": [
    "user_df.head()"
   ]
  },
  {
   "cell_type": "code",
   "execution_count": null,
   "id": "63b98fca",
   "metadata": {},
   "outputs": [],
   "source": [
    "## applying over all scoring by adding cluster numbers\n",
    "user_df[\"OverallScore\"] = user_df[\"RecencyCluster_x\"] + user_df[\"FrequencyCluster\"] + user_df[\"RevenueCluster\"]"
   ]
  },
  {
   "cell_type": "code",
   "execution_count": 62,
   "id": "578a13d7",
   "metadata": {},
   "outputs": [
    {
     "name": "stderr",
     "output_type": "stream",
     "text": [
      "/var/folders/2s/hl8h12kx35b4f1bh9818nxj00000gn/T/ipykernel_6107/2190231978.py:2: FutureWarning: Indexing with multiple keys (implicitly converted to a tuple of keys) will be deprecated, use a list instead.\n",
      "  user_df.groupby(\"OverallScore\")[\"Recency_x\", \"Frequency\", \"Revenue\"].mean()\n"
     ]
    },
    {
     "data": {
      "text/html": [
       "<div>\n",
       "<style scoped>\n",
       "    .dataframe tbody tr th:only-of-type {\n",
       "        vertical-align: middle;\n",
       "    }\n",
       "\n",
       "    .dataframe tbody tr th {\n",
       "        vertical-align: top;\n",
       "    }\n",
       "\n",
       "    .dataframe thead th {\n",
       "        text-align: right;\n",
       "    }\n",
       "</style>\n",
       "<table border=\"1\" class=\"dataframe\">\n",
       "  <thead>\n",
       "    <tr style=\"text-align: right;\">\n",
       "      <th></th>\n",
       "      <th>Recency_x</th>\n",
       "      <th>Frequency</th>\n",
       "      <th>Revenue</th>\n",
       "    </tr>\n",
       "    <tr>\n",
       "      <th>OverallScore</th>\n",
       "      <th></th>\n",
       "      <th></th>\n",
       "      <th></th>\n",
       "    </tr>\n",
       "  </thead>\n",
       "  <tbody>\n",
       "    <tr>\n",
       "      <th>0</th>\n",
       "      <td>293.343699</td>\n",
       "      <td>20.968903</td>\n",
       "      <td>369.472439</td>\n",
       "    </tr>\n",
       "    <tr>\n",
       "      <th>1</th>\n",
       "      <td>155.573510</td>\n",
       "      <td>32.238411</td>\n",
       "      <td>624.928742</td>\n",
       "    </tr>\n",
       "    <tr>\n",
       "      <th>2</th>\n",
       "      <td>39.606934</td>\n",
       "      <td>47.051270</td>\n",
       "      <td>920.117414</td>\n",
       "    </tr>\n",
       "    <tr>\n",
       "      <th>3</th>\n",
       "      <td>25.063123</td>\n",
       "      <td>172.403654</td>\n",
       "      <td>2749.086412</td>\n",
       "    </tr>\n",
       "    <tr>\n",
       "      <th>4</th>\n",
       "      <td>14.014563</td>\n",
       "      <td>323.563107</td>\n",
       "      <td>6766.687476</td>\n",
       "    </tr>\n",
       "    <tr>\n",
       "      <th>5</th>\n",
       "      <td>11.916667</td>\n",
       "      <td>481.226190</td>\n",
       "      <td>12049.077857</td>\n",
       "    </tr>\n",
       "    <tr>\n",
       "      <th>6</th>\n",
       "      <td>7.222222</td>\n",
       "      <td>973.611111</td>\n",
       "      <td>26213.610556</td>\n",
       "    </tr>\n",
       "    <tr>\n",
       "      <th>7</th>\n",
       "      <td>7.428571</td>\n",
       "      <td>1268.285714</td>\n",
       "      <td>87140.872857</td>\n",
       "    </tr>\n",
       "    <tr>\n",
       "      <th>8</th>\n",
       "      <td>2.600000</td>\n",
       "      <td>3877.000000</td>\n",
       "      <td>103382.604000</td>\n",
       "    </tr>\n",
       "    <tr>\n",
       "      <th>9</th>\n",
       "      <td>0.500000</td>\n",
       "      <td>3878.500000</td>\n",
       "      <td>212015.540000</td>\n",
       "    </tr>\n",
       "  </tbody>\n",
       "</table>\n",
       "</div>"
      ],
      "text/plain": [
       "               Recency_x    Frequency        Revenue\n",
       "OverallScore                                        \n",
       "0             293.343699    20.968903     369.472439\n",
       "1             155.573510    32.238411     624.928742\n",
       "2              39.606934    47.051270     920.117414\n",
       "3              25.063123   172.403654    2749.086412\n",
       "4              14.014563   323.563107    6766.687476\n",
       "5              11.916667   481.226190   12049.077857\n",
       "6               7.222222   973.611111   26213.610556\n",
       "7               7.428571  1268.285714   87140.872857\n",
       "8               2.600000  3877.000000  103382.604000\n",
       "9               0.500000  3878.500000  212015.540000"
      ]
     },
     "execution_count": 62,
     "metadata": {},
     "output_type": "execute_result"
    }
   ],
   "source": [
    "## creating the final dataframe\n",
    "user_df.groupby(\"OverallScore\")[\"Recency_x\", \"Frequency\", \"Revenue\"].mean()"
   ]
  },
  {
   "cell_type": "code",
   "execution_count": null,
   "id": "239b1396",
   "metadata": {},
   "outputs": [],
   "source": []
  },
  {
   "cell_type": "code",
   "execution_count": null,
   "id": "fbb60dcf",
   "metadata": {},
   "outputs": [],
   "source": []
  },
  {
   "cell_type": "markdown",
   "id": "fc18eb24",
   "metadata": {},
   "source": [
    "## Data Preparation\n",
    "\n",
    "Preparing data for modeling"
   ]
  },
  {
   "cell_type": "markdown",
   "id": "9a6aae02",
   "metadata": {},
   "source": [
    "### Feature Scaling"
   ]
  },
  {
   "cell_type": "code",
   "execution_count": null,
   "id": "2de4a782",
   "metadata": {},
   "outputs": [],
   "source": []
  },
  {
   "cell_type": "markdown",
   "id": "2b5f4630",
   "metadata": {},
   "source": [
    "### Encoding / discretizing"
   ]
  },
  {
   "cell_type": "code",
   "execution_count": null,
   "id": "1247925b",
   "metadata": {},
   "outputs": [],
   "source": []
  },
  {
   "cell_type": "markdown",
   "id": "3a9fc407",
   "metadata": {},
   "source": [
    "## Modeling\n",
    "\n",
    "Comparing and fitting machine learning models to the data"
   ]
  },
  {
   "cell_type": "code",
   "execution_count": null,
   "id": "b2b34c03",
   "metadata": {},
   "outputs": [],
   "source": []
  },
  {
   "cell_type": "markdown",
   "id": "49a95481",
   "metadata": {},
   "source": [
    "## Evaluation\n",
    "\n",
    "Evaluating algorithm performance based on performance metrics"
   ]
  },
  {
   "cell_type": "code",
   "execution_count": null,
   "id": "4b88ad3b",
   "metadata": {},
   "outputs": [],
   "source": []
  }
 ],
 "metadata": {
  "kernelspec": {
   "display_name": "Python 3 (ipykernel)",
   "language": "python",
   "name": "python3"
  },
  "language_info": {
   "codemirror_mode": {
    "name": "ipython",
    "version": 3
   },
   "file_extension": ".py",
   "mimetype": "text/x-python",
   "name": "python",
   "nbconvert_exporter": "python",
   "pygments_lexer": "ipython3",
   "version": "3.8.12"
  },
  "toc": {
   "base_numbering": 1,
   "nav_menu": {},
   "number_sections": true,
   "sideBar": true,
   "skip_h1_title": false,
   "title_cell": "Table of Contents",
   "title_sidebar": "Contents",
   "toc_cell": false,
   "toc_position": {},
   "toc_section_display": true,
   "toc_window_display": false
  }
 },
 "nbformat": 4,
 "nbformat_minor": 5
}

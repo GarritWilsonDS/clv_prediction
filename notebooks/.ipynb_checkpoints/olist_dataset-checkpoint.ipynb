{
 "cells": [
  {
   "cell_type": "markdown",
   "id": "323b679d",
   "metadata": {},
   "source": [
    "# Olist Dataset\n",
    "\n",
    "This notebook is used to prepare the olist dataset for ingestion into the streamlit app, to apply customer segmentation and customer lifetime value (CLV) prediction.\n",
    "\n",
    "The dataset can be found here: *https://www.kaggle.com/datasets/olistbr/brazilian-ecommerce?resource=download*"
   ]
  },
  {
   "cell_type": "code",
   "execution_count": 1,
   "id": "d7874ed3",
   "metadata": {},
   "outputs": [],
   "source": [
    "import pandas as pd\n",
    "import numpy as np\n",
    "import matplotlib.pyplot as plt\n",
    "\n",
    "from datetime import datetime, timedelta, date"
   ]
  },
  {
   "cell_type": "markdown",
   "id": "134a428a",
   "metadata": {},
   "source": [
    "## Data Ingestion"
   ]
  },
  {
   "cell_type": "code",
   "execution_count": 2,
   "id": "20a1626e",
   "metadata": {},
   "outputs": [],
   "source": [
    "orders_dataset = pd.read_csv('../data/olist_orders_dataset.csv')\n",
    "orders_dataset = orders_dataset[[\"order_id\", \"customer_id\", \"order_purchase_timestamp\"]]"
   ]
  },
  {
   "cell_type": "code",
   "execution_count": 3,
   "id": "beb4f75d",
   "metadata": {},
   "outputs": [
    {
     "data": {
      "text/html": [
       "<div>\n",
       "<style scoped>\n",
       "    .dataframe tbody tr th:only-of-type {\n",
       "        vertical-align: middle;\n",
       "    }\n",
       "\n",
       "    .dataframe tbody tr th {\n",
       "        vertical-align: top;\n",
       "    }\n",
       "\n",
       "    .dataframe thead th {\n",
       "        text-align: right;\n",
       "    }\n",
       "</style>\n",
       "<table border=\"1\" class=\"dataframe\">\n",
       "  <thead>\n",
       "    <tr style=\"text-align: right;\">\n",
       "      <th></th>\n",
       "      <th>order_id</th>\n",
       "      <th>customer_id</th>\n",
       "      <th>order_purchase_timestamp</th>\n",
       "    </tr>\n",
       "  </thead>\n",
       "  <tbody>\n",
       "    <tr>\n",
       "      <th>0</th>\n",
       "      <td>e481f51cbdc54678b7cc49136f2d6af7</td>\n",
       "      <td>9ef432eb6251297304e76186b10a928d</td>\n",
       "      <td>2017-10-02 10:56:33</td>\n",
       "    </tr>\n",
       "    <tr>\n",
       "      <th>1</th>\n",
       "      <td>53cdb2fc8bc7dce0b6741e2150273451</td>\n",
       "      <td>b0830fb4747a6c6d20dea0b8c802d7ef</td>\n",
       "      <td>2018-07-24 20:41:37</td>\n",
       "    </tr>\n",
       "  </tbody>\n",
       "</table>\n",
       "</div>"
      ],
      "text/plain": [
       "                           order_id                       customer_id  \\\n",
       "0  e481f51cbdc54678b7cc49136f2d6af7  9ef432eb6251297304e76186b10a928d   \n",
       "1  53cdb2fc8bc7dce0b6741e2150273451  b0830fb4747a6c6d20dea0b8c802d7ef   \n",
       "\n",
       "  order_purchase_timestamp  \n",
       "0      2017-10-02 10:56:33  \n",
       "1      2018-07-24 20:41:37  "
      ]
     },
     "execution_count": 3,
     "metadata": {},
     "output_type": "execute_result"
    }
   ],
   "source": [
    "orders_dataset.head(2)"
   ]
  },
  {
   "cell_type": "code",
   "execution_count": 4,
   "id": "ac55b6f8",
   "metadata": {},
   "outputs": [],
   "source": [
    "payments_dataset = pd.read_csv('../data/olist_order_payments_dataset.csv')\n",
    "payments_dataset = payments_dataset[[\"order_id\", \"payment_value\"]]"
   ]
  },
  {
   "cell_type": "code",
   "execution_count": 5,
   "id": "ecb4d263",
   "metadata": {},
   "outputs": [
    {
     "data": {
      "text/html": [
       "<div>\n",
       "<style scoped>\n",
       "    .dataframe tbody tr th:only-of-type {\n",
       "        vertical-align: middle;\n",
       "    }\n",
       "\n",
       "    .dataframe tbody tr th {\n",
       "        vertical-align: top;\n",
       "    }\n",
       "\n",
       "    .dataframe thead th {\n",
       "        text-align: right;\n",
       "    }\n",
       "</style>\n",
       "<table border=\"1\" class=\"dataframe\">\n",
       "  <thead>\n",
       "    <tr style=\"text-align: right;\">\n",
       "      <th></th>\n",
       "      <th>order_id</th>\n",
       "      <th>payment_value</th>\n",
       "    </tr>\n",
       "  </thead>\n",
       "  <tbody>\n",
       "    <tr>\n",
       "      <th>0</th>\n",
       "      <td>b81ef226f3fe1789b1e8b2acac839d17</td>\n",
       "      <td>99.33</td>\n",
       "    </tr>\n",
       "    <tr>\n",
       "      <th>1</th>\n",
       "      <td>a9810da82917af2d9aefd1278f1dcfa0</td>\n",
       "      <td>24.39</td>\n",
       "    </tr>\n",
       "  </tbody>\n",
       "</table>\n",
       "</div>"
      ],
      "text/plain": [
       "                           order_id  payment_value\n",
       "0  b81ef226f3fe1789b1e8b2acac839d17          99.33\n",
       "1  a9810da82917af2d9aefd1278f1dcfa0          24.39"
      ]
     },
     "execution_count": 5,
     "metadata": {},
     "output_type": "execute_result"
    }
   ],
   "source": [
    "payments_dataset.head(2)"
   ]
  },
  {
   "cell_type": "markdown",
   "id": "0e8591b7",
   "metadata": {},
   "source": [
    "## Data Cleaning"
   ]
  },
  {
   "cell_type": "code",
   "execution_count": 6,
   "id": "3a1615b3",
   "metadata": {},
   "outputs": [],
   "source": [
    "## merge datasets\n",
    "dataframe = pd.merge(orders_dataset, payments_dataset, on= \"order_id\", how = \"inner\")"
   ]
  },
  {
   "cell_type": "code",
   "execution_count": 7,
   "id": "713ccca4",
   "metadata": {},
   "outputs": [],
   "source": [
    "dataframe.drop(\"order_id\", axis= 1, inplace= True)"
   ]
  },
  {
   "cell_type": "code",
   "execution_count": 8,
   "id": "2d86e5c4",
   "metadata": {},
   "outputs": [],
   "source": [
    "dataframe.rename({\"customer_id\": \"CustomerID\",\n",
    "                 \"order_purchase_timestamp\":\"InvoiceDate\",\n",
    "                 \"payment_value\": \"Revenue\"}, \n",
    "                 axis=1,\n",
    "                 inplace=True)"
   ]
  },
  {
   "cell_type": "code",
   "execution_count": 9,
   "id": "8230e8f2",
   "metadata": {},
   "outputs": [],
   "source": [
    "dataframe[\"InvoiceDate\"] = pd.to_datetime(dataframe[\"InvoiceDate\"]).dt.date"
   ]
  },
  {
   "cell_type": "code",
   "execution_count": 10,
   "id": "7b5ed569",
   "metadata": {},
   "outputs": [
    {
     "data": {
      "text/html": [
       "<div>\n",
       "<style scoped>\n",
       "    .dataframe tbody tr th:only-of-type {\n",
       "        vertical-align: middle;\n",
       "    }\n",
       "\n",
       "    .dataframe tbody tr th {\n",
       "        vertical-align: top;\n",
       "    }\n",
       "\n",
       "    .dataframe thead th {\n",
       "        text-align: right;\n",
       "    }\n",
       "</style>\n",
       "<table border=\"1\" class=\"dataframe\">\n",
       "  <thead>\n",
       "    <tr style=\"text-align: right;\">\n",
       "      <th></th>\n",
       "      <th>CustomerID</th>\n",
       "      <th>InvoiceDate</th>\n",
       "      <th>Revenue</th>\n",
       "    </tr>\n",
       "  </thead>\n",
       "  <tbody>\n",
       "    <tr>\n",
       "      <th>0</th>\n",
       "      <td>9ef432eb6251297304e76186b10a928d</td>\n",
       "      <td>2017-10-02</td>\n",
       "      <td>18.12</td>\n",
       "    </tr>\n",
       "    <tr>\n",
       "      <th>1</th>\n",
       "      <td>9ef432eb6251297304e76186b10a928d</td>\n",
       "      <td>2017-10-02</td>\n",
       "      <td>2.00</td>\n",
       "    </tr>\n",
       "    <tr>\n",
       "      <th>2</th>\n",
       "      <td>9ef432eb6251297304e76186b10a928d</td>\n",
       "      <td>2017-10-02</td>\n",
       "      <td>18.59</td>\n",
       "    </tr>\n",
       "    <tr>\n",
       "      <th>3</th>\n",
       "      <td>b0830fb4747a6c6d20dea0b8c802d7ef</td>\n",
       "      <td>2018-07-24</td>\n",
       "      <td>141.46</td>\n",
       "    </tr>\n",
       "    <tr>\n",
       "      <th>4</th>\n",
       "      <td>41ce2a54c0b03bf3443c3d931a367089</td>\n",
       "      <td>2018-08-08</td>\n",
       "      <td>179.12</td>\n",
       "    </tr>\n",
       "  </tbody>\n",
       "</table>\n",
       "</div>"
      ],
      "text/plain": [
       "                         CustomerID InvoiceDate  Revenue\n",
       "0  9ef432eb6251297304e76186b10a928d  2017-10-02    18.12\n",
       "1  9ef432eb6251297304e76186b10a928d  2017-10-02     2.00\n",
       "2  9ef432eb6251297304e76186b10a928d  2017-10-02    18.59\n",
       "3  b0830fb4747a6c6d20dea0b8c802d7ef  2018-07-24   141.46\n",
       "4  41ce2a54c0b03bf3443c3d931a367089  2018-08-08   179.12"
      ]
     },
     "execution_count": 10,
     "metadata": {},
     "output_type": "execute_result"
    }
   ],
   "source": [
    "dataframe.head()"
   ]
  },
  {
   "cell_type": "code",
   "execution_count": 11,
   "id": "41354e25",
   "metadata": {},
   "outputs": [
    {
     "data": {
      "text/plain": [
       "(103886, 3)"
      ]
     },
     "execution_count": 11,
     "metadata": {},
     "output_type": "execute_result"
    }
   ],
   "source": [
    "dataframe.shape"
   ]
  },
  {
   "cell_type": "code",
   "execution_count": 12,
   "id": "57572d14",
   "metadata": {},
   "outputs": [
    {
     "data": {
      "text/plain": [
       "99440"
      ]
     },
     "execution_count": 12,
     "metadata": {},
     "output_type": "execute_result"
    }
   ],
   "source": [
    "dataframe.CustomerID.nunique()"
   ]
  },
  {
   "cell_type": "code",
   "execution_count": 13,
   "id": "7c98247c",
   "metadata": {},
   "outputs": [
    {
     "data": {
      "text/plain": [
       "CustomerID      object\n",
       "InvoiceDate     object\n",
       "Revenue        float64\n",
       "dtype: object"
      ]
     },
     "execution_count": 13,
     "metadata": {},
     "output_type": "execute_result"
    }
   ],
   "source": [
    "dataframe.dtypes"
   ]
  },
  {
   "cell_type": "code",
   "execution_count": 14,
   "id": "1d76d219",
   "metadata": {},
   "outputs": [
    {
     "name": "stdout",
     "output_type": "stream",
     "text": [
      "0.03% repeat customers\n"
     ]
    }
   ],
   "source": [
    "## assessing how many customers are repeat customers\n",
    "_ = pd.DataFrame(dataframe.groupby(\"CustomerID\")[\"InvoiceDate\"].count())\n",
    "\n",
    "repeat_cust = _.loc[_[\"InvoiceDate\"] > 1].shape[0]\n",
    "\n",
    "print(f\"{round(repeat_cust / _.shape[0],2)}% repeat customers\")"
   ]
  },
  {
   "cell_type": "markdown",
   "id": "7cbf795b",
   "metadata": {},
   "source": [
    "As there are only <1% repeat customers, the analysis will proceed with only those customers who have shopped at the Olist online store repeatedly."
   ]
  },
  {
   "cell_type": "code",
   "execution_count": 15,
   "id": "85230675",
   "metadata": {},
   "outputs": [],
   "source": [
    "df_tmp = pd.DataFrame(dataframe.groupby(\"CustomerID\")[\"InvoiceDate\"].count()).reset_index()\n",
    "\n",
    "df_new = pd.merge(df_tmp, dataframe, on= \"CustomerID\")"
   ]
  },
  {
   "cell_type": "code",
   "execution_count": 16,
   "id": "1cdb0430",
   "metadata": {},
   "outputs": [],
   "source": [
    "df_new.rename({\"InvoiceDate_x\": \"BuyCount\",\n",
    "              \"InvoiceDate_y\": \"InvoiceDate\"}, axis= 1, inplace= True)"
   ]
  },
  {
   "cell_type": "code",
   "execution_count": 17,
   "id": "c93c5671",
   "metadata": {},
   "outputs": [],
   "source": [
    "final_df = df_new.loc[df_new[\"BuyCount\"] > 1]"
   ]
  },
  {
   "cell_type": "code",
   "execution_count": 18,
   "id": "9789352e",
   "metadata": {},
   "outputs": [
    {
     "data": {
      "text/plain": [
       "Index(['CustomerID', 'BuyCount', 'InvoiceDate', 'Revenue'], dtype='object')"
      ]
     },
     "execution_count": 18,
     "metadata": {},
     "output_type": "execute_result"
    }
   ],
   "source": [
    "final_df.columns"
   ]
  },
  {
   "cell_type": "code",
   "execution_count": 19,
   "id": "a4474ec9",
   "metadata": {},
   "outputs": [
    {
     "data": {
      "text/plain": [
       "2961"
      ]
     },
     "execution_count": 19,
     "metadata": {},
     "output_type": "execute_result"
    }
   ],
   "source": [
    "final_df.CustomerID.nunique()"
   ]
  },
  {
   "cell_type": "code",
   "execution_count": 20,
   "id": "6ee39a06",
   "metadata": {},
   "outputs": [
    {
     "data": {
      "text/html": [
       "<div>\n",
       "<style scoped>\n",
       "    .dataframe tbody tr th:only-of-type {\n",
       "        vertical-align: middle;\n",
       "    }\n",
       "\n",
       "    .dataframe tbody tr th {\n",
       "        vertical-align: top;\n",
       "    }\n",
       "\n",
       "    .dataframe thead th {\n",
       "        text-align: right;\n",
       "    }\n",
       "</style>\n",
       "<table border=\"1\" class=\"dataframe\">\n",
       "  <thead>\n",
       "    <tr style=\"text-align: right;\">\n",
       "      <th></th>\n",
       "      <th>CustomerID</th>\n",
       "      <th>BuyCount</th>\n",
       "      <th>InvoiceDate</th>\n",
       "      <th>Revenue</th>\n",
       "    </tr>\n",
       "  </thead>\n",
       "  <tbody>\n",
       "    <tr>\n",
       "      <th>16</th>\n",
       "      <td>000e943451fc2788ca6ac98a682f2f49</td>\n",
       "      <td>4</td>\n",
       "      <td>2017-04-20</td>\n",
       "      <td>26.80</td>\n",
       "    </tr>\n",
       "    <tr>\n",
       "      <th>17</th>\n",
       "      <td>000e943451fc2788ca6ac98a682f2f49</td>\n",
       "      <td>4</td>\n",
       "      <td>2017-04-20</td>\n",
       "      <td>26.80</td>\n",
       "    </tr>\n",
       "    <tr>\n",
       "      <th>18</th>\n",
       "      <td>000e943451fc2788ca6ac98a682f2f49</td>\n",
       "      <td>4</td>\n",
       "      <td>2017-04-20</td>\n",
       "      <td>26.80</td>\n",
       "    </tr>\n",
       "    <tr>\n",
       "      <th>19</th>\n",
       "      <td>000e943451fc2788ca6ac98a682f2f49</td>\n",
       "      <td>4</td>\n",
       "      <td>2017-04-20</td>\n",
       "      <td>25.83</td>\n",
       "    </tr>\n",
       "    <tr>\n",
       "      <th>25</th>\n",
       "      <td>001051abfcfdbed9f87b4266213a5df1</td>\n",
       "      <td>3</td>\n",
       "      <td>2018-05-30</td>\n",
       "      <td>13.35</td>\n",
       "    </tr>\n",
       "  </tbody>\n",
       "</table>\n",
       "</div>"
      ],
      "text/plain": [
       "                          CustomerID  BuyCount InvoiceDate  Revenue\n",
       "16  000e943451fc2788ca6ac98a682f2f49         4  2017-04-20    26.80\n",
       "17  000e943451fc2788ca6ac98a682f2f49         4  2017-04-20    26.80\n",
       "18  000e943451fc2788ca6ac98a682f2f49         4  2017-04-20    26.80\n",
       "19  000e943451fc2788ca6ac98a682f2f49         4  2017-04-20    25.83\n",
       "25  001051abfcfdbed9f87b4266213a5df1         3  2018-05-30    13.35"
      ]
     },
     "execution_count": 20,
     "metadata": {},
     "output_type": "execute_result"
    }
   ],
   "source": [
    "final_df.head()"
   ]
  },
  {
   "cell_type": "code",
   "execution_count": 21,
   "id": "b9ce23b4",
   "metadata": {},
   "outputs": [
    {
     "name": "stdout",
     "output_type": "stream",
     "text": [
      "Repeat customers make up 492107.95.\n",
      "\n",
      "That is 0.03% of total revenue.\n"
     ]
    }
   ],
   "source": [
    "## assessing total revenue by repeat customers\n",
    "revenue = round(final_df.Revenue.sum(),2)\n",
    "\n",
    "total_revenue = round(dataframe.Revenue.sum(),2)\n",
    "\n",
    "perc = round(revenue/total_revenue,2)\n",
    "\n",
    "print(f\"Repeat customers make up {revenue}.\\n\\nThat is {perc}% of total revenue.\")"
   ]
  },
  {
   "cell_type": "markdown",
   "id": "0a5035f9",
   "metadata": {},
   "source": [
    "## Export Final Dataset"
   ]
  },
  {
   "cell_type": "code",
   "execution_count": 22,
   "id": "b35cd7b6",
   "metadata": {},
   "outputs": [],
   "source": [
    "final_df.to_csv(\"../data/final_olist_dataset.csv\", index= False)"
   ]
  },
  {
   "cell_type": "markdown",
   "id": "c480cf81",
   "metadata": {},
   "source": [
    "# CLV Prediction"
   ]
  },
  {
   "cell_type": "markdown",
   "id": "45cee3ac",
   "metadata": {},
   "source": [
    "## Creating RFM Metrics"
   ]
  },
  {
   "cell_type": "code",
   "execution_count": 23,
   "id": "b702b1de",
   "metadata": {},
   "outputs": [],
   "source": [
    "import sys\n",
    "sys.path.append('../')"
   ]
  },
  {
   "cell_type": "code",
   "execution_count": 24,
   "id": "2e424e74",
   "metadata": {},
   "outputs": [],
   "source": [
    "from modules.cleaning import clean_dataframe\n",
    "from modules.features import clustering, order_clusters"
   ]
  },
  {
   "cell_type": "code",
   "execution_count": 25,
   "id": "14ec3d53",
   "metadata": {},
   "outputs": [
    {
     "name": "stderr",
     "output_type": "stream",
     "text": [
      "/Users/garritwilson/Desktop/Portfolio Projects/clv_prediction/notebooks/../modules/cleaning.py:9: SettingWithCopyWarning: \n",
      "A value is trying to be set on a copy of a slice from a DataFrame.\n",
      "Try using .loc[row_indexer,col_indexer] = value instead\n",
      "\n",
      "See the caveats in the documentation: https://pandas.pydata.org/pandas-docs/stable/user_guide/indexing.html#returning-a-view-versus-a-copy\n",
      "  df[\"InvoiceDate\"] = pd.to_datetime(df[\"InvoiceDate\"])\n"
     ]
    }
   ],
   "source": [
    "final_df = clean_dataframe(final_df);"
   ]
  },
  {
   "cell_type": "code",
   "execution_count": 26,
   "id": "eecb964c",
   "metadata": {},
   "outputs": [
    {
     "name": "stdout",
     "output_type": "stream",
     "text": [
      "2016-10-04 00:00:00 2018-08-28 00:00:00\n"
     ]
    }
   ],
   "source": [
    "print(final_df.InvoiceDate.min(), final_df.InvoiceDate.max())"
   ]
  },
  {
   "cell_type": "code",
   "execution_count": 27,
   "id": "d0a95d64",
   "metadata": {},
   "outputs": [
    {
     "data": {
      "text/html": [
       "<div>\n",
       "<style scoped>\n",
       "    .dataframe tbody tr th:only-of-type {\n",
       "        vertical-align: middle;\n",
       "    }\n",
       "\n",
       "    .dataframe tbody tr th {\n",
       "        vertical-align: top;\n",
       "    }\n",
       "\n",
       "    .dataframe thead th {\n",
       "        text-align: right;\n",
       "    }\n",
       "</style>\n",
       "<table border=\"1\" class=\"dataframe\">\n",
       "  <thead>\n",
       "    <tr style=\"text-align: right;\">\n",
       "      <th></th>\n",
       "      <th>CustomerID</th>\n",
       "      <th>BuyCount</th>\n",
       "      <th>InvoiceDate</th>\n",
       "      <th>Revenue</th>\n",
       "    </tr>\n",
       "  </thead>\n",
       "  <tbody>\n",
       "    <tr>\n",
       "      <th>16</th>\n",
       "      <td>000e943451fc2788ca6ac98a682f2f49</td>\n",
       "      <td>4</td>\n",
       "      <td>2017-04-20</td>\n",
       "      <td>26.80</td>\n",
       "    </tr>\n",
       "    <tr>\n",
       "      <th>17</th>\n",
       "      <td>000e943451fc2788ca6ac98a682f2f49</td>\n",
       "      <td>4</td>\n",
       "      <td>2017-04-20</td>\n",
       "      <td>26.80</td>\n",
       "    </tr>\n",
       "    <tr>\n",
       "      <th>18</th>\n",
       "      <td>000e943451fc2788ca6ac98a682f2f49</td>\n",
       "      <td>4</td>\n",
       "      <td>2017-04-20</td>\n",
       "      <td>26.80</td>\n",
       "    </tr>\n",
       "    <tr>\n",
       "      <th>19</th>\n",
       "      <td>000e943451fc2788ca6ac98a682f2f49</td>\n",
       "      <td>4</td>\n",
       "      <td>2017-04-20</td>\n",
       "      <td>25.83</td>\n",
       "    </tr>\n",
       "    <tr>\n",
       "      <th>25</th>\n",
       "      <td>001051abfcfdbed9f87b4266213a5df1</td>\n",
       "      <td>3</td>\n",
       "      <td>2018-05-30</td>\n",
       "      <td>13.35</td>\n",
       "    </tr>\n",
       "  </tbody>\n",
       "</table>\n",
       "</div>"
      ],
      "text/plain": [
       "                          CustomerID  BuyCount InvoiceDate  Revenue\n",
       "16  000e943451fc2788ca6ac98a682f2f49         4  2017-04-20    26.80\n",
       "17  000e943451fc2788ca6ac98a682f2f49         4  2017-04-20    26.80\n",
       "18  000e943451fc2788ca6ac98a682f2f49         4  2017-04-20    26.80\n",
       "19  000e943451fc2788ca6ac98a682f2f49         4  2017-04-20    25.83\n",
       "25  001051abfcfdbed9f87b4266213a5df1         3  2018-05-30    13.35"
      ]
     },
     "execution_count": 27,
     "metadata": {},
     "output_type": "execute_result"
    }
   ],
   "source": [
    "final_df.head()"
   ]
  },
  {
   "cell_type": "code",
   "execution_count": 28,
   "id": "10a844f2",
   "metadata": {},
   "outputs": [],
   "source": [
    "data = final_df.copy()"
   ]
  },
  {
   "cell_type": "code",
   "execution_count": 56,
   "id": "87bad93e",
   "metadata": {},
   "outputs": [],
   "source": [
    "tmp = data.groupby(\"CustomerID\").agg({\"InvoiceDate\": [\"min\", \"max\"]}).reset_index()\n",
    "tmp.columns = ['_'.join(col).lower() for col in tmp.columns]"
   ]
  },
  {
   "cell_type": "code",
   "execution_count": 57,
   "id": "cef84310",
   "metadata": {},
   "outputs": [
    {
     "data": {
      "text/html": [
       "<div>\n",
       "<style scoped>\n",
       "    .dataframe tbody tr th:only-of-type {\n",
       "        vertical-align: middle;\n",
       "    }\n",
       "\n",
       "    .dataframe tbody tr th {\n",
       "        vertical-align: top;\n",
       "    }\n",
       "\n",
       "    .dataframe thead th {\n",
       "        text-align: right;\n",
       "    }\n",
       "</style>\n",
       "<table border=\"1\" class=\"dataframe\">\n",
       "  <thead>\n",
       "    <tr style=\"text-align: right;\">\n",
       "      <th></th>\n",
       "      <th>customerid_</th>\n",
       "      <th>invoicedate_min</th>\n",
       "      <th>invoicedate_max</th>\n",
       "    </tr>\n",
       "  </thead>\n",
       "  <tbody>\n",
       "    <tr>\n",
       "      <th>0</th>\n",
       "      <td>000e943451fc2788ca6ac98a682f2f49</td>\n",
       "      <td>2017-04-20</td>\n",
       "      <td>2017-04-20</td>\n",
       "    </tr>\n",
       "    <tr>\n",
       "      <th>1</th>\n",
       "      <td>001051abfcfdbed9f87b4266213a5df1</td>\n",
       "      <td>2018-05-30</td>\n",
       "      <td>2018-05-30</td>\n",
       "    </tr>\n",
       "    <tr>\n",
       "      <th>2</th>\n",
       "      <td>004937d0f9d6ce15c2830c00c2f482e5</td>\n",
       "      <td>2018-01-27</td>\n",
       "      <td>2018-01-27</td>\n",
       "    </tr>\n",
       "    <tr>\n",
       "      <th>3</th>\n",
       "      <td>0049e8442c2a3e4a8d1ff5a9549abd53</td>\n",
       "      <td>2017-08-28</td>\n",
       "      <td>2017-08-28</td>\n",
       "    </tr>\n",
       "    <tr>\n",
       "      <th>4</th>\n",
       "      <td>006a5d6b5f648f3811fd4fa94d93a67c</td>\n",
       "      <td>2017-05-30</td>\n",
       "      <td>2017-05-30</td>\n",
       "    </tr>\n",
       "    <tr>\n",
       "      <th>...</th>\n",
       "      <td>...</td>\n",
       "      <td>...</td>\n",
       "      <td>...</td>\n",
       "    </tr>\n",
       "    <tr>\n",
       "      <th>2956</th>\n",
       "      <td>ff4512b27e3f8d9774f6e01ceb951035</td>\n",
       "      <td>2018-06-07</td>\n",
       "      <td>2018-06-07</td>\n",
       "    </tr>\n",
       "    <tr>\n",
       "      <th>2957</th>\n",
       "      <td>ff7b32d3da9ed589c9695bc56021b10d</td>\n",
       "      <td>2017-02-07</td>\n",
       "      <td>2017-02-07</td>\n",
       "    </tr>\n",
       "    <tr>\n",
       "      <th>2958</th>\n",
       "      <td>ffbf82fe167e7156e06fc1778d6b1cea</td>\n",
       "      <td>2017-08-05</td>\n",
       "      <td>2017-08-05</td>\n",
       "    </tr>\n",
       "    <tr>\n",
       "      <th>2959</th>\n",
       "      <td>fff3a5c6d542d52b05f7e4518adf996e</td>\n",
       "      <td>2018-02-18</td>\n",
       "      <td>2018-02-18</td>\n",
       "    </tr>\n",
       "    <tr>\n",
       "      <th>2960</th>\n",
       "      <td>fffecc9f79fd8c764f843e9951b11341</td>\n",
       "      <td>2018-03-29</td>\n",
       "      <td>2018-03-29</td>\n",
       "    </tr>\n",
       "  </tbody>\n",
       "</table>\n",
       "<p>2961 rows × 3 columns</p>\n",
       "</div>"
      ],
      "text/plain": [
       "                           customerid_ invoicedate_min invoicedate_max\n",
       "0     000e943451fc2788ca6ac98a682f2f49      2017-04-20      2017-04-20\n",
       "1     001051abfcfdbed9f87b4266213a5df1      2018-05-30      2018-05-30\n",
       "2     004937d0f9d6ce15c2830c00c2f482e5      2018-01-27      2018-01-27\n",
       "3     0049e8442c2a3e4a8d1ff5a9549abd53      2017-08-28      2017-08-28\n",
       "4     006a5d6b5f648f3811fd4fa94d93a67c      2017-05-30      2017-05-30\n",
       "...                                ...             ...             ...\n",
       "2956  ff4512b27e3f8d9774f6e01ceb951035      2018-06-07      2018-06-07\n",
       "2957  ff7b32d3da9ed589c9695bc56021b10d      2017-02-07      2017-02-07\n",
       "2958  ffbf82fe167e7156e06fc1778d6b1cea      2017-08-05      2017-08-05\n",
       "2959  fff3a5c6d542d52b05f7e4518adf996e      2018-02-18      2018-02-18\n",
       "2960  fffecc9f79fd8c764f843e9951b11341      2018-03-29      2018-03-29\n",
       "\n",
       "[2961 rows x 3 columns]"
      ]
     },
     "execution_count": 57,
     "metadata": {},
     "output_type": "execute_result"
    }
   ],
   "source": [
    "tmp"
   ]
  },
  {
   "cell_type": "code",
   "execution_count": 59,
   "id": "a52ceb3c",
   "metadata": {},
   "outputs": [
    {
     "data": {
      "text/html": [
       "<div>\n",
       "<style scoped>\n",
       "    .dataframe tbody tr th:only-of-type {\n",
       "        vertical-align: middle;\n",
       "    }\n",
       "\n",
       "    .dataframe tbody tr th {\n",
       "        vertical-align: top;\n",
       "    }\n",
       "\n",
       "    .dataframe thead th {\n",
       "        text-align: right;\n",
       "    }\n",
       "</style>\n",
       "<table border=\"1\" class=\"dataframe\">\n",
       "  <thead>\n",
       "    <tr style=\"text-align: right;\">\n",
       "      <th></th>\n",
       "      <th>customerid_</th>\n",
       "      <th>invoicedate_min</th>\n",
       "      <th>invoicedate_max</th>\n",
       "    </tr>\n",
       "  </thead>\n",
       "  <tbody>\n",
       "    <tr>\n",
       "      <th>0</th>\n",
       "      <td>000e943451fc2788ca6ac98a682f2f49</td>\n",
       "      <td>2017-04-20</td>\n",
       "      <td>2017-04-20</td>\n",
       "    </tr>\n",
       "    <tr>\n",
       "      <th>1</th>\n",
       "      <td>001051abfcfdbed9f87b4266213a5df1</td>\n",
       "      <td>2018-05-30</td>\n",
       "      <td>2018-05-30</td>\n",
       "    </tr>\n",
       "    <tr>\n",
       "      <th>2</th>\n",
       "      <td>004937d0f9d6ce15c2830c00c2f482e5</td>\n",
       "      <td>2018-01-27</td>\n",
       "      <td>2018-01-27</td>\n",
       "    </tr>\n",
       "    <tr>\n",
       "      <th>3</th>\n",
       "      <td>0049e8442c2a3e4a8d1ff5a9549abd53</td>\n",
       "      <td>2017-08-28</td>\n",
       "      <td>2017-08-28</td>\n",
       "    </tr>\n",
       "    <tr>\n",
       "      <th>4</th>\n",
       "      <td>006a5d6b5f648f3811fd4fa94d93a67c</td>\n",
       "      <td>2017-05-30</td>\n",
       "      <td>2017-05-30</td>\n",
       "    </tr>\n",
       "    <tr>\n",
       "      <th>...</th>\n",
       "      <td>...</td>\n",
       "      <td>...</td>\n",
       "      <td>...</td>\n",
       "    </tr>\n",
       "    <tr>\n",
       "      <th>2956</th>\n",
       "      <td>ff4512b27e3f8d9774f6e01ceb951035</td>\n",
       "      <td>2018-06-07</td>\n",
       "      <td>2018-06-07</td>\n",
       "    </tr>\n",
       "    <tr>\n",
       "      <th>2957</th>\n",
       "      <td>ff7b32d3da9ed589c9695bc56021b10d</td>\n",
       "      <td>2017-02-07</td>\n",
       "      <td>2017-02-07</td>\n",
       "    </tr>\n",
       "    <tr>\n",
       "      <th>2958</th>\n",
       "      <td>ffbf82fe167e7156e06fc1778d6b1cea</td>\n",
       "      <td>2017-08-05</td>\n",
       "      <td>2017-08-05</td>\n",
       "    </tr>\n",
       "    <tr>\n",
       "      <th>2959</th>\n",
       "      <td>fff3a5c6d542d52b05f7e4518adf996e</td>\n",
       "      <td>2018-02-18</td>\n",
       "      <td>2018-02-18</td>\n",
       "    </tr>\n",
       "    <tr>\n",
       "      <th>2960</th>\n",
       "      <td>fffecc9f79fd8c764f843e9951b11341</td>\n",
       "      <td>2018-03-29</td>\n",
       "      <td>2018-03-29</td>\n",
       "    </tr>\n",
       "  </tbody>\n",
       "</table>\n",
       "<p>2961 rows × 3 columns</p>\n",
       "</div>"
      ],
      "text/plain": [
       "                           customerid_ invoicedate_min invoicedate_max\n",
       "0     000e943451fc2788ca6ac98a682f2f49      2017-04-20      2017-04-20\n",
       "1     001051abfcfdbed9f87b4266213a5df1      2018-05-30      2018-05-30\n",
       "2     004937d0f9d6ce15c2830c00c2f482e5      2018-01-27      2018-01-27\n",
       "3     0049e8442c2a3e4a8d1ff5a9549abd53      2017-08-28      2017-08-28\n",
       "4     006a5d6b5f648f3811fd4fa94d93a67c      2017-05-30      2017-05-30\n",
       "...                                ...             ...             ...\n",
       "2956  ff4512b27e3f8d9774f6e01ceb951035      2018-06-07      2018-06-07\n",
       "2957  ff7b32d3da9ed589c9695bc56021b10d      2017-02-07      2017-02-07\n",
       "2958  ffbf82fe167e7156e06fc1778d6b1cea      2017-08-05      2017-08-05\n",
       "2959  fff3a5c6d542d52b05f7e4518adf996e      2018-02-18      2018-02-18\n",
       "2960  fffecc9f79fd8c764f843e9951b11341      2018-03-29      2018-03-29\n",
       "\n",
       "[2961 rows x 3 columns]"
      ]
     },
     "execution_count": 59,
     "metadata": {},
     "output_type": "execute_result"
    }
   ],
   "source": [
    "tmp.loc[tmp.invoicedate_min == tmp.invoicedate_max]"
   ]
  },
  {
   "cell_type": "code",
   "execution_count": null,
   "id": "e2a81b7f",
   "metadata": {},
   "outputs": [],
   "source": []
  },
  {
   "cell_type": "code",
   "execution_count": null,
   "id": "56a530fd",
   "metadata": {},
   "outputs": [],
   "source": []
  },
  {
   "cell_type": "code",
   "execution_count": null,
   "id": "324a40cd",
   "metadata": {},
   "outputs": [],
   "source": []
  },
  {
   "cell_type": "code",
   "execution_count": 29,
   "id": "7a4ae6c4",
   "metadata": {},
   "outputs": [],
   "source": [
    "## making 3 - months and 6 - months dataframes\n",
    "data_3m = data[(data.InvoiceDate.dt.date < date(2018,2,28))].reset_index()\n",
    "data_6m = data[(data.InvoiceDate.dt.date >= date(2018,2,28))].reset_index()\n",
    "\n",
    "data_3m.drop(\"index\", axis= 1, inplace= True)\n",
    "data_6m.drop(\"index\", axis= 1, inplace= True)"
   ]
  },
  {
   "cell_type": "code",
   "execution_count": 41,
   "id": "1ce310cf",
   "metadata": {},
   "outputs": [
    {
     "data": {
      "text/plain": [
       "0"
      ]
     },
     "execution_count": 41,
     "metadata": {},
     "output_type": "execute_result"
    }
   ],
   "source": [
    "id_list = list(data_3m.CustomerID)\n",
    "\n",
    "x= 0\n",
    "\n",
    "for i in list(data_6m.CustomerID):\n",
    "    if i in id_list:\n",
    "        x += 1\n",
    "        \n",
    "x"
   ]
  },
  {
   "cell_type": "code",
   "execution_count": 30,
   "id": "5db4531d",
   "metadata": {},
   "outputs": [],
   "source": [
    "dataframe = data_3m.copy()"
   ]
  },
  {
   "cell_type": "code",
   "execution_count": 31,
   "id": "e960419e",
   "metadata": {},
   "outputs": [],
   "source": [
    "user_df = pd.DataFrame(dataframe.CustomerID.unique(), columns= [\"CustomerID\"])\n",
    "\n",
    "## creating Recency Metric\n",
    "recency_df = pd.DataFrame(dataframe.groupby(\"CustomerID\")[\"InvoiceDate\"].max().reset_index())\n",
    "recency_df.columns = [\"CustomerID\", \"LatestPurchase\"]\n",
    "\n",
    "recency_df[\"Recency\"] = (dataframe[\"InvoiceDate\"].max() - recency_df[\"LatestPurchase\"]).dt.days\n",
    "recency_df.drop(\"LatestPurchase\", axis= 1, inplace= True)\n",
    "\n",
    "recency_df = clustering(data= recency_df,\n",
    "                        k= 3,\n",
    "                        column=\"Recency\")\n",
    "\n",
    "recency_df = order_clusters(data= recency_df,\n",
    "                            column= \"RecencyCluster\",\n",
    "                            target= \"Recency\",\n",
    "                            ascending= False)\n",
    "\n",
    "user_df = pd.merge(recency_df, user_df, on= \"CustomerID\") \n",
    "\n",
    "## creating Frequency Metric\n",
    "frequency_df = pd.DataFrame(dataframe.groupby(\"CustomerID\")[\"InvoiceDate\"].count().reset_index())\n",
    "frequency_df.columns = [\"CustomerID\", \"Frequency\"]\n",
    "\n",
    "frequency_df = clustering(data= frequency_df,\n",
    "                          k= 5,\n",
    "                          column= \"Frequency\")\n",
    "\n",
    "frequency_df = order_clusters(data= frequency_df,\n",
    "                              column= \"FrequencyCluster\",\n",
    "                              target= \"Frequency\",\n",
    "                              ascending= True)\n",
    "\n",
    "user_df = pd.merge(frequency_df, user_df, on= \"CustomerID\")\n",
    "\n",
    "## creating Revenue Metric\n",
    "revenue_df = pd.DataFrame(dataframe.groupby(\"CustomerID\")[\"Revenue\"].sum().reset_index())\n",
    "revenue_df.columns = [\"CustomerID\", \"Revenue\"]\n",
    "\n",
    "revenue_df = clustering(data= revenue_df,\n",
    "                        k= 5,\n",
    "                        column= \"Revenue\")\n",
    "\n",
    "revenue_df = order_clusters(data= revenue_df,\n",
    "                            column= \"RevenueCluster\",\n",
    "                            target= \"Revenue\",\n",
    "                            ascending= True)\n",
    "\n",
    "user_df = pd.merge(revenue_df, user_df, on= \"CustomerID\")\n",
    "\n",
    "user_df[\"OverallScore\"] = user_df[\"RecencyCluster\"] + user_df[\"FrequencyCluster\"] + user_df[\"RevenueCluster\"]"
   ]
  },
  {
   "cell_type": "code",
   "execution_count": 32,
   "id": "26b1411f",
   "metadata": {},
   "outputs": [
    {
     "data": {
      "text/html": [
       "<div>\n",
       "<style scoped>\n",
       "    .dataframe tbody tr th:only-of-type {\n",
       "        vertical-align: middle;\n",
       "    }\n",
       "\n",
       "    .dataframe tbody tr th {\n",
       "        vertical-align: top;\n",
       "    }\n",
       "\n",
       "    .dataframe thead th {\n",
       "        text-align: right;\n",
       "    }\n",
       "</style>\n",
       "<table border=\"1\" class=\"dataframe\">\n",
       "  <thead>\n",
       "    <tr style=\"text-align: right;\">\n",
       "      <th></th>\n",
       "      <th>CustomerID</th>\n",
       "      <th>Revenue</th>\n",
       "      <th>RevenueCluster</th>\n",
       "      <th>Frequency</th>\n",
       "      <th>FrequencyCluster</th>\n",
       "      <th>Recency</th>\n",
       "      <th>RecencyCluster</th>\n",
       "      <th>OverallScore</th>\n",
       "    </tr>\n",
       "  </thead>\n",
       "  <tbody>\n",
       "    <tr>\n",
       "      <th>0</th>\n",
       "      <td>000e943451fc2788ca6ac98a682f2f49</td>\n",
       "      <td>106.23</td>\n",
       "      <td>0</td>\n",
       "      <td>4</td>\n",
       "      <td>4</td>\n",
       "      <td>313</td>\n",
       "      <td>1</td>\n",
       "      <td>5</td>\n",
       "    </tr>\n",
       "    <tr>\n",
       "      <th>1</th>\n",
       "      <td>004937d0f9d6ce15c2830c00c2f482e5</td>\n",
       "      <td>70.91</td>\n",
       "      <td>0</td>\n",
       "      <td>2</td>\n",
       "      <td>0</td>\n",
       "      <td>31</td>\n",
       "      <td>2</td>\n",
       "      <td>2</td>\n",
       "    </tr>\n",
       "    <tr>\n",
       "      <th>2</th>\n",
       "      <td>006a5d6b5f648f3811fd4fa94d93a67c</td>\n",
       "      <td>76.94</td>\n",
       "      <td>0</td>\n",
       "      <td>2</td>\n",
       "      <td>0</td>\n",
       "      <td>273</td>\n",
       "      <td>1</td>\n",
       "      <td>1</td>\n",
       "    </tr>\n",
       "    <tr>\n",
       "      <th>3</th>\n",
       "      <td>008def95c3ec7f58d2cc8f2b1d2c3feb</td>\n",
       "      <td>51.14</td>\n",
       "      <td>0</td>\n",
       "      <td>2</td>\n",
       "      <td>0</td>\n",
       "      <td>190</td>\n",
       "      <td>0</td>\n",
       "      <td>0</td>\n",
       "    </tr>\n",
       "    <tr>\n",
       "      <th>4</th>\n",
       "      <td>00a860aeb15fb205efdb0c689d8f9c6a</td>\n",
       "      <td>73.34</td>\n",
       "      <td>0</td>\n",
       "      <td>2</td>\n",
       "      <td>0</td>\n",
       "      <td>175</td>\n",
       "      <td>0</td>\n",
       "      <td>0</td>\n",
       "    </tr>\n",
       "  </tbody>\n",
       "</table>\n",
       "</div>"
      ],
      "text/plain": [
       "                         CustomerID  Revenue  RevenueCluster  Frequency  \\\n",
       "0  000e943451fc2788ca6ac98a682f2f49   106.23               0          4   \n",
       "1  004937d0f9d6ce15c2830c00c2f482e5    70.91               0          2   \n",
       "2  006a5d6b5f648f3811fd4fa94d93a67c    76.94               0          2   \n",
       "3  008def95c3ec7f58d2cc8f2b1d2c3feb    51.14               0          2   \n",
       "4  00a860aeb15fb205efdb0c689d8f9c6a    73.34               0          2   \n",
       "\n",
       "   FrequencyCluster  Recency  RecencyCluster  OverallScore  \n",
       "0                 4      313               1             5  \n",
       "1                 0       31               2             2  \n",
       "2                 0      273               1             1  \n",
       "3                 0      190               0             0  \n",
       "4                 0      175               0             0  "
      ]
     },
     "execution_count": 32,
     "metadata": {},
     "output_type": "execute_result"
    }
   ],
   "source": [
    "user_df.head()"
   ]
  },
  {
   "cell_type": "code",
   "execution_count": 33,
   "id": "c2aa31c7",
   "metadata": {},
   "outputs": [],
   "source": [
    "prediction_df = user_df.copy()"
   ]
  },
  {
   "cell_type": "markdown",
   "id": "deffc8ec",
   "metadata": {},
   "source": [
    "## Calculating 6 - months revenue"
   ]
  },
  {
   "cell_type": "code",
   "execution_count": 34,
   "id": "93082428",
   "metadata": {},
   "outputs": [],
   "source": [
    "data_6m = data_6m.groupby(\"CustomerID\")[\"Revenue\"].sum().reset_index()\n",
    "data_6m.columns = [\"CustomerID\", \"CLV\"]"
   ]
  },
  {
   "cell_type": "code",
   "execution_count": 35,
   "id": "3823fc24",
   "metadata": {},
   "outputs": [],
   "source": [
    "target_df = data_6m.copy()"
   ]
  },
  {
   "cell_type": "code",
   "execution_count": 36,
   "id": "0cc556d5",
   "metadata": {},
   "outputs": [
    {
     "data": {
      "text/html": [
       "<div>\n",
       "<style scoped>\n",
       "    .dataframe tbody tr th:only-of-type {\n",
       "        vertical-align: middle;\n",
       "    }\n",
       "\n",
       "    .dataframe tbody tr th {\n",
       "        vertical-align: top;\n",
       "    }\n",
       "\n",
       "    .dataframe thead th {\n",
       "        text-align: right;\n",
       "    }\n",
       "</style>\n",
       "<table border=\"1\" class=\"dataframe\">\n",
       "  <thead>\n",
       "    <tr style=\"text-align: right;\">\n",
       "      <th></th>\n",
       "      <th>CustomerID</th>\n",
       "      <th>CLV</th>\n",
       "    </tr>\n",
       "  </thead>\n",
       "  <tbody>\n",
       "    <tr>\n",
       "      <th>0</th>\n",
       "      <td>001051abfcfdbed9f87b4266213a5df1</td>\n",
       "      <td>65.20</td>\n",
       "    </tr>\n",
       "    <tr>\n",
       "      <th>1</th>\n",
       "      <td>007b18ac9b8a627f259ea78aed981315</td>\n",
       "      <td>43.13</td>\n",
       "    </tr>\n",
       "    <tr>\n",
       "      <th>2</th>\n",
       "      <td>00838729460c2110a0bd330a4bb9b332</td>\n",
       "      <td>55.13</td>\n",
       "    </tr>\n",
       "    <tr>\n",
       "      <th>3</th>\n",
       "      <td>0096dd625383caa8afe2c028018bf4ce</td>\n",
       "      <td>521.37</td>\n",
       "    </tr>\n",
       "    <tr>\n",
       "      <th>4</th>\n",
       "      <td>0097c5abeb126a90646370f4a1cf3d93</td>\n",
       "      <td>148.68</td>\n",
       "    </tr>\n",
       "  </tbody>\n",
       "</table>\n",
       "</div>"
      ],
      "text/plain": [
       "                         CustomerID     CLV\n",
       "0  001051abfcfdbed9f87b4266213a5df1   65.20\n",
       "1  007b18ac9b8a627f259ea78aed981315   43.13\n",
       "2  00838729460c2110a0bd330a4bb9b332   55.13\n",
       "3  0096dd625383caa8afe2c028018bf4ce  521.37\n",
       "4  0097c5abeb126a90646370f4a1cf3d93  148.68"
      ]
     },
     "execution_count": 36,
     "metadata": {},
     "output_type": "execute_result"
    }
   ],
   "source": [
    "target_df.head()"
   ]
  },
  {
   "cell_type": "markdown",
   "id": "c31aed61",
   "metadata": {},
   "source": [
    "## Merging Dataframes"
   ]
  },
  {
   "cell_type": "code",
   "execution_count": 37,
   "id": "6205a518",
   "metadata": {},
   "outputs": [],
   "source": [
    "df_merged = pd.merge(prediction_df, target_df, left_on= \"CustomerID\", right_on= \"CustomerID\", how= \"left\")"
   ]
  },
  {
   "cell_type": "code",
   "execution_count": 38,
   "id": "6e3a2a43",
   "metadata": {},
   "outputs": [
    {
     "data": {
      "text/html": [
       "<div>\n",
       "<style scoped>\n",
       "    .dataframe tbody tr th:only-of-type {\n",
       "        vertical-align: middle;\n",
       "    }\n",
       "\n",
       "    .dataframe tbody tr th {\n",
       "        vertical-align: top;\n",
       "    }\n",
       "\n",
       "    .dataframe thead th {\n",
       "        text-align: right;\n",
       "    }\n",
       "</style>\n",
       "<table border=\"1\" class=\"dataframe\">\n",
       "  <thead>\n",
       "    <tr style=\"text-align: right;\">\n",
       "      <th></th>\n",
       "      <th>CustomerID</th>\n",
       "      <th>Revenue</th>\n",
       "      <th>RevenueCluster</th>\n",
       "      <th>Frequency</th>\n",
       "      <th>FrequencyCluster</th>\n",
       "      <th>Recency</th>\n",
       "      <th>RecencyCluster</th>\n",
       "      <th>OverallScore</th>\n",
       "      <th>CLV</th>\n",
       "    </tr>\n",
       "  </thead>\n",
       "  <tbody>\n",
       "    <tr>\n",
       "      <th>0</th>\n",
       "      <td>000e943451fc2788ca6ac98a682f2f49</td>\n",
       "      <td>106.23</td>\n",
       "      <td>0</td>\n",
       "      <td>4</td>\n",
       "      <td>4</td>\n",
       "      <td>313</td>\n",
       "      <td>1</td>\n",
       "      <td>5</td>\n",
       "      <td>NaN</td>\n",
       "    </tr>\n",
       "    <tr>\n",
       "      <th>1</th>\n",
       "      <td>004937d0f9d6ce15c2830c00c2f482e5</td>\n",
       "      <td>70.91</td>\n",
       "      <td>0</td>\n",
       "      <td>2</td>\n",
       "      <td>0</td>\n",
       "      <td>31</td>\n",
       "      <td>2</td>\n",
       "      <td>2</td>\n",
       "      <td>NaN</td>\n",
       "    </tr>\n",
       "    <tr>\n",
       "      <th>2</th>\n",
       "      <td>006a5d6b5f648f3811fd4fa94d93a67c</td>\n",
       "      <td>76.94</td>\n",
       "      <td>0</td>\n",
       "      <td>2</td>\n",
       "      <td>0</td>\n",
       "      <td>273</td>\n",
       "      <td>1</td>\n",
       "      <td>1</td>\n",
       "      <td>NaN</td>\n",
       "    </tr>\n",
       "    <tr>\n",
       "      <th>3</th>\n",
       "      <td>008def95c3ec7f58d2cc8f2b1d2c3feb</td>\n",
       "      <td>51.14</td>\n",
       "      <td>0</td>\n",
       "      <td>2</td>\n",
       "      <td>0</td>\n",
       "      <td>190</td>\n",
       "      <td>0</td>\n",
       "      <td>0</td>\n",
       "      <td>NaN</td>\n",
       "    </tr>\n",
       "    <tr>\n",
       "      <th>4</th>\n",
       "      <td>00a860aeb15fb205efdb0c689d8f9c6a</td>\n",
       "      <td>73.34</td>\n",
       "      <td>0</td>\n",
       "      <td>2</td>\n",
       "      <td>0</td>\n",
       "      <td>175</td>\n",
       "      <td>0</td>\n",
       "      <td>0</td>\n",
       "      <td>NaN</td>\n",
       "    </tr>\n",
       "  </tbody>\n",
       "</table>\n",
       "</div>"
      ],
      "text/plain": [
       "                         CustomerID  Revenue  RevenueCluster  Frequency  \\\n",
       "0  000e943451fc2788ca6ac98a682f2f49   106.23               0          4   \n",
       "1  004937d0f9d6ce15c2830c00c2f482e5    70.91               0          2   \n",
       "2  006a5d6b5f648f3811fd4fa94d93a67c    76.94               0          2   \n",
       "3  008def95c3ec7f58d2cc8f2b1d2c3feb    51.14               0          2   \n",
       "4  00a860aeb15fb205efdb0c689d8f9c6a    73.34               0          2   \n",
       "\n",
       "   FrequencyCluster  Recency  RecencyCluster  OverallScore  CLV  \n",
       "0                 4      313               1             5  NaN  \n",
       "1                 0       31               2             2  NaN  \n",
       "2                 0      273               1             1  NaN  \n",
       "3                 0      190               0             0  NaN  \n",
       "4                 0      175               0             0  NaN  "
      ]
     },
     "execution_count": 38,
     "metadata": {},
     "output_type": "execute_result"
    }
   ],
   "source": [
    "df_merged.head()"
   ]
  },
  {
   "cell_type": "code",
   "execution_count": 39,
   "id": "ee43ee2b",
   "metadata": {},
   "outputs": [
    {
     "data": {
      "text/plain": [
       "(1916, 9)"
      ]
     },
     "execution_count": 39,
     "metadata": {},
     "output_type": "execute_result"
    }
   ],
   "source": [
    "df_merged.shape"
   ]
  },
  {
   "cell_type": "code",
   "execution_count": 40,
   "id": "4225fc67",
   "metadata": {},
   "outputs": [
    {
     "name": "stdout",
     "output_type": "stream",
     "text": [
      "<class 'pandas.core.frame.DataFrame'>\n",
      "Int64Index: 1916 entries, 0 to 1915\n",
      "Data columns (total 9 columns):\n",
      " #   Column            Non-Null Count  Dtype  \n",
      "---  ------            --------------  -----  \n",
      " 0   CustomerID        1916 non-null   object \n",
      " 1   Revenue           1916 non-null   float64\n",
      " 2   RevenueCluster    1916 non-null   int64  \n",
      " 3   Frequency         1916 non-null   int64  \n",
      " 4   FrequencyCluster  1916 non-null   int64  \n",
      " 5   Recency           1916 non-null   int64  \n",
      " 6   RecencyCluster    1916 non-null   int64  \n",
      " 7   OverallScore      1916 non-null   int64  \n",
      " 8   CLV               0 non-null      float64\n",
      "dtypes: float64(2), int64(6), object(1)\n",
      "memory usage: 149.7+ KB\n"
     ]
    }
   ],
   "source": [
    "df_merged.info()"
   ]
  },
  {
   "cell_type": "code",
   "execution_count": null,
   "id": "2789813b",
   "metadata": {},
   "outputs": [],
   "source": []
  }
 ],
 "metadata": {
  "kernelspec": {
   "display_name": "Python 3 (ipykernel)",
   "language": "python",
   "name": "python3"
  },
  "language_info": {
   "codemirror_mode": {
    "name": "ipython",
    "version": 3
   },
   "file_extension": ".py",
   "mimetype": "text/x-python",
   "name": "python",
   "nbconvert_exporter": "python",
   "pygments_lexer": "ipython3",
   "version": "3.8.12"
  },
  "toc": {
   "base_numbering": 1,
   "nav_menu": {},
   "number_sections": true,
   "sideBar": true,
   "skip_h1_title": false,
   "title_cell": "Table of Contents",
   "title_sidebar": "Contents",
   "toc_cell": false,
   "toc_position": {},
   "toc_section_display": true,
   "toc_window_display": false
  }
 },
 "nbformat": 4,
 "nbformat_minor": 5
}
